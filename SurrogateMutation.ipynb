{
 "cells": [
  {
   "cell_type": "markdown",
   "id": "4b9cbed7",
   "metadata": {},
   "source": [
    "# Chromosome Class"
   ]
  },
  {
   "cell_type": "code",
   "execution_count": 65,
   "id": "d971f4ba",
   "metadata": {},
   "outputs": [],
   "source": [
    "import json\n",
    "import numpy as np\n",
    "\n",
    "def string2array(string):\n",
    "    string = string.replace(\"[\", \"\").replace(\"]\", \"\")\n",
    "    rows = string.split(\"\\n\")\n",
    "    result = []\n",
    "    for r in rows:\n",
    "        result.append(np.fromstring(r, dtype=int, sep=' '))\n",
    "    return np.array(result)\n",
    "\n",
    "class Chromosome():\n",
    "    def __init__(self, width, height, init, mutate, fitness, behaviors):\n",
    "        self._width = width\n",
    "        self._height = height\n",
    "        \n",
    "        self._init_fn = init\n",
    "        self._mutate_fn = mutate\n",
    "        self._fitness_fn = fitness\n",
    "        self._behaviors_fn = behaviors\n",
    "        \n",
    "        self._genes = self._init_fn(self._width, self._height)\n",
    "        self._start_genes = self._genes.copy()\n",
    "        self._actions = []\n",
    "        self._fitness = -1\n",
    "        self._behaviors = []\n",
    "        \n",
    "    def clone(self):\n",
    "        c = Chromosome(self._width, self._height, self._init_fn, \n",
    "                       self._mutate_fn, self._fitness_fn, self._behaviors_fn)\n",
    "        c._genes = self._genes.copy()\n",
    "        c._start_genes = self._start_genes.copy()\n",
    "        c._actions = self._actions.copy()\n",
    "        c._fitness = self._fitness\n",
    "        c._behaviors = self._behaviors.copy()\n",
    "        return c\n",
    "    \n",
    "    def erase_history(self):\n",
    "        c = self.clone()\n",
    "        c._actions = []\n",
    "        c._start_genes = self._genes.copy()\n",
    "        return c\n",
    "    \n",
    "    def mutate(self, target):\n",
    "        c = self.clone()\n",
    "        c._fitness = -1\n",
    "        c._behaviors = []\n",
    "        \n",
    "        actions = self._mutate_fn(c._genes, target)\n",
    "        for act in actions:\n",
    "            act[\"behaviors\"] = c.behaviors()\n",
    "        c._actions.extend(actions)\n",
    "        \n",
    "        return c\n",
    "    \n",
    "    def behaviors(self):\n",
    "        if len(self._behaviors) == 0:\n",
    "            self._behaviors = self._behaviors_fn(self._genes, self._actions)\n",
    "        return self._behaviors\n",
    "    \n",
    "    def fitness(self):\n",
    "        if self._fitness < 0:\n",
    "            self._fitness = self._fitness_fn(self._genes, self._actions)\n",
    "        return self._fitness\n",
    "    \n",
    "    def save(self, file_name):\n",
    "        with open(file_name, 'w') as f:\n",
    "            temp = {\n",
    "                \"width\": self._width,\n",
    "                \"height\": self._height,\n",
    "                \"genes\": np.array2string(self._genes),\n",
    "                \"start\": np.array2string(self._start_genes),\n",
    "                \"actions\": self._actions,\n",
    "                \"fitness\": self._fitness,\n",
    "                \"behaviors\": self._behaviors,\n",
    "            }\n",
    "            f.write(json.dumps(temp))\n",
    "    \n",
    "    def load(self, file_name):\n",
    "        with open(file_name, 'r') as f:\n",
    "            temp = json.load(f)\n",
    "            self._width = temp[\"width\"]\n",
    "            self._height = temp[\"height\"]\n",
    "            self._genes = string2array(temp[\"genes\"])\n",
    "            self._start_genes = string2array(temp[\"start\"])\n",
    "            self._actions = temp[\"actions\"]\n",
    "            self._fitness = temp[\"fitness\"]\n",
    "            self._behaviors = temp[\"behaviors\"]"
   ]
  },
  {
   "cell_type": "markdown",
   "id": "d777f53a",
   "metadata": {},
   "source": [
    "# Conditional Mutator Network"
   ]
  },
  {
   "cell_type": "code",
   "execution_count": 76,
   "id": "d8a4e38f",
   "metadata": {},
   "outputs": [],
   "source": [
    "import numpy as np\n",
    "import torch\n",
    "from torch import nn\n",
    "import torch.nn.functional as F\n",
    "from tqdm.notebook import trange, tqdm\n",
    "\n",
    "class CMNN(nn.Module):\n",
    "    def __init__(self,size,length):\n",
    "        super(CMNN, self).__init__()\n",
    "        \n",
    "        self._nocond = length == 0\n",
    "        \n",
    "        self._conv1 = nn.Conv2d(1, 32, 3, padding='same')\n",
    "        self._max1 = nn.MaxPool2d(2)\n",
    "        self._conv2 = nn.Conv2d(32, 64, 3, padding='same')\n",
    "        self._max2 = nn.MaxPool2d(2)\n",
    "        self._conv3 = nn.Conv2d(64, 128, 3, padding='same')\n",
    "        input_values = int(size / 4 * size / 4 * 128  + length)\n",
    "        self._linear1 = nn.Linear(input_values, 256)\n",
    "        self._linear2 = nn.Linear(256, 3)\n",
    "        \n",
    "    def forward(self, x, t):\n",
    "        x = F.relu(self._max1(self._conv1(x)))\n",
    "        x = F.relu(self._max2(self._conv2(x)))\n",
    "        x = F.relu(self._conv3(x))\n",
    "        x = x.view(x.shape[0],-1)\n",
    "        if not self._nocond:\n",
    "            x = torch.cat([x, t], 1)\n",
    "        x = F.relu(self._linear1(x))\n",
    "        x = self._linear2(x)\n",
    "        return x\n",
    "    \n",
    "    def reset_parameters(self):\n",
    "        self._conv1.reset_parameters()\n",
    "        self._conv2.reset_parameters()\n",
    "        self._conv3.reset_parameters()\n",
    "        self._linear1.reset_parameters()\n",
    "        self._linear2.reset_parameters()\n",
    "\n",
    "def transform_input(level, position, size):\n",
    "    x,y=position[\"x\"],position[\"y\"]\n",
    "    cl = np.pad(level,size//2)\n",
    "    cl = cl[y:y+size,x:x+size]\n",
    "    return cl\n",
    "    \n",
    "def cmnn_mutate(model, level, size, target, epsilon, times=1):\n",
    "    actions = []\n",
    "    with torch.no_grad():\n",
    "        for i in range(times):\n",
    "            x,y=np.random.randint(level.shape[1]), np.random.randint(level.shape[0])\n",
    "            c_lvl = transform_input(level, {\"x\":x, \"y\":y}, size)\n",
    "            if np.random.random() < epsilon:\n",
    "                value = np.random.randint(3)\n",
    "            else:\n",
    "                values = model(torch.tensor(c_lvl.copy().reshape(1,1,size,size)).float(),\\\n",
    "                           torch.tensor(target.copy().reshape(1,-1)).float())\n",
    "                values = F.softmax(values, dim=1).numpy()\n",
    "                value = np.random.choice([0,1,2], p=values.flatten())\n",
    "#                 value = values.argmax().item()\n",
    "            if value > 0:\n",
    "                level[y][x] = value - 1\n",
    "            actions.append({\"x\": int(x), \"y\": int(y), \"action\": int(value)})\n",
    "    return actions\n",
    "\n",
    "def extract_init_data(archive, init, fitness, size, portion, repeats = 1):\n",
    "    levels = []\n",
    "    targets = []\n",
    "    actions = []\n",
    "    keys = archive.keys()\n",
    "    for k in keys:\n",
    "        c = archive.get(k)\n",
    "        target = np.array(k) / 10.0\n",
    "        for i in range(repeats):\n",
    "            level = init(c._width, c._height)\n",
    "            while fitness(level, None) >= c.fitness():\n",
    "                level = init(c._width, c._height)\n",
    "            pos = []\n",
    "            for x in range(c._width):\n",
    "                for y in range(c._height):\n",
    "                    pos.append({\"x\": x, \"y\": y})\n",
    "            np.random.shuffle(pos)\n",
    "            for p in pos:\n",
    "                cl = transform_input(level, p, size)\n",
    "                levels.append(cl)\n",
    "                targets.append(np.array(target) / 10.0)\n",
    "                if c._genes[p[\"y\"]][p[\"x\"]] == level[p[\"y\"]][p[\"x\"]]:\n",
    "                    actions.append(0)\n",
    "                else:\n",
    "                    actions.append(c._genes[p[\"y\"]][p[\"x\"]] + 1)\n",
    "                level[p[\"y\"]][p[\"x\"]] = c._genes[p[\"y\"]][p[\"x\"]]\n",
    "                if abs(level - c._genes).sum() == 0:\n",
    "                    break\n",
    "    return np.array(levels), np.array(targets), np.array(actions)\n",
    "\n",
    "def extract_inbet_data(archive, init, fitness, size, portion, repeats = 1):\n",
    "    levels = []\n",
    "    targets = []\n",
    "    actions = []\n",
    "    keys = archive.keys()\n",
    "    for k in keys:\n",
    "        c = archive.get(k)\n",
    "        target = np.array(k) / 10.0\n",
    "        for i in range(repeats):\n",
    "            level = c._start_genes.copy()\n",
    "            pos = []\n",
    "            for x in range(c._width):\n",
    "                for y in range(c._height):\n",
    "                    pos.append({\"x\": x, \"y\": y})\n",
    "            np.random.shuffle(pos)\n",
    "            for p in pos:\n",
    "                cl = transform_input(level, p, size)\n",
    "                levels.append(cl)\n",
    "                targets.append(np.array(target) / 10.0)\n",
    "                if c._genes[p[\"y\"]][p[\"x\"]] == level[p[\"y\"]][p[\"x\"]]:\n",
    "                    actions.append(0)\n",
    "                else:\n",
    "                    actions.append(c._genes[p[\"y\"]][p[\"x\"]] + 1)\n",
    "                level[p[\"y\"]][p[\"x\"]] = c._genes[p[\"y\"]][p[\"x\"]]\n",
    "                if abs(level - c._genes).sum() == 0:\n",
    "                    break\n",
    "    return np.array(levels), np.array(targets), np.array(actions)\n",
    "\n",
    "def extract_traj_data(archive, init, fitness, size, porition, subsets = 1):\n",
    "    levels = []\n",
    "    targets = []\n",
    "    actions = []\n",
    "    keys = archive.keys()\n",
    "    for k in keys:\n",
    "        c = archive.get(k)\n",
    "        target = np.array(k) / 10.0\n",
    "        level = c._start_genes.copy()\n",
    "        if len(c._actions) == 0:\n",
    "            continue\n",
    "        interval = max(1,int(len(c._actions)/subsets+0.5))\n",
    "        for i in range(0,len(c._actions),interval):\n",
    "            targ_index = i + interval\n",
    "            for act in c._actions[0:targ_index]:\n",
    "                cl = transform_input(level, act, size)\n",
    "                levels.append(cl)\n",
    "                targets.append(np.array(act[\"behaviors\"]) / 10.0)\n",
    "                actions.append(act[\"action\"])\n",
    "    return np.array(levels), np.array(targets), np.array(actions)\n",
    "        \n",
    "def cmnn_train(model, optimizer, archive, init, fitness, extract, size, portion, extract_value, epochs, batch,\n",
    "               t_lvls, t_ts, t_acts):\n",
    "    loss_fn = nn.CrossEntropyLoss()\n",
    "    levels, targets, actions = extract(archive, init, fitness, size, portion, extract_value)\n",
    "    levels, targets, actions = np.concatenate((levels, t_lvls)), np.concatenate((targets, t_ts)),\\\n",
    "                               np.concatenate((actions, t_acts))\n",
    "    epbar = trange(epochs, leave=False)\n",
    "    for epoch in epbar:\n",
    "        order = np.array(range(len(actions)))\n",
    "        np.random.shuffle(order)\n",
    "        in_lvls, in_t, in_act = levels[order], targets[order], actions[order]\n",
    "        pbar = trange(len(in_act) - batch, leave=False)\n",
    "        total_loss = 0\n",
    "        for i in pbar:\n",
    "            batch_lvls, batch_t, batch_act = in_lvls[i:i+batch], in_t[i:i+batch], in_act[i:i+batch]\n",
    "            optimizer.zero_grad()\n",
    "            \n",
    "            batch_output = model(torch.tensor(batch_lvls.reshape(batch, 1, size, size)).float(),\\\n",
    "                  torch.tensor(batch_t.reshape(batch, batch_t.shape[1])).float())\n",
    "            loss = loss_fn(batch_output, torch.tensor(batch_act).long())\n",
    "            loss.backward()\n",
    "            \n",
    "            optimizer.step()\n",
    "            \n",
    "            total_loss += loss.item()\n",
    "            pbar.set_postfix_str(f\"Loss: {total_loss / (i + 1.0)}\")\n",
    "        if total_loss == 0:\n",
    "            epbar.close()\n",
    "            break\n",
    "    return levels, targets, actions\n",
    "\n",
    "def extract_es_init_data(pop, init, fitness, size, portion, repeats = 1):\n",
    "    levels = []\n",
    "    targets = []\n",
    "    actions = []\n",
    "    indeces = list(range(portion))\n",
    "    for i in indeces:\n",
    "        c = pop.get(-i-1)\n",
    "        target = np.array(c.behaviors()) / 10.0\n",
    "        for i in range(repeats):\n",
    "            level = init(c._width, c._height)\n",
    "            while fitness(level, None) >= c.fitness():\n",
    "                level = init(c._width, c._height)\n",
    "            pos = []\n",
    "            for x in range(c._width):\n",
    "                for y in range(c._height):\n",
    "                    pos.append({\"x\": x, \"y\": y})\n",
    "            np.random.shuffle(pos)\n",
    "            for p in pos:\n",
    "                cl = transform_input(level, p, size)\n",
    "                levels.append(cl)\n",
    "                targets.append(np.array(target) / 10.0)\n",
    "                if c._genes[p[\"y\"]][p[\"x\"]] == level[p[\"y\"]][p[\"x\"]]:\n",
    "                    actions.append(0)\n",
    "                else:\n",
    "                    actions.append(c._genes[p[\"y\"]][p[\"x\"]] + 1)\n",
    "                level[p[\"y\"]][p[\"x\"]] = c._genes[p[\"y\"]][p[\"x\"]]\n",
    "                if abs(level - c._genes).sum() == 0:\n",
    "                    break\n",
    "    return np.array(levels), np.array(targets), np.array(actions)\n",
    "\n",
    "def extract_es_inbet_data(pop, init, fitness, size, portion, repeats = 1):\n",
    "    levels = []\n",
    "    targets = []\n",
    "    actions = []\n",
    "    indeces = list(range(portion))\n",
    "    for i in indeces:\n",
    "        c = pop.get(-i-1)\n",
    "        target = np.array(c.behaviors()) / 10.0\n",
    "        for i in range(repeats):\n",
    "            level = c._start_genes.copy()\n",
    "            pos = []\n",
    "            for x in range(c._width):\n",
    "                for y in range(c._height):\n",
    "                    pos.append({\"x\": x, \"y\": y})\n",
    "            np.random.shuffle(pos)\n",
    "            for p in pos:\n",
    "                cl = transform_input(level, p, size)\n",
    "                levels.append(cl)\n",
    "                targets.append(np.array(target) / 10.0)\n",
    "                if c._genes[p[\"y\"]][p[\"x\"]] == level[p[\"y\"]][p[\"x\"]]:\n",
    "                    actions.append(0)\n",
    "                else:\n",
    "                    actions.append(c._genes[p[\"y\"]][p[\"x\"]] + 1)\n",
    "                level[p[\"y\"]][p[\"x\"]] = c._genes[p[\"y\"]][p[\"x\"]]\n",
    "                if abs(level - c._genes).sum() == 0:\n",
    "                    break\n",
    "    return np.array(levels), np.array(targets), np.array(actions)\n",
    "\n",
    "def extract_es_traj_data(pop, init, fitness, size, portion, subsets = 1):\n",
    "    levels = []\n",
    "    targets = []\n",
    "    actions = []\n",
    "    indeces = list(range(portion))\n",
    "    subsets = 1\n",
    "    for i in indeces:\n",
    "        c = pop.get(-i-1)\n",
    "        target = np.array(c.behaviors()) / 10.0\n",
    "        level = c._start_genes.copy()\n",
    "        if len(c._actions) == 0:\n",
    "            continue\n",
    "        interval = max(1,int(len(c._actions)/subsets+0.5))\n",
    "        for i in range(0,len(c._actions),interval):\n",
    "            targ_index = i + interval\n",
    "            for act in c._actions[0:targ_index]:\n",
    "                cl = transform_input(level, act, size)\n",
    "                levels.append(cl)\n",
    "                targets.append(np.array(act[\"behaviors\"]) / 10.0)\n",
    "                actions.append(act[\"action\"])\n",
    "    return np.array(levels), np.array(targets), np.array(actions)\n",
    "\n",
    "def cmnn_es_train(model, optimizer, pop, init, fitness, extract, size, portion, extract_value, epochs, batch,\n",
    "               t_lvls, t_ts, t_acts):\n",
    "    loss_fn = nn.CrossEntropyLoss()\n",
    "    levels, targets, actions = extract(pop, init, fitness, size, portion, extract_value)\n",
    "    levels, targets, actions = np.concatenate((levels, t_lvls)), np.concatenate((targets, t_ts)),\\\n",
    "                               np.concatenate((actions, t_acts))\n",
    "    epbar = trange(epochs, leave=False)\n",
    "    for epoch in epbar:\n",
    "        order = np.array(range(len(actions)))\n",
    "        np.random.shuffle(order)\n",
    "        in_lvls, in_t, in_act = levels[order], targets[order], actions[order]\n",
    "        pbar = trange(len(in_act) - batch, leave=False)\n",
    "        total_loss = 0\n",
    "        for i in pbar:\n",
    "            batch_lvls, batch_t, batch_act = in_lvls[i:i+batch], in_t[i:i+batch], in_act[i:i+batch]\n",
    "            optimizer.zero_grad()\n",
    "            \n",
    "            batch_output = model(torch.tensor(batch_lvls.reshape(batch, 1, size, size)).float(),\\\n",
    "                  torch.tensor(batch_t.reshape(batch, batch_t.shape[1])).float())\n",
    "            loss = loss_fn(batch_output, torch.tensor(batch_act).long())\n",
    "            loss.backward()\n",
    "            \n",
    "            optimizer.step()\n",
    "            \n",
    "            total_loss += loss.item()\n",
    "            pbar.set_postfix_str(f\"Loss: {total_loss / (i + 1.0)}\")\n",
    "        if total_loss == 0:\n",
    "            epbar.close()\n",
    "            break\n",
    "    return levels, targets, actions"
   ]
  },
  {
   "cell_type": "markdown",
   "id": "d7bbea1a",
   "metadata": {},
   "source": [
    "# Generate Problem"
   ]
  },
  {
   "cell_type": "code",
   "execution_count": 77,
   "id": "bee0e4fa",
   "metadata": {},
   "outputs": [],
   "source": [
    "import numpy as np\n",
    "from helper import get_horz_symmetry, get_longest_path, get_number_regions, get_num_actions \n",
    "from helper import get_range_reward, get_num_tiles\n",
    "\n",
    "def binary_discrete(value):\n",
    "    return int(10 * np.clip(value,0,1)-0.00000001)\n",
    "\n",
    "def binary_init(width, height):\n",
    "    return np.random.randint(2, size=(height, width))\n",
    "\n",
    "def binary_target(chromosomes):\n",
    "    return np.array([np.random.randint(10)/10.0, np.random.randint(10)/10.0])\n",
    "\n",
    "def get_binary_mutate(model, size, epsilon, times):\n",
    "    return lambda level, target: cmnn_mutate(model, level, size, target, epsilon, times)\n",
    "\n",
    "def binary_fitness(genes, actions):\n",
    "    number_regions = get_number_regions(genes, [1])\n",
    "    regions = get_range_reward(number_regions, 1, 1, 1,\\\n",
    "                                           genes.shape[0] * genes.shape[1] / 10)\n",
    "    longest = get_range_reward(get_longest_path(genes, [1]),\\\n",
    "                                           genes.shape[0] * genes.shape[1] / 2,\\\n",
    "                                           genes.shape[0] * genes.shape[1] / 2)\n",
    "    added = 0\n",
    "    if number_regions == 1:\n",
    "        added = longest\n",
    "    return regions + added\n",
    "\n",
    "def binary_behaviors(genes, actions):\n",
    "    longest = binary_discrete(get_range_reward(get_longest_path(genes, [1]),\\\n",
    "                                               genes.shape[0] * genes.shape[1] / 2,\\\n",
    "                                               genes.shape[0] * genes.shape[1] / 2))\n",
    "    vert_symmetry = binary_discrete(get_range_reward(get_horz_symmetry(genes.transpose()),\\\n",
    "                                                genes.shape[0] * genes.shape[1] / 2,\\\n",
    "                                                genes.shape[0] * genes.shape[1] / 2))\n",
    "    horz_symmetry = binary_discrete(get_range_reward(get_horz_symmetry(genes),\\\n",
    "                                                genes.shape[0] * genes.shape[1] / 2,\\\n",
    "                                                genes.shape[0] * genes.shape[1] / 2))\n",
    "    empty_tiles = binary_discrete(get_range_reward(get_num_tiles(genes, [1]),\\\n",
    "                                                 genes.shape[0] * genes.shape[1] / 2,\\\n",
    "                                                 genes.shape[0] * genes.shape[1] / 2))\n",
    "    return [horz_symmetry, vert_symmetry]"
   ]
  },
  {
   "cell_type": "markdown",
   "id": "0fbd4cc3",
   "metadata": {},
   "source": [
    "# Archive Class"
   ]
  },
  {
   "cell_type": "code",
   "execution_count": 78,
   "id": "b76f0c79",
   "metadata": {},
   "outputs": [],
   "source": [
    "import numpy as np\n",
    "import os\n",
    "\n",
    "class Archive:\n",
    "    def __init__(self):\n",
    "        self._map = {}\n",
    "        \n",
    "    def __len__(self):\n",
    "        return len(self._map)\n",
    "    \n",
    "    def __str__(self):\n",
    "        return f\"Arhcive Size: {len(self._map)}\\nValues:\\n{str(self.keys())}\"\n",
    "        \n",
    "    def keys(self, dim=-1, value=-1):\n",
    "        if len(self._map) == 0:\n",
    "            return np.array([])\n",
    "        num_dim = len(list(self._map.keys())[0].split(\",\"))\n",
    "        keys = list(self._map.keys())\n",
    "        result = []\n",
    "        for key in keys:\n",
    "            values = key.split(\",\")\n",
    "            temp = []\n",
    "            for v in values:\n",
    "                temp.append(int(v))\n",
    "            result.append(temp)\n",
    "        result = np.array(result)\n",
    "        if dim >= 0:\n",
    "            result = np.array([k for k in result if k[dim] == value])\n",
    "        return result\n",
    "    \n",
    "    def clone(self):\n",
    "        archive = Archive()\n",
    "        archive._map = self._map.copy()\n",
    "        return archive\n",
    "    \n",
    "    def add(self, chromosome):\n",
    "        key = \",\".join([str(temp) for temp in chromosome.behaviors()])\n",
    "        if key not in self._map or (key in self._map and chromosome.fitness() > self._map[key].fitness()):\n",
    "            self._map[key] = chromosome\n",
    "    \n",
    "    def random(self):\n",
    "        keys = list(self._map.keys())\n",
    "        index = np.random.randint(len(keys))\n",
    "        return self._map[keys[index]]\n",
    "        \n",
    "    def get(self, dimension):\n",
    "        key = \",\".join([str(temp) for temp in dimension])\n",
    "        if key in self._map:\n",
    "            return self._map[key]\n",
    "        return None\n",
    "    \n",
    "    def get_all(self, dimensions):\n",
    "        result = []\n",
    "        for dim in dimensions:\n",
    "            result.append(self.get(dim))\n",
    "        return result\n",
    "    \n",
    "    def save(self, folder):\n",
    "        os.makedirs(folder)\n",
    "        for key in self._map.keys():\n",
    "            self._map[key].save(os.path.join(folder, f\"{key}.json\"))\n",
    "    \n",
    "    def load(self, folder, width, height, init, mutate, fitness, behaviors):\n",
    "        self._map = {}\n",
    "        files = [fn for fn in os.listdir(folder) if \".json\" in fn]\n",
    "        for fn in files:\n",
    "            key = fn.split(\".json\")[0]\n",
    "            self._map[key] = Chromosome(width, height, init, mutate, fitness, behaviors)\n",
    "            self._map[key].load(os.path.join(folder, f\"{key}.json\"))"
   ]
  },
  {
   "cell_type": "markdown",
   "id": "531e2f26",
   "metadata": {},
   "source": [
    "# Surrogate Mutation MAP-Elite"
   ]
  },
  {
   "cell_type": "code",
   "execution_count": 79,
   "id": "4284182c",
   "metadata": {},
   "outputs": [],
   "source": [
    "import numpy as np\n",
    "\n",
    "class SMMAPElites:\n",
    "    def __init__(self, start_size, width, height, init, mutate, fitness, behaviors, target):\n",
    "        self._width = width\n",
    "        self._height = height\n",
    "        \n",
    "        self._init_fn = init\n",
    "        self._mutate_fn = mutate\n",
    "        self._fitness_fn = fitness\n",
    "        self._behaviors_fn = behaviors\n",
    "        self._target_fn = target\n",
    "        \n",
    "        self._map = Archive()\n",
    "        for i in range(start_size):\n",
    "            c = Chromosome(width, height, init, mutate, fitness, behaviors)\n",
    "            self._map.add(c)\n",
    "    \n",
    "    def update(self):\n",
    "        c = self._map.random()\n",
    "        c = c.mutate(self._target_fn(self._map.get_all(self._map.keys())))\n",
    "        self._map.add(c)\n",
    "    \n",
    "    def get_map(self):\n",
    "        return self._map.clone()\n",
    "    \n",
    "    def __len__(self):\n",
    "        return len(self._map)\n",
    "    \n",
    "    def save(self, folder):\n",
    "        self._map.save(folder)\n",
    "    \n",
    "    def load(self, folder):\n",
    "        self._map.load(folder, self._width, self._height, self._init_fn,\\\n",
    "                       self._mutate_fn, self._fitness_fn, self._behaviors_fn)"
   ]
  },
  {
   "cell_type": "markdown",
   "id": "0bd47b0e",
   "metadata": {},
   "source": [
    "# Population Class"
   ]
  },
  {
   "cell_type": "code",
   "execution_count": 80,
   "id": "6239e9a6",
   "metadata": {},
   "outputs": [],
   "source": [
    "class Population:\n",
    "    def __init__(self, size):\n",
    "        self._size = size\n",
    "        self._pop = []\n",
    "    \n",
    "    def __len__(self):\n",
    "        return len(self._pop)\n",
    "    \n",
    "    def __str__(self):\n",
    "        return f\"Population Size: {len(self._pop)} - Best Fitness: {self.get(-1).fitness()}\"\n",
    "    \n",
    "    def kill(self, size):\n",
    "        self._pop = sorted(self._pop, key=lambda x: x.fitness())\n",
    "        for i in range(min(size,len(self._pop))):\n",
    "            del self._pop[0]\n",
    "    \n",
    "    def add(self, c):\n",
    "        if len(self._pop) >= self._size:\n",
    "            self.kill(1)\n",
    "        self._pop.append(c)\n",
    "    \n",
    "    def clone(self):\n",
    "        pop = Population(self._size)\n",
    "        for c in self._pop:\n",
    "            pop._pop.append(c.clone())\n",
    "        return pop\n",
    "    \n",
    "    def select(self, size):\n",
    "        selected = []\n",
    "        for i in range(size):\n",
    "            index = np.random.randint(len(self._pop))\n",
    "            selected.append(self._pop[index])\n",
    "        sorted(selected, key=lambda x: x.fitness())\n",
    "        return selected[-1].clone()\n",
    "        \n",
    "    def get(self, index):\n",
    "        self._pop = sorted(self._pop, key=lambda x: x.fitness())\n",
    "        if abs(index) > len(self._pop):\n",
    "            return None\n",
    "        return self._pop[index].clone()\n",
    "    \n",
    "    def get_all(self):\n",
    "        result = []\n",
    "        for c in self._pop:\n",
    "            result.append(c.clone())\n",
    "        return result\n",
    "    \n",
    "    def save(self, folder):\n",
    "        os.makedirs(folder)\n",
    "        for i in range(len(self._pop)):\n",
    "            self.get(i).save(os.path.join(folder, f\"{i}.json\"))\n",
    "    \n",
    "    def load(self, folder, width, height, init, mutate, fitness, behaviors):\n",
    "        self._pop = []\n",
    "        files = [fn for fn in os.listdir(folder) if \".json\" in fn]\n",
    "        for fn in files:\n",
    "            c = Chromosome(width, height, init, mutate, fitness, behaviors)\n",
    "            c.load(os.path.join(folder, fn))\n",
    "            self._pop.append(c)"
   ]
  },
  {
   "cell_type": "markdown",
   "id": "1b434c50",
   "metadata": {},
   "source": [
    "# Surrogate Mutation Evolution Strategy"
   ]
  },
  {
   "cell_type": "code",
   "execution_count": 81,
   "id": "1410f507",
   "metadata": {},
   "outputs": [],
   "source": [
    "class SMES:\n",
    "    def __init__(self, size, width, height, init, mutate, fitness, behaviors, target):\n",
    "        self._width = width\n",
    "        self._height = height\n",
    "        \n",
    "        self._init_fn = init\n",
    "        self._mutate_fn = mutate\n",
    "        self._fitness_fn = fitness\n",
    "        self._behaviors_fn = behaviors\n",
    "        self._target_fn = target\n",
    "        \n",
    "        self._pop = Population(size)\n",
    "        for i in range(size):\n",
    "            c = Chromosome(width, height, init, mutate, fitness, behaviors)\n",
    "            self._pop.add(c)\n",
    "    \n",
    "    def update(self, death_perct = 0.5, tournment_size = 5):\n",
    "        death_size = int(death_perct * len(self._pop))\n",
    "        self._pop.kill(death_size)\n",
    "        for i in range(death_size):\n",
    "            c = self._pop.select(tournment_size)\n",
    "            c = c.mutate(self._target_fn(self._pop.get_all()))\n",
    "            self._pop.add(c)\n",
    "            \n",
    "    def get_pop(self):\n",
    "        return self._pop.clone()\n",
    "    \n",
    "    def get_best(self):\n",
    "        return self._pop.get(-1)\n",
    "    \n",
    "    def save(self, folder):\n",
    "        self._pop.save(folder)\n",
    "    \n",
    "    def load(self, folder):\n",
    "        self._pop.load(folder, self._width, self._height, self._init_fn,\\\n",
    "                       self._mutate_fn, self._fitness_fn, self._behaviors_fn)"
   ]
  },
  {
   "cell_type": "markdown",
   "id": "75974015",
   "metadata": {},
   "source": [
    "# Testing Surrogate Mutation Evolution Strategy"
   ]
  },
  {
   "cell_type": "markdown",
   "id": "f4df37e0",
   "metadata": {},
   "source": [
    "### Hyper Parameters"
   ]
  },
  {
   "cell_type": "code",
   "execution_count": 108,
   "id": "6bf29fdb",
   "metadata": {},
   "outputs": [],
   "source": [
    "# Level Size\n",
    "width = 14                                        # width of the generated level\n",
    "height = 14                                       # height of the generated level\n",
    "\n",
    "# Evolution Parameters\n",
    "pop_size = 100                                    # population size\n",
    "death_perct = 0.5                                 # percentage of killed chromosomes\n",
    "tournment_size = 5                                # size of tournment in tournment selection\n",
    "gen_number = int(100000/(death_perct*pop_size))   # number of generations\n",
    "mutation_length = 1                               # how many tiles to mutate\n",
    "epsilon = 0.25                                    # probability of doing random mutation not from model\n",
    "periodic_save = 20                                # how often to save\n",
    "\n",
    "# Training Parameters\n",
    "allow_train = True                                # allow training neural network   \n",
    "train_period = int(5000/(death_perct*pop_size))   # frequency of training the network\n",
    "train_epochs = 8                                  # number of epochs used in the middle of evolution\n",
    "final_epochs = 8                                  # number of epochs before finishing evolution\n",
    "batch_size = 32                                   # minibatch size during training\n",
    "learning_rate = 0.00001                           # optimizer learning rate\n",
    "reset_model = True                                # reset the model weights\n",
    "\n",
    "# Data Creation Parameter\n",
    "window_size = 8                                   # cropped view of the observation (can be any value)\n",
    "portion = 10                                      # amount of chromosomes used to train the network\n",
    "increase_data = 16                                # increase data size by multiplying by that value\n",
    "final_increase_data = 16                          # increase data size for the final training\n",
    "data_creation = [\"traj\", \"inbet\", \"init\"][0]      # method of creating the data\n",
    "append_data = False                               # new data is generated beside old ones\n",
    "\n",
    "# saving notes\n",
    "notes = \"cascade\"                                 # notes about saving the model"
   ]
  },
  {
   "cell_type": "markdown",
   "id": "3b74e759",
   "metadata": {},
   "source": [
    "### Functions (DON'T TOUCH)"
   ]
  },
  {
   "cell_type": "code",
   "execution_count": 109,
   "id": "7aa486a0",
   "metadata": {},
   "outputs": [],
   "source": [
    "from tqdm.notebook import trange, tqdm\n",
    "import torch.optim as optim\n",
    "\n",
    "model = CMNN(window_size, 0)\n",
    "optimizer = optim.Adam(model.parameters(), lr=learning_rate)\n",
    "\n",
    "init = binary_init\n",
    "mutate = get_binary_mutate(model, window_size, epsilon, mutation_length)\n",
    "fitness = binary_fitness\n",
    "behaviors = binary_behaviors\n",
    "target = binary_target\n",
    "extract = {\"traj\": extract_es_traj_data, \"inbet\": extract_es_inbet_data,\\\n",
    "           \"init\": extract_es_init_data}[data_creation]\n",
    "\n",
    "evolver = SMES(pop_size, width, height, init, mutate, fitness, behaviors, target)"
   ]
  },
  {
   "cell_type": "markdown",
   "id": "56a658ad",
   "metadata": {},
   "source": [
    "### Evolution"
   ]
  },
  {
   "cell_type": "code",
   "execution_count": 110,
   "id": "4c33b77e",
   "metadata": {},
   "outputs": [
    {
     "data": {
      "application/vnd.jupyter.widget-view+json": {
       "model_id": "76d08d0de4d945198bf12f23c49610a3",
       "version_major": 2,
       "version_minor": 0
      },
      "text/plain": [
       "  0%|          | 0/2000 [00:00<?, ?it/s]"
      ]
     },
     "metadata": {},
     "output_type": "display_data"
    },
    {
     "data": {
      "application/vnd.jupyter.widget-view+json": {
       "model_id": "",
       "version_major": 2,
       "version_minor": 0
      },
      "text/plain": [
       "  0%|          | 0/8 [00:00<?, ?it/s]"
      ]
     },
     "metadata": {},
     "output_type": "display_data"
    },
    {
     "data": {
      "application/vnd.jupyter.widget-view+json": {
       "model_id": "",
       "version_major": 2,
       "version_minor": 0
      },
      "text/plain": [
       "  0%|          | 0/769 [00:00<?, ?it/s]"
      ]
     },
     "metadata": {},
     "output_type": "display_data"
    },
    {
     "data": {
      "application/vnd.jupyter.widget-view+json": {
       "model_id": "",
       "version_major": 2,
       "version_minor": 0
      },
      "text/plain": [
       "  0%|          | 0/769 [00:00<?, ?it/s]"
      ]
     },
     "metadata": {},
     "output_type": "display_data"
    },
    {
     "data": {
      "application/vnd.jupyter.widget-view+json": {
       "model_id": "",
       "version_major": 2,
       "version_minor": 0
      },
      "text/plain": [
       "  0%|          | 0/769 [00:00<?, ?it/s]"
      ]
     },
     "metadata": {},
     "output_type": "display_data"
    },
    {
     "data": {
      "application/vnd.jupyter.widget-view+json": {
       "model_id": "",
       "version_major": 2,
       "version_minor": 0
      },
      "text/plain": [
       "  0%|          | 0/769 [00:00<?, ?it/s]"
      ]
     },
     "metadata": {},
     "output_type": "display_data"
    },
    {
     "data": {
      "application/vnd.jupyter.widget-view+json": {
       "model_id": "",
       "version_major": 2,
       "version_minor": 0
      },
      "text/plain": [
       "  0%|          | 0/769 [00:00<?, ?it/s]"
      ]
     },
     "metadata": {},
     "output_type": "display_data"
    },
    {
     "data": {
      "application/vnd.jupyter.widget-view+json": {
       "model_id": "",
       "version_major": 2,
       "version_minor": 0
      },
      "text/plain": [
       "  0%|          | 0/769 [00:00<?, ?it/s]"
      ]
     },
     "metadata": {},
     "output_type": "display_data"
    },
    {
     "data": {
      "application/vnd.jupyter.widget-view+json": {
       "model_id": "",
       "version_major": 2,
       "version_minor": 0
      },
      "text/plain": [
       "  0%|          | 0/769 [00:00<?, ?it/s]"
      ]
     },
     "metadata": {},
     "output_type": "display_data"
    },
    {
     "data": {
      "application/vnd.jupyter.widget-view+json": {
       "model_id": "",
       "version_major": 2,
       "version_minor": 0
      },
      "text/plain": [
       "  0%|          | 0/769 [00:00<?, ?it/s]"
      ]
     },
     "metadata": {},
     "output_type": "display_data"
    },
    {
     "data": {
      "application/vnd.jupyter.widget-view+json": {
       "model_id": "",
       "version_major": 2,
       "version_minor": 0
      },
      "text/plain": [
       "  0%|          | 0/8 [00:00<?, ?it/s]"
      ]
     },
     "metadata": {},
     "output_type": "display_data"
    },
    {
     "data": {
      "application/vnd.jupyter.widget-view+json": {
       "model_id": "",
       "version_major": 2,
       "version_minor": 0
      },
      "text/plain": [
       "  0%|          | 0/1764 [00:00<?, ?it/s]"
      ]
     },
     "metadata": {},
     "output_type": "display_data"
    },
    {
     "data": {
      "application/vnd.jupyter.widget-view+json": {
       "model_id": "",
       "version_major": 2,
       "version_minor": 0
      },
      "text/plain": [
       "  0%|          | 0/1764 [00:00<?, ?it/s]"
      ]
     },
     "metadata": {},
     "output_type": "display_data"
    },
    {
     "data": {
      "application/vnd.jupyter.widget-view+json": {
       "model_id": "",
       "version_major": 2,
       "version_minor": 0
      },
      "text/plain": [
       "  0%|          | 0/1764 [00:00<?, ?it/s]"
      ]
     },
     "metadata": {},
     "output_type": "display_data"
    },
    {
     "data": {
      "application/vnd.jupyter.widget-view+json": {
       "model_id": "",
       "version_major": 2,
       "version_minor": 0
      },
      "text/plain": [
       "  0%|          | 0/1764 [00:00<?, ?it/s]"
      ]
     },
     "metadata": {},
     "output_type": "display_data"
    },
    {
     "data": {
      "application/vnd.jupyter.widget-view+json": {
       "model_id": "",
       "version_major": 2,
       "version_minor": 0
      },
      "text/plain": [
       "  0%|          | 0/1764 [00:00<?, ?it/s]"
      ]
     },
     "metadata": {},
     "output_type": "display_data"
    },
    {
     "data": {
      "application/vnd.jupyter.widget-view+json": {
       "model_id": "",
       "version_major": 2,
       "version_minor": 0
      },
      "text/plain": [
       "  0%|          | 0/1764 [00:00<?, ?it/s]"
      ]
     },
     "metadata": {},
     "output_type": "display_data"
    },
    {
     "data": {
      "application/vnd.jupyter.widget-view+json": {
       "model_id": "",
       "version_major": 2,
       "version_minor": 0
      },
      "text/plain": [
       "  0%|          | 0/1764 [00:00<?, ?it/s]"
      ]
     },
     "metadata": {},
     "output_type": "display_data"
    },
    {
     "data": {
      "application/vnd.jupyter.widget-view+json": {
       "model_id": "",
       "version_major": 2,
       "version_minor": 0
      },
      "text/plain": [
       "  0%|          | 0/1764 [00:00<?, ?it/s]"
      ]
     },
     "metadata": {},
     "output_type": "display_data"
    },
    {
     "data": {
      "application/vnd.jupyter.widget-view+json": {
       "model_id": "",
       "version_major": 2,
       "version_minor": 0
      },
      "text/plain": [
       "  0%|          | 0/8 [00:00<?, ?it/s]"
      ]
     },
     "metadata": {},
     "output_type": "display_data"
    },
    {
     "data": {
      "application/vnd.jupyter.widget-view+json": {
       "model_id": "",
       "version_major": 2,
       "version_minor": 0
      },
      "text/plain": [
       "  0%|          | 0/2810 [00:00<?, ?it/s]"
      ]
     },
     "metadata": {},
     "output_type": "display_data"
    },
    {
     "data": {
      "application/vnd.jupyter.widget-view+json": {
       "model_id": "",
       "version_major": 2,
       "version_minor": 0
      },
      "text/plain": [
       "  0%|          | 0/2810 [00:00<?, ?it/s]"
      ]
     },
     "metadata": {},
     "output_type": "display_data"
    },
    {
     "data": {
      "application/vnd.jupyter.widget-view+json": {
       "model_id": "",
       "version_major": 2,
       "version_minor": 0
      },
      "text/plain": [
       "  0%|          | 0/2810 [00:00<?, ?it/s]"
      ]
     },
     "metadata": {},
     "output_type": "display_data"
    },
    {
     "data": {
      "application/vnd.jupyter.widget-view+json": {
       "model_id": "",
       "version_major": 2,
       "version_minor": 0
      },
      "text/plain": [
       "  0%|          | 0/2810 [00:00<?, ?it/s]"
      ]
     },
     "metadata": {},
     "output_type": "display_data"
    },
    {
     "data": {
      "application/vnd.jupyter.widget-view+json": {
       "model_id": "",
       "version_major": 2,
       "version_minor": 0
      },
      "text/plain": [
       "  0%|          | 0/2810 [00:00<?, ?it/s]"
      ]
     },
     "metadata": {},
     "output_type": "display_data"
    },
    {
     "data": {
      "application/vnd.jupyter.widget-view+json": {
       "model_id": "",
       "version_major": 2,
       "version_minor": 0
      },
      "text/plain": [
       "  0%|          | 0/2810 [00:00<?, ?it/s]"
      ]
     },
     "metadata": {},
     "output_type": "display_data"
    },
    {
     "data": {
      "application/vnd.jupyter.widget-view+json": {
       "model_id": "",
       "version_major": 2,
       "version_minor": 0
      },
      "text/plain": [
       "  0%|          | 0/2810 [00:00<?, ?it/s]"
      ]
     },
     "metadata": {},
     "output_type": "display_data"
    },
    {
     "data": {
      "application/vnd.jupyter.widget-view+json": {
       "model_id": "",
       "version_major": 2,
       "version_minor": 0
      },
      "text/plain": [
       "  0%|          | 0/2810 [00:00<?, ?it/s]"
      ]
     },
     "metadata": {},
     "output_type": "display_data"
    },
    {
     "data": {
      "application/vnd.jupyter.widget-view+json": {
       "model_id": "",
       "version_major": 2,
       "version_minor": 0
      },
      "text/plain": [
       "  0%|          | 0/8 [00:00<?, ?it/s]"
      ]
     },
     "metadata": {},
     "output_type": "display_data"
    },
    {
     "data": {
      "application/vnd.jupyter.widget-view+json": {
       "model_id": "",
       "version_major": 2,
       "version_minor": 0
      },
      "text/plain": [
       "  0%|          | 0/3761 [00:00<?, ?it/s]"
      ]
     },
     "metadata": {},
     "output_type": "display_data"
    },
    {
     "data": {
      "application/vnd.jupyter.widget-view+json": {
       "model_id": "",
       "version_major": 2,
       "version_minor": 0
      },
      "text/plain": [
       "  0%|          | 0/3761 [00:00<?, ?it/s]"
      ]
     },
     "metadata": {},
     "output_type": "display_data"
    },
    {
     "data": {
      "application/vnd.jupyter.widget-view+json": {
       "model_id": "",
       "version_major": 2,
       "version_minor": 0
      },
      "text/plain": [
       "  0%|          | 0/3761 [00:00<?, ?it/s]"
      ]
     },
     "metadata": {},
     "output_type": "display_data"
    },
    {
     "data": {
      "application/vnd.jupyter.widget-view+json": {
       "model_id": "",
       "version_major": 2,
       "version_minor": 0
      },
      "text/plain": [
       "  0%|          | 0/3761 [00:00<?, ?it/s]"
      ]
     },
     "metadata": {},
     "output_type": "display_data"
    },
    {
     "data": {
      "application/vnd.jupyter.widget-view+json": {
       "model_id": "",
       "version_major": 2,
       "version_minor": 0
      },
      "text/plain": [
       "  0%|          | 0/3761 [00:00<?, ?it/s]"
      ]
     },
     "metadata": {},
     "output_type": "display_data"
    },
    {
     "data": {
      "application/vnd.jupyter.widget-view+json": {
       "model_id": "",
       "version_major": 2,
       "version_minor": 0
      },
      "text/plain": [
       "  0%|          | 0/3761 [00:00<?, ?it/s]"
      ]
     },
     "metadata": {},
     "output_type": "display_data"
    },
    {
     "data": {
      "application/vnd.jupyter.widget-view+json": {
       "model_id": "",
       "version_major": 2,
       "version_minor": 0
      },
      "text/plain": [
       "  0%|          | 0/3761 [00:00<?, ?it/s]"
      ]
     },
     "metadata": {},
     "output_type": "display_data"
    },
    {
     "data": {
      "application/vnd.jupyter.widget-view+json": {
       "model_id": "",
       "version_major": 2,
       "version_minor": 0
      },
      "text/plain": [
       "  0%|          | 0/3761 [00:00<?, ?it/s]"
      ]
     },
     "metadata": {},
     "output_type": "display_data"
    },
    {
     "data": {
      "application/vnd.jupyter.widget-view+json": {
       "model_id": "",
       "version_major": 2,
       "version_minor": 0
      },
      "text/plain": [
       "  0%|          | 0/8 [00:00<?, ?it/s]"
      ]
     },
     "metadata": {},
     "output_type": "display_data"
    },
    {
     "data": {
      "application/vnd.jupyter.widget-view+json": {
       "model_id": "",
       "version_major": 2,
       "version_minor": 0
      },
      "text/plain": [
       "  0%|          | 0/4783 [00:00<?, ?it/s]"
      ]
     },
     "metadata": {},
     "output_type": "display_data"
    },
    {
     "data": {
      "application/vnd.jupyter.widget-view+json": {
       "model_id": "",
       "version_major": 2,
       "version_minor": 0
      },
      "text/plain": [
       "  0%|          | 0/4783 [00:00<?, ?it/s]"
      ]
     },
     "metadata": {},
     "output_type": "display_data"
    },
    {
     "data": {
      "application/vnd.jupyter.widget-view+json": {
       "model_id": "",
       "version_major": 2,
       "version_minor": 0
      },
      "text/plain": [
       "  0%|          | 0/4783 [00:00<?, ?it/s]"
      ]
     },
     "metadata": {},
     "output_type": "display_data"
    },
    {
     "data": {
      "application/vnd.jupyter.widget-view+json": {
       "model_id": "",
       "version_major": 2,
       "version_minor": 0
      },
      "text/plain": [
       "  0%|          | 0/4783 [00:00<?, ?it/s]"
      ]
     },
     "metadata": {},
     "output_type": "display_data"
    },
    {
     "data": {
      "application/vnd.jupyter.widget-view+json": {
       "model_id": "",
       "version_major": 2,
       "version_minor": 0
      },
      "text/plain": [
       "  0%|          | 0/4783 [00:00<?, ?it/s]"
      ]
     },
     "metadata": {},
     "output_type": "display_data"
    },
    {
     "data": {
      "application/vnd.jupyter.widget-view+json": {
       "model_id": "",
       "version_major": 2,
       "version_minor": 0
      },
      "text/plain": [
       "  0%|          | 0/4783 [00:00<?, ?it/s]"
      ]
     },
     "metadata": {},
     "output_type": "display_data"
    },
    {
     "data": {
      "application/vnd.jupyter.widget-view+json": {
       "model_id": "",
       "version_major": 2,
       "version_minor": 0
      },
      "text/plain": [
       "  0%|          | 0/4783 [00:00<?, ?it/s]"
      ]
     },
     "metadata": {},
     "output_type": "display_data"
    },
    {
     "data": {
      "application/vnd.jupyter.widget-view+json": {
       "model_id": "",
       "version_major": 2,
       "version_minor": 0
      },
      "text/plain": [
       "  0%|          | 0/4783 [00:00<?, ?it/s]"
      ]
     },
     "metadata": {},
     "output_type": "display_data"
    },
    {
     "data": {
      "application/vnd.jupyter.widget-view+json": {
       "model_id": "",
       "version_major": 2,
       "version_minor": 0
      },
      "text/plain": [
       "  0%|          | 0/8 [00:00<?, ?it/s]"
      ]
     },
     "metadata": {},
     "output_type": "display_data"
    },
    {
     "data": {
      "application/vnd.jupyter.widget-view+json": {
       "model_id": "",
       "version_major": 2,
       "version_minor": 0
      },
      "text/plain": [
       "  0%|          | 0/5843 [00:00<?, ?it/s]"
      ]
     },
     "metadata": {},
     "output_type": "display_data"
    },
    {
     "data": {
      "application/vnd.jupyter.widget-view+json": {
       "model_id": "",
       "version_major": 2,
       "version_minor": 0
      },
      "text/plain": [
       "  0%|          | 0/5843 [00:00<?, ?it/s]"
      ]
     },
     "metadata": {},
     "output_type": "display_data"
    },
    {
     "data": {
      "application/vnd.jupyter.widget-view+json": {
       "model_id": "",
       "version_major": 2,
       "version_minor": 0
      },
      "text/plain": [
       "  0%|          | 0/5843 [00:00<?, ?it/s]"
      ]
     },
     "metadata": {},
     "output_type": "display_data"
    },
    {
     "data": {
      "application/vnd.jupyter.widget-view+json": {
       "model_id": "",
       "version_major": 2,
       "version_minor": 0
      },
      "text/plain": [
       "  0%|          | 0/5843 [00:00<?, ?it/s]"
      ]
     },
     "metadata": {},
     "output_type": "display_data"
    },
    {
     "data": {
      "application/vnd.jupyter.widget-view+json": {
       "model_id": "",
       "version_major": 2,
       "version_minor": 0
      },
      "text/plain": [
       "  0%|          | 0/5843 [00:00<?, ?it/s]"
      ]
     },
     "metadata": {},
     "output_type": "display_data"
    },
    {
     "data": {
      "application/vnd.jupyter.widget-view+json": {
       "model_id": "",
       "version_major": 2,
       "version_minor": 0
      },
      "text/plain": [
       "  0%|          | 0/5843 [00:00<?, ?it/s]"
      ]
     },
     "metadata": {},
     "output_type": "display_data"
    },
    {
     "data": {
      "application/vnd.jupyter.widget-view+json": {
       "model_id": "",
       "version_major": 2,
       "version_minor": 0
      },
      "text/plain": [
       "  0%|          | 0/5843 [00:00<?, ?it/s]"
      ]
     },
     "metadata": {},
     "output_type": "display_data"
    },
    {
     "data": {
      "application/vnd.jupyter.widget-view+json": {
       "model_id": "",
       "version_major": 2,
       "version_minor": 0
      },
      "text/plain": [
       "  0%|          | 0/5843 [00:00<?, ?it/s]"
      ]
     },
     "metadata": {},
     "output_type": "display_data"
    },
    {
     "data": {
      "application/vnd.jupyter.widget-view+json": {
       "model_id": "",
       "version_major": 2,
       "version_minor": 0
      },
      "text/plain": [
       "  0%|          | 0/8 [00:00<?, ?it/s]"
      ]
     },
     "metadata": {},
     "output_type": "display_data"
    },
    {
     "data": {
      "application/vnd.jupyter.widget-view+json": {
       "model_id": "",
       "version_major": 2,
       "version_minor": 0
      },
      "text/plain": [
       "  0%|          | 0/6982 [00:00<?, ?it/s]"
      ]
     },
     "metadata": {},
     "output_type": "display_data"
    },
    {
     "data": {
      "application/vnd.jupyter.widget-view+json": {
       "model_id": "",
       "version_major": 2,
       "version_minor": 0
      },
      "text/plain": [
       "  0%|          | 0/6982 [00:00<?, ?it/s]"
      ]
     },
     "metadata": {},
     "output_type": "display_data"
    },
    {
     "data": {
      "application/vnd.jupyter.widget-view+json": {
       "model_id": "",
       "version_major": 2,
       "version_minor": 0
      },
      "text/plain": [
       "  0%|          | 0/6982 [00:00<?, ?it/s]"
      ]
     },
     "metadata": {},
     "output_type": "display_data"
    },
    {
     "data": {
      "application/vnd.jupyter.widget-view+json": {
       "model_id": "",
       "version_major": 2,
       "version_minor": 0
      },
      "text/plain": [
       "  0%|          | 0/6982 [00:00<?, ?it/s]"
      ]
     },
     "metadata": {},
     "output_type": "display_data"
    },
    {
     "data": {
      "application/vnd.jupyter.widget-view+json": {
       "model_id": "",
       "version_major": 2,
       "version_minor": 0
      },
      "text/plain": [
       "  0%|          | 0/6982 [00:00<?, ?it/s]"
      ]
     },
     "metadata": {},
     "output_type": "display_data"
    },
    {
     "data": {
      "application/vnd.jupyter.widget-view+json": {
       "model_id": "",
       "version_major": 2,
       "version_minor": 0
      },
      "text/plain": [
       "  0%|          | 0/6982 [00:00<?, ?it/s]"
      ]
     },
     "metadata": {},
     "output_type": "display_data"
    },
    {
     "data": {
      "application/vnd.jupyter.widget-view+json": {
       "model_id": "",
       "version_major": 2,
       "version_minor": 0
      },
      "text/plain": [
       "  0%|          | 0/6982 [00:00<?, ?it/s]"
      ]
     },
     "metadata": {},
     "output_type": "display_data"
    },
    {
     "data": {
      "application/vnd.jupyter.widget-view+json": {
       "model_id": "",
       "version_major": 2,
       "version_minor": 0
      },
      "text/plain": [
       "  0%|          | 0/6982 [00:00<?, ?it/s]"
      ]
     },
     "metadata": {},
     "output_type": "display_data"
    },
    {
     "data": {
      "application/vnd.jupyter.widget-view+json": {
       "model_id": "",
       "version_major": 2,
       "version_minor": 0
      },
      "text/plain": [
       "  0%|          | 0/8 [00:00<?, ?it/s]"
      ]
     },
     "metadata": {},
     "output_type": "display_data"
    },
    {
     "data": {
      "application/vnd.jupyter.widget-view+json": {
       "model_id": "",
       "version_major": 2,
       "version_minor": 0
      },
      "text/plain": [
       "  0%|          | 0/8103 [00:00<?, ?it/s]"
      ]
     },
     "metadata": {},
     "output_type": "display_data"
    },
    {
     "data": {
      "application/vnd.jupyter.widget-view+json": {
       "model_id": "",
       "version_major": 2,
       "version_minor": 0
      },
      "text/plain": [
       "  0%|          | 0/8103 [00:00<?, ?it/s]"
      ]
     },
     "metadata": {},
     "output_type": "display_data"
    },
    {
     "data": {
      "application/vnd.jupyter.widget-view+json": {
       "model_id": "",
       "version_major": 2,
       "version_minor": 0
      },
      "text/plain": [
       "  0%|          | 0/8103 [00:00<?, ?it/s]"
      ]
     },
     "metadata": {},
     "output_type": "display_data"
    },
    {
     "data": {
      "application/vnd.jupyter.widget-view+json": {
       "model_id": "",
       "version_major": 2,
       "version_minor": 0
      },
      "text/plain": [
       "  0%|          | 0/8103 [00:00<?, ?it/s]"
      ]
     },
     "metadata": {},
     "output_type": "display_data"
    },
    {
     "data": {
      "application/vnd.jupyter.widget-view+json": {
       "model_id": "",
       "version_major": 2,
       "version_minor": 0
      },
      "text/plain": [
       "  0%|          | 0/8103 [00:00<?, ?it/s]"
      ]
     },
     "metadata": {},
     "output_type": "display_data"
    },
    {
     "data": {
      "application/vnd.jupyter.widget-view+json": {
       "model_id": "",
       "version_major": 2,
       "version_minor": 0
      },
      "text/plain": [
       "  0%|          | 0/8103 [00:00<?, ?it/s]"
      ]
     },
     "metadata": {},
     "output_type": "display_data"
    },
    {
     "data": {
      "application/vnd.jupyter.widget-view+json": {
       "model_id": "",
       "version_major": 2,
       "version_minor": 0
      },
      "text/plain": [
       "  0%|          | 0/8103 [00:00<?, ?it/s]"
      ]
     },
     "metadata": {},
     "output_type": "display_data"
    },
    {
     "data": {
      "application/vnd.jupyter.widget-view+json": {
       "model_id": "",
       "version_major": 2,
       "version_minor": 0
      },
      "text/plain": [
       "  0%|          | 0/8103 [00:00<?, ?it/s]"
      ]
     },
     "metadata": {},
     "output_type": "display_data"
    },
    {
     "data": {
      "application/vnd.jupyter.widget-view+json": {
       "model_id": "fb581ab3391a428dad91b10377dc112c",
       "version_major": 2,
       "version_minor": 0
      },
      "text/plain": [
       "  0%|          | 0/8 [00:00<?, ?it/s]"
      ]
     },
     "metadata": {},
     "output_type": "display_data"
    },
    {
     "data": {
      "application/vnd.jupyter.widget-view+json": {
       "model_id": "",
       "version_major": 2,
       "version_minor": 0
      },
      "text/plain": [
       "  0%|          | 0/9251 [00:00<?, ?it/s]"
      ]
     },
     "metadata": {},
     "output_type": "display_data"
    },
    {
     "data": {
      "application/vnd.jupyter.widget-view+json": {
       "model_id": "",
       "version_major": 2,
       "version_minor": 0
      },
      "text/plain": [
       "  0%|          | 0/9251 [00:00<?, ?it/s]"
      ]
     },
     "metadata": {},
     "output_type": "display_data"
    },
    {
     "data": {
      "application/vnd.jupyter.widget-view+json": {
       "model_id": "16b725b53ac14c1b8497f28a38a34066",
       "version_major": 2,
       "version_minor": 0
      },
      "text/plain": [
       "  0%|          | 0/9251 [00:00<?, ?it/s]"
      ]
     },
     "metadata": {},
     "output_type": "display_data"
    },
    {
     "ename": "KeyboardInterrupt",
     "evalue": "",
     "output_type": "error",
     "traceback": [
      "\u001b[0;31m---------------------------------------------------------------------------\u001b[0m",
      "\u001b[0;31mKeyboardInterrupt\u001b[0m                         Traceback (most recent call last)",
      "Input \u001b[0;32mIn [110]\u001b[0m, in \u001b[0;36m<module>\u001b[0;34m\u001b[0m\n\u001b[1;32m     15\u001b[0m     epochs \u001b[38;5;241m=\u001b[39m final_epochs\n\u001b[1;32m     16\u001b[0m     mul_size \u001b[38;5;241m=\u001b[39m final_increase_data\n\u001b[0;32m---> 17\u001b[0m levels, targets, actions \u001b[38;5;241m=\u001b[39m \u001b[43mcmnn_es_train\u001b[49m\u001b[43m(\u001b[49m\u001b[43mmodel\u001b[49m\u001b[43m,\u001b[49m\u001b[43m \u001b[49m\u001b[43moptimizer\u001b[49m\u001b[43m,\u001b[49m\u001b[43m \u001b[49m\u001b[43mevolver\u001b[49m\u001b[38;5;241;43m.\u001b[39;49m\u001b[43mget_pop\u001b[49m\u001b[43m(\u001b[49m\u001b[43m)\u001b[49m\u001b[43m,\u001b[49m\u001b[43m \u001b[49m\u001b[43minit\u001b[49m\u001b[43m,\u001b[49m\u001b[43m \u001b[49m\u001b[43mfitness\u001b[49m\u001b[43m,\u001b[49m\u001b[43m\\\u001b[49m\n\u001b[1;32m     18\u001b[0m \u001b[43m                                     \u001b[49m\u001b[43mextract\u001b[49m\u001b[43m,\u001b[49m\u001b[43m \u001b[49m\u001b[43mwindow_size\u001b[49m\u001b[43m,\u001b[49m\u001b[43m \u001b[49m\u001b[43mportion\u001b[49m\u001b[43m,\u001b[49m\u001b[43m \u001b[49m\u001b[43mmul_size\u001b[49m\u001b[43m,\u001b[49m\u001b[43m \u001b[49m\u001b[43mepochs\u001b[49m\u001b[43m,\u001b[49m\u001b[43m \u001b[49m\u001b[43mbatch_size\u001b[49m\u001b[43m,\u001b[49m\u001b[43m\\\u001b[49m\n\u001b[1;32m     19\u001b[0m \u001b[43m                                     \u001b[49m\u001b[43mtotal_levels\u001b[49m\u001b[43m,\u001b[49m\u001b[43m \u001b[49m\u001b[43mtotal_targets\u001b[49m\u001b[43m,\u001b[49m\u001b[43m \u001b[49m\u001b[43mtotal_actions\u001b[49m\u001b[43m)\u001b[49m\n\u001b[1;32m     20\u001b[0m \u001b[38;5;28;01mif\u001b[39;00m append_data:\n\u001b[1;32m     21\u001b[0m     total_levels \u001b[38;5;241m=\u001b[39m np\u001b[38;5;241m.\u001b[39mconcatenate((total_levels, levels))\n",
      "Input \u001b[0;32mIn [76]\u001b[0m, in \u001b[0;36mcmnn_es_train\u001b[0;34m(model, optimizer, pop, init, fitness, extract, size, portion, extract_value, epochs, batch, t_lvls, t_ts, t_acts)\u001b[0m\n\u001b[1;32m    272\u001b[0m batch_output \u001b[38;5;241m=\u001b[39m model(torch\u001b[38;5;241m.\u001b[39mtensor(batch_lvls\u001b[38;5;241m.\u001b[39mreshape(batch, \u001b[38;5;241m1\u001b[39m, size, size))\u001b[38;5;241m.\u001b[39mfloat(),\\\n\u001b[1;32m    273\u001b[0m       torch\u001b[38;5;241m.\u001b[39mtensor(batch_t\u001b[38;5;241m.\u001b[39mreshape(batch, batch_t\u001b[38;5;241m.\u001b[39mshape[\u001b[38;5;241m1\u001b[39m]))\u001b[38;5;241m.\u001b[39mfloat())\n\u001b[1;32m    274\u001b[0m loss \u001b[38;5;241m=\u001b[39m loss_fn(batch_output, torch\u001b[38;5;241m.\u001b[39mtensor(batch_act)\u001b[38;5;241m.\u001b[39mlong())\n\u001b[0;32m--> 275\u001b[0m \u001b[43mloss\u001b[49m\u001b[38;5;241;43m.\u001b[39;49m\u001b[43mbackward\u001b[49m\u001b[43m(\u001b[49m\u001b[43m)\u001b[49m\n\u001b[1;32m    277\u001b[0m optimizer\u001b[38;5;241m.\u001b[39mstep()\n\u001b[1;32m    279\u001b[0m total_loss \u001b[38;5;241m+\u001b[39m\u001b[38;5;241m=\u001b[39m loss\u001b[38;5;241m.\u001b[39mitem()\n",
      "File \u001b[0;32m~/miniforge3/envs/notebook/lib/python3.8/site-packages/torch/_tensor.py:307\u001b[0m, in \u001b[0;36mTensor.backward\u001b[0;34m(self, gradient, retain_graph, create_graph, inputs)\u001b[0m\n\u001b[1;32m    298\u001b[0m \u001b[38;5;28;01mif\u001b[39;00m has_torch_function_unary(\u001b[38;5;28mself\u001b[39m):\n\u001b[1;32m    299\u001b[0m     \u001b[38;5;28;01mreturn\u001b[39;00m handle_torch_function(\n\u001b[1;32m    300\u001b[0m         Tensor\u001b[38;5;241m.\u001b[39mbackward,\n\u001b[1;32m    301\u001b[0m         (\u001b[38;5;28mself\u001b[39m,),\n\u001b[0;32m   (...)\u001b[0m\n\u001b[1;32m    305\u001b[0m         create_graph\u001b[38;5;241m=\u001b[39mcreate_graph,\n\u001b[1;32m    306\u001b[0m         inputs\u001b[38;5;241m=\u001b[39minputs)\n\u001b[0;32m--> 307\u001b[0m \u001b[43mtorch\u001b[49m\u001b[38;5;241;43m.\u001b[39;49m\u001b[43mautograd\u001b[49m\u001b[38;5;241;43m.\u001b[39;49m\u001b[43mbackward\u001b[49m\u001b[43m(\u001b[49m\u001b[38;5;28;43mself\u001b[39;49m\u001b[43m,\u001b[49m\u001b[43m \u001b[49m\u001b[43mgradient\u001b[49m\u001b[43m,\u001b[49m\u001b[43m \u001b[49m\u001b[43mretain_graph\u001b[49m\u001b[43m,\u001b[49m\u001b[43m \u001b[49m\u001b[43mcreate_graph\u001b[49m\u001b[43m,\u001b[49m\u001b[43m \u001b[49m\u001b[43minputs\u001b[49m\u001b[38;5;241;43m=\u001b[39;49m\u001b[43minputs\u001b[49m\u001b[43m)\u001b[49m\n",
      "File \u001b[0;32m~/miniforge3/envs/notebook/lib/python3.8/site-packages/torch/autograd/__init__.py:154\u001b[0m, in \u001b[0;36mbackward\u001b[0;34m(tensors, grad_tensors, retain_graph, create_graph, grad_variables, inputs)\u001b[0m\n\u001b[1;32m    151\u001b[0m \u001b[38;5;28;01mif\u001b[39;00m retain_graph \u001b[38;5;129;01mis\u001b[39;00m \u001b[38;5;28;01mNone\u001b[39;00m:\n\u001b[1;32m    152\u001b[0m     retain_graph \u001b[38;5;241m=\u001b[39m create_graph\n\u001b[0;32m--> 154\u001b[0m \u001b[43mVariable\u001b[49m\u001b[38;5;241;43m.\u001b[39;49m\u001b[43m_execution_engine\u001b[49m\u001b[38;5;241;43m.\u001b[39;49m\u001b[43mrun_backward\u001b[49m\u001b[43m(\u001b[49m\n\u001b[1;32m    155\u001b[0m \u001b[43m    \u001b[49m\u001b[43mtensors\u001b[49m\u001b[43m,\u001b[49m\u001b[43m \u001b[49m\u001b[43mgrad_tensors_\u001b[49m\u001b[43m,\u001b[49m\u001b[43m \u001b[49m\u001b[43mretain_graph\u001b[49m\u001b[43m,\u001b[49m\u001b[43m \u001b[49m\u001b[43mcreate_graph\u001b[49m\u001b[43m,\u001b[49m\u001b[43m \u001b[49m\u001b[43minputs\u001b[49m\u001b[43m,\u001b[49m\n\u001b[1;32m    156\u001b[0m \u001b[43m    \u001b[49m\u001b[43mallow_unreachable\u001b[49m\u001b[38;5;241;43m=\u001b[39;49m\u001b[38;5;28;43;01mTrue\u001b[39;49;00m\u001b[43m,\u001b[49m\u001b[43m \u001b[49m\u001b[43maccumulate_grad\u001b[49m\u001b[38;5;241;43m=\u001b[39;49m\u001b[38;5;28;43;01mTrue\u001b[39;49;00m\u001b[43m)\u001b[49m\n",
      "\u001b[0;31mKeyboardInterrupt\u001b[0m: "
     ]
    }
   ],
   "source": [
    "experiment = 0\n",
    "total_levels, total_targets, total_actions = np.array([]).reshape((0,window_size,window_size)),\\\n",
    "                                             np.array([]).reshape((0,2)), np.array([]).reshape((0))\n",
    "pbar = trange(gen_number)\n",
    "for i in pbar:\n",
    "    evolver.update(death_perct, tournment_size)\n",
    "    pbar.set_postfix_str(f\"Best Fitness: {evolver.get_best().fitness()}\")\n",
    "    model_changed = False\n",
    "    if allow_train and ((i > 0 and i % train_period == 0) or i == gen_number-1):\n",
    "        if reset_model:\n",
    "            model.reset_parameters()\n",
    "        epochs = train_epochs\n",
    "        mul_size = increase_data\n",
    "        if i == gen_number-1:\n",
    "            epochs = final_epochs\n",
    "            mul_size = final_increase_data\n",
    "        levels, targets, actions = cmnn_es_train(model, optimizer, evolver.get_pop(), init, fitness,\\\n",
    "                                             extract, window_size, portion, mul_size, epochs, batch_size,\\\n",
    "                                             total_levels, total_targets, total_actions)\n",
    "        if append_data:\n",
    "            total_levels = np.concatenate((total_levels, levels))\n",
    "            total_targets = np.concatenate((total_targets, targets))\n",
    "            total_actions = np.concatenate((total_actions, actions))\n",
    "        model_changed = True\n",
    "            \n",
    "    if i % periodic_save == 0 or i == gen_number - 1:\n",
    "        import os\n",
    "        import shutil\n",
    "        if allow_train:\n",
    "            if data_creation == \"traj\":\n",
    "                model_path = f\"results/es/{experiment}/t_{data_creation}_{train_epochs}/{i}\"\n",
    "            else:\n",
    "                model_path = f\"results/es/{experiment}/t_{data_creation}_{increase_data}_{train_epochs}/{i}\"\n",
    "        else:\n",
    "            model_path = f\"results/es/{experiment}/nt/{i}\"\n",
    "        if os.path.exists(model_path):\n",
    "            shutil.rmtree(model_path)\n",
    "        os.makedirs(model_path)\n",
    "        evolver.save(os.path.join(model_path, \"population\"))\n",
    "        if model_changed or i == 0:\n",
    "            torch.save(model, os.path.join(model_path, \"model\"))"
   ]
  },
  {
   "cell_type": "markdown",
   "id": "6061e663",
   "metadata": {},
   "source": [
    "### Save Model and Population"
   ]
  },
  {
   "cell_type": "code",
   "execution_count": 140,
   "id": "e5bb4985",
   "metadata": {},
   "outputs": [],
   "source": [
    "import os\n",
    "import shutil\n",
    "\n",
    "cond_str = \"nc\"\n",
    "if conditional:\n",
    "    cond_str = \"c\"\n",
    "reset_str = \"nr\"\n",
    "if reset_model:\n",
    "    reset_str = \"r\"\n",
    "append_str = \"na\"\n",
    "if append_data:\n",
    "    append_str = \"a\"\n",
    "if len(notes) > 0:\n",
    "    notes = \"_\" + notes\n",
    "model_path = f\"results/es/{cond_str}_{window_size}_{data_creation}_{reset_str}_{append_str}{notes}\"\n",
    "\n",
    "if os.path.exists(model_path):\n",
    "    shutil.rmtree(model_path)\n",
    "os.makedirs(model_path)\n",
    "torch.save(model, os.path.join(model_path, \"model\"))\n",
    "evolver.save(os.path.join(model_path, \"pop\"))"
   ]
  },
  {
   "cell_type": "markdown",
   "id": "7671ee78",
   "metadata": {},
   "source": [
    "# Testing Surrogate Mutation MAP-Elites"
   ]
  },
  {
   "cell_type": "markdown",
   "id": "4a28b7a7",
   "metadata": {},
   "source": [
    "### Hyper Parameters"
   ]
  },
  {
   "cell_type": "code",
   "execution_count": 147,
   "id": "0afb93c9",
   "metadata": {},
   "outputs": [],
   "source": [
    "# Level Size\n",
    "width = 14                                        # width of the generated level\n",
    "height = 14                                       # height of the generated level\n",
    "conditional = False                               # specify if we want conditional input or ignore it\n",
    "\n",
    "# Evolution Parameters\n",
    "start_size = 100                                  # initial number of chromosomes to start MAP-Elites\n",
    "iterations = 100000                               # number of fitness evalutations for MAP-Elites \n",
    "mutation_length = 1                               # how many tiles to mutate\n",
    "epsilon = 0.25                                    # probability of doing random mutation not from model\n",
    "periodic_save = 500                               # how often to save\n",
    "\n",
    "# Training Parameters\n",
    "allow_train = True                                # allow training\n",
    "train_period = 5000                               # frequency of training the network\n",
    "train_epochs = 2                                  # number of epochs used in the middle of evolution\n",
    "final_epochs = 4                                  # number of epochs before finishing evolution\n",
    "batch_size = 32                                   # minibatch size during training\n",
    "learning_rate = 0.0001                            # optimizer learning rate\n",
    "reset_model = True                                # reset the model weights\n",
    "\n",
    "# Data Creation Parameter\n",
    "window_size = 8                                   # cropped view of the observation (can be any value)\n",
    "portion = 10                                      # amount of chromosomes used to train the network\n",
    "increase_data = 1                                 # increase data size by multiplying by that value\n",
    "final_increase_data = 1                           # increase data size for the final training\n",
    "data_creation = [\"traj\", \"inbet\", \"init\"][2]      # method of creating the data\n",
    "append_data = False                               # new data is generated beside old ones\n",
    "\n",
    "# saving notes\n",
    "notes = \"cascade\"                                 # notes about saving the model"
   ]
  },
  {
   "cell_type": "markdown",
   "id": "c9fb46e1",
   "metadata": {},
   "source": [
    "### Functions (DON'T TOUCH)"
   ]
  },
  {
   "cell_type": "code",
   "execution_count": 148,
   "id": "c9302b22",
   "metadata": {},
   "outputs": [],
   "source": [
    "from tqdm.notebook import trange, tqdm\n",
    "import torch.optim as optim\n",
    "\n",
    "cond = 0\n",
    "if conditional:\n",
    "    cond = 2\n",
    "model = CMNN(window_size, cond)\n",
    "optimizer = optim.Adam(model.parameters(), lr=learning_rate)\n",
    "\n",
    "init = binary_init\n",
    "mutate = get_binary_mutate(model, window_size, epsilon, mutation_length)\n",
    "fitness = binary_fitness\n",
    "behaviors = binary_behaviors\n",
    "target = binary_target\n",
    "extract = {\"traj\": extract_traj_data, \"inbet\": extract_inbet_data, \"init\": extract_init_data}[data_creation]\n",
    "\n",
    "evolver = SMMAPElites(start_size, width, height, init, mutate, fitness, behaviors, target)"
   ]
  },
  {
   "cell_type": "markdown",
   "id": "063375fa",
   "metadata": {},
   "source": [
    "### Evolution"
   ]
  },
  {
   "cell_type": "code",
   "execution_count": null,
   "id": "b5bc010c",
   "metadata": {
    "scrolled": true
   },
   "outputs": [
    {
     "data": {
      "application/vnd.jupyter.widget-view+json": {
       "model_id": "c9784e4947a74354a8d2dabe6a8482ae",
       "version_major": 2,
       "version_minor": 0
      },
      "text/plain": [
       "  0%|          | 0/100000 [00:00<?, ?it/s]"
      ]
     },
     "metadata": {},
     "output_type": "display_data"
    },
    {
     "data": {
      "application/vnd.jupyter.widget-view+json": {
       "model_id": "3cb805742ea4468087dc7dec47454533",
       "version_major": 2,
       "version_minor": 0
      },
      "text/plain": [
       "  0%|          | 0/2 [00:00<?, ?it/s]"
      ]
     },
     "metadata": {},
     "output_type": "display_data"
    },
    {
     "data": {
      "application/vnd.jupyter.widget-view+json": {
       "model_id": "",
       "version_major": 2,
       "version_minor": 0
      },
      "text/plain": [
       "  0%|          | 0/18667 [00:00<?, ?it/s]"
      ]
     },
     "metadata": {},
     "output_type": "display_data"
    },
    {
     "data": {
      "application/vnd.jupyter.widget-view+json": {
       "model_id": "a2ee4382eb814b65ae1e81f0a6534aa3",
       "version_major": 2,
       "version_minor": 0
      },
      "text/plain": [
       "  0%|          | 0/18667 [00:00<?, ?it/s]"
      ]
     },
     "metadata": {},
     "output_type": "display_data"
    }
   ],
   "source": [
    "experiment = 0\n",
    "total_levels, total_targets, total_actions = np.array([]).reshape((0,window_size,window_size)),\\\n",
    "                                             np.array([]).reshape((0,2)), np.array([]).reshape((0))\n",
    "pbar = trange(iterations)\n",
    "for i in pbar:\n",
    "    evolver.update()\n",
    "    pbar.set_postfix_str(f\"Map Size: {len(evolver)}\")\n",
    "    if allow_train and ((i > 0 and i % train_period == 0) or i == iterations-1):\n",
    "        if reset_model:\n",
    "            model.reset_parameters()\n",
    "        epochs = train_epochs\n",
    "        mul_size = increase_data\n",
    "        if i == iterations-1:\n",
    "            epochs = final_epochs\n",
    "            mul_size = final_increase_data\n",
    "        levels, targets, actions = cmnn_train(model, optimizer, evolver.get_map(), init, fitness,\\\n",
    "                                             extract, window_size, portion, mul_size, epochs, batch_size,\\\n",
    "                                             total_levels, total_targets, total_actions)\n",
    "        if append_data:\n",
    "            total_levels = np.concatenate((total_levels, levels))\n",
    "            total_targets = np.concatenate((total_targets, targets))\n",
    "            total_actions = np.concatenate((total_actions, actions))\n",
    "    if i % periodic_save == 0 or i == iterations - 1:\n",
    "        import os\n",
    "        import shutil\n",
    "        train_str = \"nt\"\n",
    "        if allow_train:\n",
    "            train_str = \"t\"\n",
    "        model_path = f\"results/me/{experiment}/{train_str}_{data_creation}/{i}\"\n",
    "        if os.path.exists(model_path):\n",
    "            shutil.rmtree(model_path)\n",
    "        os.makedirs(model_path)\n",
    "        torch.save(model, os.path.join(model_path, \"model\"))\n",
    "        evolver.save(os.path.join(model_path, \"archive\"))"
   ]
  },
  {
   "cell_type": "markdown",
   "id": "f1e39ee9",
   "metadata": {},
   "source": [
    "### Save Model and Archive"
   ]
  },
  {
   "cell_type": "code",
   "execution_count": 666,
   "id": "98d4aafe",
   "metadata": {},
   "outputs": [],
   "source": [
    "import os\n",
    "import shutil\n",
    "\n",
    "cond_str = \"non_cond\"\n",
    "if conditional:\n",
    "    cond_str = \"cond\"\n",
    "reset_str = \"no_reset\"\n",
    "if reset_model:\n",
    "    reset_str = \"reset\"\n",
    "append_str = \"no_append\"\n",
    "if append_data:\n",
    "    append_str = \"append\"\n",
    "if len(notes) > 0:\n",
    "    notes = \"_\" + notes\n",
    "model_path = f\"results/me/{cond_str}_{window_size}_{data_creation}_{reset_str}_{append_str}{notes}\"\n",
    "\n",
    "if os.path.exists(model_path):\n",
    "    shutil.rmtree(model_path)\n",
    "os.mkdir(model_path)\n",
    "torch.save(model, os.path.join(model_path, \"model\"))\n",
    "evolver.save(os.path.join(model_path, \"archive\"))"
   ]
  },
  {
   "cell_type": "markdown",
   "id": "0c1604c3",
   "metadata": {},
   "source": [
    "# Test Trained Model"
   ]
  },
  {
   "cell_type": "code",
   "execution_count": 126,
   "id": "a9679469",
   "metadata": {},
   "outputs": [
    {
     "name": "stdout",
     "output_type": "stream",
     "text": [
      "0.08163265306122455\n",
      "[22, 39]\n",
      "One Region: 7\n",
      "1.4285714285714286\n",
      "[25, 22]\n"
     ]
    },
    {
     "data": {
      "text/html": [
       "<video width=\"432\" height=\"288\" controls autoplay loop>\n",
       "  <source type=\"video/mp4\" src=\"data:video/mp4;base64,AAAAIGZ0eXBNNFYgAAACAE00ViBpc29taXNvMmF2YzEAAAAIZnJlZQABBJVtZGF0AAACrgYF//+q\n",
       "3EXpvebZSLeWLNgg2SPu73gyNjQgLSBjb3JlIDE2MyByMzA2MCA1ZGI2YWE2IC0gSC4yNjQvTVBF\n",
       "Ry00IEFWQyBjb2RlYyAtIENvcHlsZWZ0IDIwMDMtMjAyMSAtIGh0dHA6Ly93d3cudmlkZW9sYW4u\n",
       "b3JnL3gyNjQuaHRtbCAtIG9wdGlvbnM6IGNhYmFjPTEgcmVmPTMgZGVibG9jaz0xOjA6MCBhbmFs\n",
       "eXNlPTB4MzoweDExMyBtZT1oZXggc3VibWU9NyBwc3k9MSBwc3lfcmQ9MS4wMDowLjAwIG1peGVk\n",
       "X3JlZj0xIG1lX3JhbmdlPTE2IGNocm9tYV9tZT0xIHRyZWxsaXM9MSA4eDhkY3Q9MSBjcW09MCBk\n",
       "ZWFkem9uZT0yMSwxMSBmYXN0X3Bza2lwPTEgY2hyb21hX3FwX29mZnNldD0tMiB0aHJlYWRzPTkg\n",
       "bG9va2FoZWFkX3RocmVhZHM9MSBzbGljZWRfdGhyZWFkcz0wIG5yPTAgZGVjaW1hdGU9MSBpbnRl\n",
       "cmxhY2VkPTAgYmx1cmF5X2NvbXBhdD0wIGNvbnN0cmFpbmVkX2ludHJhPTAgYmZyYW1lcz0zIGJf\n",
       "cHlyYW1pZD0yIGJfYWRhcHQ9MSBiX2JpYXM9MCBkaXJlY3Q9MSB3ZWlnaHRiPTEgb3Blbl9nb3A9\n",
       "MCB3ZWlnaHRwPTIga2V5aW50PTI1MCBrZXlpbnRfbWluPTI1IHNjZW5lY3V0PTQwIGludHJhX3Jl\n",
       "ZnJlc2g9MCByY19sb29rYWhlYWQ9NDAgcmM9Y3JmIG1idHJlZT0xIGNyZj0yMy4wIHFjb21wPTAu\n",
       "NjAgcXBtaW49MCBxcG1heD02OSBxcHN0ZXA9NCBpcF9yYXRpbz0xLjQwIGFxPTE6MS4wMACAAAAM\n",
       "b2WIhAAv//72rvzLK0cLlS4dWXuzUfLoSXL9iDB9aAAAAwAA1WnlBlKTViO+gAAcpjaYP8SoYAAf\n",
       "gw6pBsFCfHBxg5ibC562nKRKQMOH1EI0L2q21f+Gj1bXO3vlXwfp3TOnkAOLN5QkFTiH/ptZ+CW/\n",
       "+YHZDVyWcsjlo5EeVjt36Sqgalon73FaLRhGP95DhpB9dDAqf3Bg/nP2YP8teKl/d4syiWC91f9x\n",
       "KoK8Mclw2W4Os9+iBLLv3JPOmNNxJLmDwmcNs1umiJqy5Myrr4zFGyGXIZb4z8tpKrwXMHBq3Zas\n",
       "okCn/lQX7sQa17hiHBaL+wduoQZvpfEkSihzOrerNOTP27Ionji5sYstQmjuPiGEwQbtjOk72Ekw\n",
       "Evar6U1fSa76f+48DFcaxsonErMy03qkjV8Fu0eoyHUlUU09HgpRCUrDV59OzTzdgUbHSjwL4HfC\n",
       "Sk9lHRWQusgx1/YACFBS8WQAeHsPf9uU9zUnF0bC21vgZ19C05/O9Dit9nd2B5JAg6yhyZPqXTHR\n",
       "h85qKCoQDCyzj5yYUY82eplCDMlSC+8vefmgA0EcHvPFD4buKXZPG8KDcbFSUWXwHcUUsQZ4TMvw\n",
       "E9zenrqybcpDEVa9mO4ucXfLXuNwbo/3y5tQnRuq3ueupHV5oW+sEcVRrDoWn9v1ifjiUT7P2lUw\n",
       "4Ni70XH8h6NZ8B8BZE7bw5TVfwtqT8iPARZGQ1fF0ZPDokEW93xJ8HJIvdMKmXN6KwVH448hgcRG\n",
       "Vti8weDJWBgeAtQp7+T6RcsloeUG60nQCyFk0aqXEYcEhqbm8TYUQ93oq01iwmAWsHDDyXLrNwgb\n",
       "n+SrR/AGtIBlMfNui0m093lKlaJUcbiCZXmg0Idbj8qc6GLraqiGo7i6HVuW2K4XI4NVHWUs49ii\n",
       "H/t57ya7YFmDj92hCY9z7qFiuXBqR0xx8zMRWtTc2Vp5cvOJgI4Ixyh14svryWyY2W11iCUp+xhg\n",
       "A3fi2oG8NG/pkDP26zYpgAdp49jcPMc0W/j/ZOTFSrkJr6mbu0ogpLCGVY9HR8m3byjIWOWD9rwF\n",
       "5yYWWgQI8x9xrAbjVWG3EpJv3W9vYzcZRGZlsor043w00Yu+d5MV+u3t1lqfVt0tSHOyvqSy6ub+\n",
       "0I2ssZVq3is84SaXeOpgX2H+OKyqkthvO2tXH6m9W/9zLwjKmnWMaZoSVjjQYBF6XfmMf/4hTxSl\n",
       "+tHDuFnr0ZUZxt57VikbLpKuTAnq0e8zwdOs7y1xlpkHXbkQXughfJ3RfRQw7QZLNqo9ksfJVbv1\n",
       "rKJtn93z8/gJwxJs9hJ6+0WFE+TSoB+aC5EW7f0K7IiOrTNjG3tsCDKJhn2oPDVc+EKPMbBSW7sv\n",
       "w7YYsehXB7ox5eKZJdfZm7KqBRmLStZzF7udwqHevLppSZ60old/TkqXEOOe4/ixwvNpJ9Wegfcs\n",
       "g8vqy8AmNhCg9W5xxqtZwSqtGRACU4cYS9WtVKewD2yJzR9ZCnninEZI+ZAeC9zAXkpr/GsCBXvn\n",
       "RM2fKrrX6hq3g0uU5LtfiyR3ampKUktPB3rWOH/o2jdgeGJBdDpyamiMugPslOV+fVO9tfOVzK9q\n",
       "eWWh3hp6nK29WgNcNg0QAPc/Wxrs98QaRQt/cYLbXe/S/3ege1GR8pUOnW13GIyRylZr0f6PnJa1\n",
       "KaAvcOOfea4ZOad5CyNM2n2QvVvqkV9yGjxuiiTPMEjRd3RAEz+UULj7jmmuOLd6T3hdaDDRQxy8\n",
       "9DPYcGlOH+kGCgKvfUe0RpZaoVdnrm2bJqvjoSY+wJXVSd4/2GPRjGJaLCYeLzNMajrh05PpkY9O\n",
       "rEU7RIBqanmbvuE/gO7cXhVAHliK76fUw9x2HWJNwmMCn8PVlm6LwQTBlkuEyEPrsqb+MDNqAvwC\n",
       "X7d+YFxAwf+BWB4L9apUYYknyvct5sbvXi6/Pfv6j55zKy/zsv/yO1SlPR8PUhc6BHYo2GV0zznh\n",
       "/Fl8c23IIZBxW9fJFNvDKXebAYcZqqI0wlIzPlJpUGq4MjddPvYdB+eTp6rZIKmfoqh6LmyBAN3N\n",
       "q9Mp5RBCTe7KqZdGIZgHkNZExcILTqC4ylCdJaX9hwvm7mgkEboQyxF2hNMYCa3PdiXzx/XsPJDI\n",
       "aP4NjADYxd0K+bhdc2uud9BKVlM3vluT8dWqJY+o/QOFd9IcafaIjnpXaAdZvUL7is3iZ4Mn11kE\n",
       "UJ4kUPndSjbA/KpqxZBd+Trk5wpPz/sTqVv67GUNBczPBA4ca4oNngbU7tgbsNXkysoAJeQ9tmda\n",
       "/NRikzEf3liZg8z1WLOv00i5UFyL7g2wAVik9UCitqhoCl4KDMdbsjUJHioUMie2bGlQh+qOyKwf\n",
       "9vet946pi4q/bbAUgMefqezxodL6eeCUtru13YjIJOCppiZnrvz0q5Kh3yqqJP7dkZ6QQaNtkYF8\n",
       "0TG8UkxaW3CZttUuZMcbAH7KooGqAvG2fYhgsZmhFmmfQhq90fOVTZLKhGeYqHDBUfycsdT8+XuH\n",
       "Ji2HcYl4rz8h06S3Sq7tYn3pPLicvRzIQXiLl96jYhx+7+LgCarhk3E8K9icHuYKqk6ZFmI6zUEN\n",
       "jro/HsERRnexDhboWphXBG71QeaRAQjXBguNVDr2TlPHNePEh5F1zqtHZhKiNRw92h+k7d9spT1h\n",
       "PtLoolHgzpZQs6iwQ8quyiME31nt7xCVzBaSvN0ZBOALMzdIUyWff+Ktyd/XcVfZht9lWb+57t1T\n",
       "WrhE5gkNiJq+1zto2oGnGjsM/ByGv3Kd52QfWjFRPUqgc7QUkuKrfK4fP408DpdKhxnlyTdPlWg0\n",
       "CLVAePOq+jBUX59Oyrbx2REdnzJ3anSySUfYIskr/bmHKCpOmU+v206jfbMi8RXCHmLB8Cj0aVo3\n",
       "JHVrVG+P8QdJOPjuTGjBMJPVHh8yARAppMjrnGxgC1shm5OpGY4EcBaH05mWdTiXL6FJiyP84ClS\n",
       "6JtxBkYvygQWwti3YK3APC47hgPoTGGgQsvxpoeNhfmVs1lgSMIBccdM9GlmwYyIypoNr43fzwny\n",
       "K9n3eAAl/qarvOEVTs9Dbwe+ktiZ9dQtY+VMprKNonZgCGb0RufM1AkcydVxBTStMxrgsi9eCafm\n",
       "AMbGTc4Jsdt6fe8dyobMPSK9yzDOQ0bp1fny2a6tHST/9WvvZr98KDmS3WFuxl9lkkbYqmcj+F6s\n",
       "pTFd9kj16KbTUTCy9MDy47GSBpETd6tOwpyMEqCjKDvFlqW3/jSD8J3TquCJFEHzb9XODgwlw9bk\n",
       "JtuHbP/humImJe2OtA+pAyzHwYUv5hdUNOuSeIUG7kDpPAQ683OZiV6x/PFfnxopNalWKiHtaJQM\n",
       "zdvt0RBjFm0AWl3Hb7AMbpDm8M+FG4Si6ctA02U2nzxEzUZ6QmuJ+h/+O8SHxwOdpPHh6UNAR8dx\n",
       "rHIMbpu6Jo/OlD/5SyVNCgAvxmwVHPK6PmgxYbpcmgId/Adn8AP0h3Kt3jkxhlOPj0zApXo/UAr7\n",
       "dFy8A89CEhqCuMyeD4ZvjBF9OUGuqr1u26BvM5qzVlc0XiYq3L75KJTvcun9UWSHvvGreTmAGPyq\n",
       "wOXj4wGEqNOf3sAzbUL9yFbDZ3GmGQMCuwzSne/NLUKJnmPdxk7m+1wLkR5o1otfmoIB5griTnSS\n",
       "0uaQ7tZZVEwIVQy4FXW4yBD5XeH14P44TQn7Ee2q+ZKvQeZ3+0IT1PPy33tqHOprgNClidGwHqXc\n",
       "6GwUnSoF+CFRsgpnhR9myulbIRc6Of4zC2gj4j69XuOIRKH46SFXMB/Jm+ph2M0AiWsyPgF8WqNF\n",
       "zveclGx/V34+cpAoNZeOcDdZ5utc4KN3pCFHX9fIf5NB3dJGKe/5QyH/5X9S6+zbEnoNz+h9oFB+\n",
       "AdDZZtHhZt/0BqS84i6tmxJg1cT53In9MVMOs4o7t174XjaaOv117RU6EVM9E8ZiXtJCybo0SrAA\n",
       "ZGyzpc3CXmnJKVBao/LSLvzxR4vq78bqajwSjOR5FpECMEl5vZDfjC1sAOPO3INXDXfyvAcsZeAB\n",
       "9JHHa5OgfGs0a3Bpo6UKsFFwAri2j8PtRiACh+VuJ8WDgRBuAEt+VgO8KJCnAacUM29z6lPWzcOw\n",
       "5/d/CFiOpl7svcAbRerqyBk1JwIPCSnw88slHrihz8w3rXwkZT4WsX2+o7dJN9ja754AM2Bqut9s\n",
       "hGLQvWWrrIijtBffj6ln9XO2SQGRSAjO6V1eT8vFBu+/+LcpRCbSVgAAAwGbpm6bMQAAAa1BmiNs\n",
       "Qz/+nhA+Njvr5gBv0A1Tfb9J9pd7Qm6J+GJnyy9mr8OL+oF/l7n6+uo6WmkpzTUWORn0GBtZ3lFg\n",
       "7oVYAkJZ95/9jKjkvHXT1Nr/bfyNmigpKV6miVyxjo9YgTh8vTSDH8iq99VkPVSyFBnhhMCS7318\n",
       "aRQhcDWPPe+WtaRO4etV+C4DB13+OdVeFi9VfFInqKeruFqNzBtDKqOA7BBvqzOwJ1y2A0ejMY+f\n",
       "fSLxO/wS863g6uIOPalyCmYrc6xa7dzIwurQJAeI+80jq9XeXRoxlJOwH4CavFRhl55PaUbSYKgu\n",
       "4277x+3GNnwcm7krXHzhRtNWv8+TPFVJOuQiXe2skSl3YLIS+LtgAlyy34u9wcL8Xy6ASHu57mP2\n",
       "IVBaPi42aLiR3kBWPgZoL+dBNxg0vLFWUKFPcC9sHYTy47cuYEiglM23Y2Bjq3KKcb/7751U2uL9\n",
       "xLcapfbiaeePGMICdrI/bUvdlFlH3iPqxkEyKaQ6pNWsoP/oIQaQPuzcaasldmGAXizHrbdHQ4rk\n",
       "lKXRd+480TtZjXtOsB1OFRHa/1IQp6gklJUAAAA8QZ5BeIR/BGJn7AMr+LKOJsm3kCjaMSZABrFP\n",
       "t98S7dCiT2B7pxQQ5PynHRD7IduUadGOP9ZKncsJjGfxAAAAOwGeYmpH/wF97Ze6AABsMIZRVqIT\n",
       "0UjYpuGWbGbxQH0PB/NYDGglNRfG5QN2ZOsNyBW56Uy+vCHqKG+OAAAAQ0GaZ0moQWiZTAhn//6e\n",
       "EALF/bTsN442zF5O8ThaoAZi9ngbmnJLCXgXxW5jAj4/kJ5Cx34zqN0Z8Dqb/MHdBy1sbIkAAAAg\n",
       "QZ6FRREsI/8A4n9KQVjv4TC0CQgCI7i0ABFXPiDIs3UAAAAsAZ6kdEf/AWsPtbRvF81ACU9UAaNH\n",
       "UmQbOP7qGlCFVFgOiqwNh3JuXzJKpuMAAAAUAZ6makf/ALFmspHnywH8qnfOyCEAAAA1QZqrSahB\n",
       "bJlMCGf//p4QAn3zNjKOoI3L3HEJnScJt/8r6AEKSaXivAMY7mO0C0bMYbJo8+AAAAAcQZ7JRRUs\n",
       "I/8AzhBs2+H8gQSsI0VLUE7XXU6vdAAAABYBnuh0R/8BR/CoxzK9Rn2X8CXMtSLhAAAAFAGe6mpH\n",
       "/wE+TAYjZwGzpCfQnmfAAAAAJ0Ga70moQWyZTAhn//6eEAALD7XyAEHIsmrwDGO5jtA3FlmO6ePX\n",
       "SAAAABNBnw1FFSwj/wADif02Ro7/krXxAAAAEQGfLHRH/wAFrFJ9qvZ79npZAAAACwGfLmpH/wAA\n",
       "AwO7AAAAVkGbM0moQWyZTAhn//6eEALW44e29PrNu/wdYG0cARDAf/GIeNXNS9btoxoyUMK3cLkt\n",
       "u3YSSSS/+ygMxsSQrFmntOhC/zkVhpoA8RrfimKK/KhYgNSAAAAAGEGfUUUVLCP/AOU60CVqoktN\n",
       "k2QrE9B0wAAAAA8Bn3B0R/8BdPL7hNmDB00AAAARAZ9yakf/AWvMJisCXDaAtoAAAACoQZt3SahB\n",
       "bJlMCGf//p4QAtatk6fbRI9KgApXA91QCdlrAoEcGgFg/GQryT8tvQa9cDAiXqbrKWLD3SeYUt1d\n",
       "nYXB406YrLaYOCEEYChgRF2GcmMhX1VzyN9U16FTXX1ylUIs0obPtamnIdjWKPLtTdkI7JEOgHMC\n",
       "0dV6wpJ44ZJpRMrusUCGGxYKpCHFSJxZKTlRE35EAT2+OHuYpR2h8ZKmPSY3YBdwAAAAF0GflUUV\n",
       "LCP/AOf/RkpbP7+y2x1H+UKvAAAADwGftHRH/wFrFJuk4V4B6wAAAA8Bn7ZqR/8BR8wlvXNJgZUA\n",
       "AAATQZu7SahBbJlMCGf//p4QAAAHTQAAAA1Bn9lFFSwj/wAAAwJeAAAACwGf+HRH/wAAAwO7AAAA\n",
       "CwGf+mpH/wAAAwO6AAAAE0Gb/0moQWyZTAhn//6eEAAAB00AAAANQZ4dRRUsI/8AAAMCXwAAAAsB\n",
       "njx0R/8AAAMDugAAAAsBnj5qR/8AAAMDugAAABNBmiNJqEFsmUwIZ//+nhAAAAdNAAAADUGeQUUV\n",
       "LCP/AAADAl4AAAALAZ5gdEf/AAADA7sAAAALAZ5iakf/AAADA7oAAAATQZpnSahBbJlMCGf//p4Q\n",
       "AAAHTQAAAA1BnoVFFSwj/wAAAwJfAAAACwGepHRH/wAAAwO7AAAACwGepmpH/wAAAwO7AAAASUGa\n",
       "q0moQWyZTAhn//6eEAEe2fcpYUsPBACHpp/7jC3rcZzrg2QLQ1z1qR5YoW0zD8QqiaDnL/4YA/Uu\n",
       "olG5HUE6GsGsUr1oBQQAAAATQZ7JRRUsI/8AumJ390mntjYQ8AAAAA0Bnuh0R/8Akw0I+GE7AAAA\n",
       "DwGe6mpH/wEl+QRPEPC7gAAAACBBmu9JqEFsmUwIZ//+nhAAqP4RQAIygQotVgrpaY0acAAAABFB\n",
       "nw1FFSwj/wC6hQQxcqhMwQAAAA4Bnyx0R/8BJWIiCFXCDwAAAA0Bny5qR/8BJfjxQPWBAAAAOEGb\n",
       "M0moQWyZTAhn//6eEAConY9L3kAVYkfbj2PKIXjZ0imdqZq7kVevYHMIZTKpd1DWbeY9jaPSAAAA\n",
       "FUGfUUUVLCP/ALqFBPFmxgwdOgrIuAAAAA8Bn3B0R/8BJWIoCE1jsZcAAAARAZ9yakf/ASX5BwGQ\n",
       "92hELKAAAAATQZt3SahBbJlMCGf//p4QAAAHTAAAAA9Bn5VFFSwj/wC6hQAQNqEAAAAMAZ+0dEf/\n",
       "ASViAQG1AAAADQGftmpH/wEl+PFA9YEAAABWQZu7SahBbJlMCGf//p4QAFs/kQQS+d4NCrRc5NDH\n",
       "SCj6yb/VlCWy1wgfWbodSMze62r+WvurdcrrcVdjN5kEiPkBLpPOIpqaMTtyOT8zWedHWN5wf4EA\n",
       "AAAWQZ/ZRRUsI/8AuoUCtu5/0lupzv1FtAAAAAwBn/h0R/8BJWIBAbUAAAASAZ/6akf/ASX4/Uwa\n",
       "sULOfUW0AAAAfEGb/0moQWyZTAhn//6eEABT3W3qtKIoqPQAFf8P/9xgRzRTJEB/BSatLF1A93JD\n",
       "Z9/UAgrtQr3Y52piWLTb9lKNDxctntoGqnxuZkdO/43Oi+UBzupWVZ1GCKzKqWpEOMuUgjvKtsZY\n",
       "KyRyJJg6WQ+sq/AKDDYuyOjallEAAAATQZ4dRRUsI/8AuoUCgbtrdGR5NwAAAA4Bnjx0R/8BJWIL\n",
       "B3FxvQAAAA8Bnj5qR/8BJfj8aPbQad0AAAATQZojSahBbJlMCGf//p4QAAAHTQAAAA9BnkFFFSwj\n",
       "/wC6hQAQNqAAAAAMAZ5gdEf/ASViAQG1AAAADQGeYmpH/wEl+PFA9YAAAABlQZpnSahBbJlMCGf/\n",
       "/p4QAFq1jtmMxgv05so7ppAQsdNmtJOMU5HQBQlE/9GMmb0uM55I/r/8gBB7Ns5py1GcJg7c42fz\n",
       "S9PurwZIVj/fVls4RmpmSMgH3swLyRm2Ep+IRZur9L0AAAAUQZ6FRRUsI/8AuoUBdbvRHVlSS8EA\n",
       "AAAMAZ6kdEf/ASViAQG1AAAAEQGepmpH/wEl+PeWDVihohJfAAAAXkGaq0moQWyZTAhf//6MsAAs\n",
       "lUXzLu1yAH1f/8QIfZ4QAg32V8QSYfRCrkkVAeHohHZp8A2l75lvBJPRn3CfVQwOHDDdcu2LqRmz\n",
       "MGleCU4H3qermtztqcmVBNF6CScAAAAUQZ7JRRUsI/8AuoUBWrvRHVlSUkAAAAAMAZ7odEf/ASVi\n",
       "AQG1AAAAEgGe6mpH/wEl+PccPBeM74SUkAAAAHxBmu9JqEFsmUwIX//+jLAAK77DhGEaNoBOo5/+\n",
       "YwJXDKdEJc5XPYhXLsanmrO5O9MMjkiKbD+D60Q9Nfam/ff8IfMVMWKCdoXkCuRZ1oIOPcYXIVrg\n",
       "kl1eMsZegUE3qfrnNq/DrOsAfaG8pQJGWqLVLVZeu43tOSQL/eyoAAAAFEGfDUUVLCP/ALqFAVEp\n",
       "cQy9u5gRAAAAEgGfLHRH/wElYgsHYhXlN3uoIQAAAA0Bny5qR/8BJfjxQPWBAAAARUGbMUmoQWyZ\n",
       "TBRMM//+nhAAJqIWoZJGbbPA7NXp+7egIJVqzHtPs8KkZZzklyABGa7hyR6Sk5N5XaFVuNv9lgcQ\n",
       "GLgz4AAAABYBn1BqR/8BJj5CgL91c4T4lH1XmJqQAAAAQUGbVUnhClJlMCGf/p4QACScLJ6IOmK/\n",
       "CJm0DAIOn//+fwJmtK9KShjXDcF2QA8sB8hCy5Tl6kH5IL8kxeqZ9FtBAAAAEkGfc0U0TCP/ALp1\n",
       "OIwuNF2wIAAAAA8Bn5J0R/8BJWIJghNY7csAAAANAZ+Uakf/ASX48UD1gQAAAIhBm5lJqEFomUwI\n",
       "Z//+nhAAF10inQd0ndIAg91IxPKzZ5HqW7mDhjSVRhSyuBNbpI/CCZmmBKfj5ZcycaB1ibDWd8XG\n",
       "LnD6EF3xMULzRrfnTv7lvCo30nAFE88qGrkvo71tGy871FxayABONUDvwfiil2DWIr6ojdE07qer\n",
       "cBcDTnaep12+rSvgAAAAEkGft0URLCP/ALqFAL4Uw1ZeQQAAAA8Bn9Z0R/8BJWIGb6rH2XkAAAAN\n",
       "AZ/Yakf/ASX48UD1gAAAADJBm91JqEFsmUwIZ//+nhAAKfieoAulXRuXuvw4XVqlEDg+CWkjNpJ9\n",
       "DaTevrIviK0EPQAAABFBn/tFFSwj/wC6hQCsLlVAwAAAAA4Bnhp0R/8BJWIF4Qq5xwAAAA0Bnhxq\n",
       "R/8BJfjxQPWBAAAAIEGaAUmoQWyZTAhn//6eEAALHvv6wWnXAxoRkaVGYWakAAAAEUGeP0UVLCP/\n",
       "ALqFAGBvVV9wAAAADAGeXnRH/wElYgEBtQAAABABnkBqR/8BJfjyt7/nPKSAAAAAbUGaRUmoQWyZ\n",
       "TAhn//6eEAAYcoQ022vZbSN0lgEIzi3/7/AvskOMZHwhRvS+xs6r13t16zNOMF9vtXWx1bnW/lHX\n",
       "SzrKAL00E9NZ6g2aCroIj+u6hjKzzYOik9A/74ZNZ/Eh5eC6XHSKfYJXo9MAAAAXQZ5jRRUsI/8A\n",
       "uoUAxxS4gAlNKzQ1W0AAAAAYAZ6CdEf/ASViBreVkUSK8HTqRb5fksfBAAAADQGehGpH/wEl+PFA\n",
       "9YEAAAAyQZqJSahBbJlMCGf//p4QABUGPRcM5/5f0fEHyJwviUAjYubp0kruobVQQeiUwRvRBsEA\n",
       "AAAUQZ6nRRUsI/8AuoUArG3oPUjZKtkAAAAMAZ7GdEf/ASViAQG1AAAAEQGeyGpH/wEl+PQLf8xQ\n",
       "0Qq2AAAAIkGazUmoQWyZTAhn//6eEAALDcNdQ30oljomrhDH+KBOScEAAAAPQZ7rRRUsI/8AuoUA\n",
       "EDagAAAADAGfCnRH/wElYgEBtQAAAA0BnwxqR/8BJfjxQPWBAAAAekGbEUmoQWyZTAhn//6eEAAR\n",
       "0lC4BBx+X/7/AvskOMDN9AzxLyG4K5nUwr9eJ6UY4uF5IYGYIMCT4orrwrr6q5NGFGXATRShtdKz\n",
       "h/jf5af/gqf9f66rg6mmt1q09a0G0H5m/RQzAKHPRSVwWffPo52K+eQ7RkSp4d4PAAAAIUGfL0UV\n",
       "LCP/ALqFAJQuOEXQAa9JSIuJ0lMNoZXufpbC4QAAABABn050R/8BJWIFJHhSg2mKAAAAEAGfUGpH\n",
       "/wEl+PJw8QLXkWAAAAD1QZtVSahBbJlMCGf//p4QAAueNxwBWqPqUTkO9QDXcbiiPL/p794zEOle\n",
       "HonrHjcHn77waKx5Gt/nNwq62axL/AbTeKwOcgpFpW4Bl+fHp4Qha/6og2h/vbDL9HOTp0pY8yZ7\n",
       "7mZxz+4h6U0hXjyR+NESCn9PW9HyfJSaEVZBJQZY1GiDH4W7tS8GBlQ/SO9/wRA3ZVgLzv6Ig1zc\n",
       "fhJAgjqjc6HnXgTdnND8virMMW3LRltA/TxB/n6+F19EsZ83A7j1odvxZYNyCM//ZutHGa2pZWTZ\n",
       "OzKVyV9U0I2+9Hc6fg6KVrXANralJRROjzEqpo+mPUkAAAAbQZ9zRRUsI/8AuoUAZsMr9RBtCrlK\n",
       "qlRS5FDAAAAANwGfknRH/wElYgO3ywNIAAGzbOUhGL11fyLGCseIzNjJmJhJ5Q582514E+psaiDd\n",
       "QKX7AUjy4SQAAAASAZ+Uakf/ASX48rfCpG+Jd7y5AAAAu0GbmUmoQWyZTAhn//6eEAALn7iIAKxl\n",
       "1pmoyGTs+N4aKId8gMhfzFm2tobh3EGxdAB1fqsrhnfiGgJsfRwbIIHuD0EgoE11TyY/KODDCboB\n",
       "T7YM/TGVaUWmXAe7Bv/qkMX0fkcAqCT6NOKHkepudlMl5AEHEGdmau4BJorcHyLN/H+V4ZNT1T7m\n",
       "iY1Ek2k8hD1ISKvHKN17Da0sUEWFpMT00pwSqUqbEKwdYhwAVoduEa5Au+YbZ+Qzi6AAAAAjQZ+3\n",
       "RRUsI/8AuoUAZwpcVqKqloAQhaprYXnbDAWPJsiJAv8AAAAZAZ/WdEf/ASViA7fXFCbbl8PYBn+k\n",
       "EXYKmQAAAA4Bn9hqR/8BJfjx2DIQdwAAAGhBm91JqEFsmUwIZ//+nhAACjfEn4gCthCJpda7XDnS\n",
       "ONqgPdXBrVKJ+QPKaUp6e4EMqc3CCCUwxAC+bHzfIDUCnbNMUhTxyZK5KXNpAkhbfYuKgkwtb1QD\n",
       "IaopEG/0FKBz/zTbV3XO0QAAABRBn/tFFSwj/wC6hQBcGC5OMwSXgAAAAAwBnhp0R/8BJWIBAbUA\n",
       "AAARAZ4cakf/ASX48nhjySfCdbsAAAAoQZoBSahBbJlMCGf//p4QAAkpLawAn/0qpOOVq3nLlyhH\n",
       "zyPMBLDccAAAAA9Bnj9FFSwj/wC6hQAQNqAAAAAPAZ5edEf/ASViASpwEqaBAAAADQGeQGpH/wEl\n",
       "+PFA9YAAAAAoQZpFSahBbJlMCGf//p4QAASbjzzwbulzPQEQQm2tRXarnhIVFyF3wQAAAA9BnmNF\n",
       "FSwj/wC6hQAQNqAAAAAMAZ6CdEf/ASViAQG1AAAADQGehGpH/wEl+PFA9YEAAAAaQZqJSahBbJlM\n",
       "CGf//p4QAAGJH12vaL/4ukkAAAAPQZ6nRRUsI/8AuoUAEDahAAAADAGexnRH/wElYgEBtQAAAA0B\n",
       "nshqR/8BJfjxQPWAAAAAdUGazUmoQWyZTAhn//6eEAAEdELcOtb/Bc5+irADlEB/+/wb7MQYEl9k\n",
       "EnaiF8ZKx5D/+eRcFzfL+t3QuWBZZV7dHn5wOkLJW8dsZ6ESwNHjuFQQW6kZDume2Ct4Adzsi7ng\n",
       "8tjFMw9Tf4kZgOvSnUR5NLPi8QAAABhBnutFFSwj/wC6hQAxC8mcOoCN19u63ZgAAAAPAZ8KdEf/\n",
       "ASViAgkeFLiuAAAAMQGfDGpH/wEl+PGnrnYl1DABCV/4Rfu8WRYdcjHm2kTWKOAjiLBWYcqqqLLm\n",
       "4W7KPtcAAABQQZsRSahBbJlMCGf//p4QAALqdgi1ZAG5slHxiGLR/QJP0EaYrNdPZqjWvBaOZbGe\n",
       "XFEQEkjlf3njw5k386QUWdW8cVuFUpLqkrnP54jR0uEAAAAVQZ8vRRUsI/8AuoUAJcKYN9Euf7mx\n",
       "AAAAEQGfTnRH/wElYgGt9VgvUO/oAAAADwGfUGpH/wEl+PFYGFu0gAAAACVBm1VJqEFsmUwIZ//+\n",
       "nhAAAS0tK6h2cExiFghxjO7a0+wLRDqRAAAAEkGfc0UVLCP/ALqFABVwphsOQAAAAA4Bn5J0R/8B\n",
       "JWIBKl3HaQAAAA0Bn5RqR/8BJfjxQPWBAAAAE0GbmUmoQWyZTAhn//6eEAAAB0wAAAAPQZ+3RRUs\n",
       "I/8AuoUAEDahAAAADAGf1nRH/wElYgEBtQAAAA0Bn9hqR/8BJfjxQPWAAAAAlUGb3UmoQWyZTAhn\n",
       "//6eEAABf9XbY/aRgBGTBlb5eL/3ABAoLyNpR8EJe3gn6A/fo1zxNrGqS35CVbXLVIJt/3/6e5Lh\n",
       "HLKSv8DbhRlXRXRjrijNP9CpceQu70+fPsTsWMTwbua9ZwSwU0WTOyreNxzxX6MN30LDK9ntZV0u\n",
       "xTK1R18UGZbt4r46lCPQJmRPswcTdR0hAAAAGkGf+0UVLCP/ALqFABspTB1KMABXb0qsjX0wAAAA\n",
       "EQGeGnRH/wElYgFZe+sPszbxAAAADQGeHGpH/wEl+PFA9YEAAAAwQZoBSahBbJlMCGf//p4QAAEt\n",
       "LFgca0PPND9S9YdKoRxKExiRDsoBotEe15Aq5PDAAAAAEUGeP0UVLCP/ALqFABWUuD3AAAAADgGe\n",
       "XnRH/wElYgEsncdVAAAADQGeQGpH/wEl+PFA9YAAAACAQZpFSahBbJlMCGf//p4QAAE02URQdtzs\n",
       "1/oGALxYHk45FWkBWL6tIjYGJsTi5XWJ6CJlevYossqrFhn3X/AL/wdMSciExr3XIj+uJBtCiqHR\n",
       "W1oix3VZzv9zQSLtkhcwH+q8Vl5FHlvfbtdvwEs+wAxNKWdlWD1PBP/FKXQWVeEAAAAUQZ5jRRUs\n",
       "I/8AuoUAGQbeiOrK7cAAAAAMAZ6CdEf/ASViAQG1AAAAEQGehGpH/wEl+PFpQyHu0LbhAAAAPUGa\n",
       "iUmoQWyZTAhn//6eEAABJZGFKEj/cAQdq/+jAQfxNX/D9Akd4xczKRaYQdFTcHn7osCCLl9gGEfe\n",
       "0fMAAAASQZ6nRRUsI/8AuoUAGILjRjhBAAAADwGexnRH/wElYgFEEJrJKwAAAA0BnshqR/8BJfjx\n",
       "QPWAAAAAekGazUmoQWyZTAhn//6eEAAAtaf2fKm9AwCB84LSNY4bJ3nu9njMlTEi12eEYEl2Gzfj\n",
       "Es3h/nRQalyYLPrG0h22gR8B1BgQSf/haT/o1kcn4CjWOjced1oz96kJDXQttiM1hw5n1hdZC4oc\n",
       "Hg7UM2H2OLHW4dLL8NV/AAAAFEGe60UVLCP/ALqFABVMpeM2KgRWAAAAEQGfCnRH/wElYgEqffWH\n",
       "2aYQAAAAEAGfDGpH/wEl+PFXePFFmSEAAAAYQZsRSahBbJlMCGf//p4QAACw2t6kd6EPAAAAEUGf\n",
       "L0UVLCP/ALqFABUEuEXBAAAADgGfTnRH/wElYgEoHcd9AAAADQGfUGpH/wEl+PFA9YAAAAATQZtV\n",
       "SahBbJlMCGf//p4QAAAHTQAAAA9Bn3NFFSwj/wC6hQAQNqAAAAAMAZ+SdEf/ASViAQG1AAAADQGf\n",
       "lGpH/wEl+PFA9YEAAAA8QZuZSahBbJlMCGf//p4QAABfhFBWi8tgMfbADe1qzNxJ9vI38VV+kpd4\n",
       "EHhle2djGXpV/fe2lggFDZlwAAAAEkGft0UVLCP/ALqFABLKUw20QQAAAA8Bn9Z0R/8BJWIBFl76\n",
       "4z0AAAANAZ/Yakf/ASX48UD1gAAAABNBm91JqEFsmUwIZ//+nhAAAAdNAAAAD0Gf+0UVLCP/ALqF\n",
       "ABA2oAAAAAwBnhp0R/8BJWIBAbUAAAANAZ4cakf/ASX48UD1gQAAABpBmgFJqEFsmUwIZ//+nhAD\n",
       "C7WggCoFtlgGBAAAAA9Bnj9FFSwj/wC6hQAQNqAAAAAMAZ5edEf/ASViAQG1AAAADQGeQGpH/wEl\n",
       "+PFA9YAAAABqQZpFSahBbJlMCGf//p4QBf0NBACCQWdZ+fCNagHmnf/YYN9mIMGlCL7J1jKEUp/b\n",
       "ek/Qsb4evhz9+Us60FbtpcVa4FypETTTtX2kTF+i9r1nGjBf/k8jKc2KLumbIEUCRpAWT9NyruY4\n",
       "MQAAABNBnmNFFSwj/wD4w+OeG5lc+BdwAAAADAGegnRH/wElYgEBtQAAAC0BnoRqR/8Bke7y0gKC\n",
       "usAAiC+C0w5WgtiN/ORj99HMIRFEdm8UrR3cQyfAu4EAAAAuQZqJSahBbJlMCGf//p4QBWw31ABr\n",
       "XVkob5R+X146gZc1FWFjDyDxXn0TdbwF3QAAABJBnqdFFSwj/wDzAogujoGbAoMAAAAOAZ7GdEf/\n",
       "AYfDq6akAtoAAAAOAZ7Iakf/AWLOlsWEAf4AAAATQZrNSahBbJlMCGf//p4QAAAHTQAAAA9BnutF\n",
       "FSwj/wC6hQAQNqAAAAAMAZ8KdEf/ASViAQG1AAAADQGfDGpH/wEl+PFA9YEAAAATQZsRSahBbJlM\n",
       "CGf//p4QAAAHTQAAAA9Bny9FFSwj/wC6hQAQNqEAAAAMAZ9OdEf/ASViAQG1AAAADQGfUGpH/wEl\n",
       "+PFA9YAAAAATQZtVSahBbJlMCGf//p4QAAAHTQAAAA9Bn3NFFSwj/wC6hQAQNqAAAAAMAZ+SdEf/\n",
       "ASViAQG1AAAADQGflGpH/wEl+PFA9YEAAAATQZuZSahBbJlMCGf//p4QAAAHTAAAAA9Bn7dFFSwj\n",
       "/wC6hQAQNqEAAAAMAZ/WdEf/ASViAQG1AAAADQGf2GpH/wEl+PFA9YAAAAAwQZvdSahBbJlMCGf/\n",
       "/p4QAo6HPDIAFBmgZWtas185QNBoeb905TE2jVt5Rh6rYFnBAAAAE0Gf+0UVLCP/ANMTXPiYyVF6\n",
       "BZQAAAARAZ4adEf/AVAUnqLDakJAOqEAAAANAZ4cakf/ASX48UD1gQAAAF9BmgFJqEFsmUwIZ//+\n",
       "nhABf1HLj4QWKJSANvKe3jah9j4rm+H/mP/irlAPq5C3hxVaJoJOjSLhcoNjItil8X+n1FdHkB0T\n",
       "6QdlNg0HIvHbOf6WR/5z9qWQNaPVor9jQAAAABVBnj9FFSwj/wC6hRH/PvgAHPCgl4AAAAAOAZ5e\n",
       "dEf/ASViiFQ2gr8AAAARAZ5Aakf/ASX5S2+i8ectQ2YAAAAZQZpFSahBbJlMCGf//p4QAVr6MYJG\n",
       "bNA2YQAAABNBnmNFFSwj/wC6hQ1G25aCiEHTAAAADAGegnRH/wElYgEBtQAAABABnoRqR/8BJfky\n",
       "w7/bsMaBAAAAE0GaiUmoQWyZTAhn//6eEAAAB00AAAAPQZ6nRRUsI/8AuoUAEDahAAAADAGexnRH\n",
       "/wElYgEBtQAAAA0BnshqR/8BJfjxQPWAAAAAE0GazUmoQWyZTAhn//6eEAAAB00AAAAPQZ7rRRUs\n",
       "I/8AuoUAEDagAAAADAGfCnRH/wElYgEBtQAAAA0BnwxqR/8BJfjxQPWBAAAAE0GbEUmoQWyZTAhn\n",
       "//6eEAAAB00AAAAPQZ8vRRUsI/8AuoUAEDahAAAADAGfTnRH/wElYgEBtQAAAA0Bn1BqR/8BJfjx\n",
       "QPWAAAAAE0GbVUmoQWyZTAhn//6eEAAAB00AAAAPQZ9zRRUsI/8AuoUAEDagAAAADAGfknRH/wEl\n",
       "YgEBtQAAAA0Bn5RqR/8BJfjxQPWBAAAAkEGbmUmoQWyZTAhn//6eEACXcKyp4LysYARr//+IDXbe\n",
       "fA0vaH3X1ynQ8JHW///JACgD7XbSN6xngSIJTQFVGjT7dGNxU0qAd6M+dwJR4JjoAV+D/UzDqKNH\n",
       "5GM5fd6UZQXUMlHmmPjV01EfZyzpNRqf7fuuxImk42d5VRhefc3ehkOZ3DSldt7953ZLv4VFIAAA\n",
       "ABVBn7dFFSwj/wC6hQRzb0Rzcv7Eh4EAAAAMAZ/WdEf/ASViAQG1AAAAEQGf2GpH/wEl+QVb/mKG\n",
       "iEMCAAAPNGWIggAO//73Tr8Cm0WXagOSVwr2yqQmWblSawHypgAAAwAAEbBufJcNeavSJAAAraG4\n",
       "bzMTxeAAfhFUBq46jLbLBm43eMsQxYSE92aCUcr+tl4Xm1GnH0usibvYTNKCpBTuoqYFYsslgoQW\n",
       "WMBQS0mAcXNThhIM5pow/1FeR6d00dYYflV1DtaS0DkcaLMQRRaC6XUEzUDzhCJg0r0PSt3SZeiO\n",
       "u7oDF9Q0VssdHDf0TyKOnI5nV4iHRCKuY8i/B55i6q6BU3NiN9HGf9AKgnOISVBCiSQ3jlqZscbl\n",
       "DHki+dAWY8UuKP/TSFQGLzPVC1Gaw0mO5ffe9tn+15BeAaAS+RqUVf21VRtjQjsdyxUIraquPNtU\n",
       "j5bxOiHXKqJyESzZKNc5yOYkDK4cDuI2btrolLGBxNPNseDRfdh2/f7RCYs4XxeXCAiuVM4ToJrJ\n",
       "mIK4/C708bOGOU3YbyZWEdsmE8fMgDtH8dcR5Q5IDkNmox24u2fiyZqRC4ub3gk9EMjhi5/jk3Cb\n",
       "vFd/ZUOyFqrBfyTkoEVmhFdBkW5xQ4/Cjmo1LxNP3U635jIgfpAEwVNdobmkpbDzKpv7QJ9cAqZy\n",
       "j5JYN2h+Vt2kaWD9b2onDuEi1E6NaD2xp6YZdok/pAVyh5OmxiarQbhuzJaaTZWeUTWhZXQpe0V4\n",
       "ky5JnXv8VZBaaVvePy4cU/jBRxN736/Lf+GnJs/2z2FwQRSprv4/4Zu24fNcs4mOQKO9sr1kDQGP\n",
       "oIjVjm14WKloOfkonLl+nTUTUx0vxmv4L2fPs9QEefZMPlQMK+Y6ePeUkWBxDBrPHF+gm4e4nMEi\n",
       "F2PSVzEBcdvJsk1MEa5NJcr10th6o0+luF2u1rfFIMLmbEOUm1I0HvnepP23zch5ipmIllFzWejz\n",
       "tVBiCWbbwnWEKjHgB0oqMe7XPDQUF7FhMvlRcIB5MShVKymsvfdTqnhZmDp4GCPUuznSqaFJ36zV\n",
       "SV/wupXPAulI/Vqn6IwgUxkSix/7ztOz2BjNHT8rMNqnnZAMt/JvxDKWyTN894/aRmVA6ZVXyNyY\n",
       "HI3r5oceYmB3d+OA8BJr7ceDF9l4XcN4qhH+8qInGi6inoJPyiDYO72PsduwWxvsdVVVrQwzOuZ8\n",
       "16lJuVaad/dhlVCm+zlfLA85c5oLlTNCYR9xqnR+V6WdA80rr+oS9qQu/VovAFIJjvwQgfEgkHk1\n",
       "foGekjrh8+0LqjFkliL4jt+zpKYSkWSDRDgal7D6gaOMNFsFKW3c/d8zhE23EdSU3Eb9Y4Kyi1KZ\n",
       "leLEHWknFp7brY/qRltVx2esPNun7TNNAnXnrr4eOItc6QDj9g5Zgk7uR3q8q0zcgj5fjbubhdAB\n",
       "k+UixdTtBGZec1m+jvfo780ZY0rRJknuCSvChoQUR55ypQaaHrqRuhmVXEAUO/XTmS1cRJDy91n3\n",
       "M8XQa5rgAuxrDG0mF/uDWlj9bgM6hy3ITe0zBWRpY8le+yB5c7t/jtW1sVJ2dDAvHjunTjKI2E1W\n",
       "s1cpsVmKrJ2AtU9FbeGDssLIhSoC0N7hEF7Hj+tcvWcpibUH8QNAkT2xAt2n9fs0qquvPlksn9xQ\n",
       "xJ8PB8xaMtnTogCiiQP9evboRY2kSBb1CpgB6YC0Rq38GOMW7P7aQuFVlenHlAp2La7Ck1iV1i5q\n",
       "/XJl9luvaoi7Wi9hGcbuZpcoxhMC6NtpSC6ck6fA0awtUNHFxR2/PHmti4SyCuSGT1+UOLoazvU/\n",
       "w/ZFP5LcPeLlMPVNxGyaKrY4sXsbRQ46ZCtNUNgwk0yo346tXJ72XUxylXInOKS0N4NA4oB2bCX7\n",
       "MTk4onIu303pckzR/C2jYaPAFrDaQE0ATTNK1b+FTCANaU/SaEswe6n33/qh+C0HCqgS82PfZ1ws\n",
       "G3toylvg8aKeTo4yx4t2ZgjDJ0q1+dYWy0L1Wpoj445JWMbva/GSrCJTViKwtulT/H/8nXpF2H4Y\n",
       "vV9odgKu25VIcNJ8M+jgGRG9ATPvy5mIli5RZ5MS3yhL35U78KRLxMVtwavCM6OxdGsabbdAavUD\n",
       "oAohAffoVXGvl4UQcZ/ZQMf9aEb1xmYqtRZnTBbjds6GS5slr6Te+uT5L7Vdcfk2t7yos4HucYnj\n",
       "ehtAHQBNabFWe/tO9DiOqXxICj/iOCedX7MQyUNMBdEiQt/V2q0FAcNmj0bBab/IseroQOT8uzwP\n",
       "xIhaOLvdVMvK1fhbr55MLBmemUondbzR+lQv7vzXloG4kN88UGYpztVAtbdbDfrPqWop+EYunmzV\n",
       "uZ71r5K6bQDXM07WqQN/ypn9FaZiRXDT1XZ5Nq+YsfQ3i4NAH0m21pCwzSDACtSm7mIpuDR9czhM\n",
       "qgkOFv1wTZ06qWTHb42b59AuobNppGngVE7B5CoDoTNNH5ATO0rMkP7739wqcZuh0hW4fIB5+qU+\n",
       "oqfOE9a9w3NOKhsLpgPPDIv2as0FS82P8SYSzpsfDg7zcvn6HpNc62JnTpYrWNOE70l21Qmt0Dzg\n",
       "CZ2yRJwQU2RLODmzWDWmqeLlfrZravT0RuhX2ZyPCfHyyPfD8AS/0YNzZMYfkvHqzpIvCCvSX5Wz\n",
       "kvJEHb6+PpUeyZaU1dyhCSg2I6bTEltzJg5WJu+XUv+TksyAU1mJC3akC8VsMjU9/8dk/GZS8vJj\n",
       "N9r/HWXR2ZYs0dbfddGOdicwjWpRBKUu3xLHhliKCSBe4IRqQUZD/jwWGl98CdO7lsgQdaKJ9AcV\n",
       "8u22k63ans21Ugb+QTZxuFp2Eet0PYcIQdm55oIrQXpicUk+M++0+UMBKaorTxow6yWBqKX9EFrX\n",
       "uA/x9O5y/CT2jRVOQ0Yj7BXk9zg7cRyEdbrrWG7qLIjggpUVJysVR7ENw+KTC6xrQvD11ZAmhbx5\n",
       "l+aQ1DXUVLXSkot5PLSlzKWAig/55rH3iBmUSBdlOzP6B7tRH/oIG/leWGJaqnJgzY8CaXsKWODH\n",
       "vYjnA8unzXkGFJvldZjvwtTPxStHgobNVT3zOAopYcKLuVo5YfHf1feYpTiYKBDGmkyeMZY9CX8D\n",
       "HEzluoozgz5spgzVeWVkjl/AZ+uM2VPfndNcRvHJfsBsg6t7GBWcak9vccIrx0DoZuLMNGap7gku\n",
       "EB5e2kFldA3PYS+VLT2Zegdho58yYkH0nmi8naQ3G5B1zk2IdZIDgShoP+2WM5f4QriU7WxwX07p\n",
       "4hSkreAuyYeWOtE/GsOPKgCIkQBI7KSZZy2d/jVYFDdhkXT4kgaB4SIvfKyPIYJxy79bFXH8fT6B\n",
       "8/j0X65yQmTL2+n1NdMLLdtbuIYhRTS2bjcpoDtYkMtzmsZbHBzV5nvasvAozD2k1eTaIFry84Gj\n",
       "dOlIBvURCYYN5hdey4E306RZHolZ76Hyev4f1Ts0CKQXBNIKMHaE8wmz6caKtCMuxALIQSWqc0L3\n",
       "E4AWyFKRnKdc9ILh4duaf8yhgRd1377lKaNubczII36gxWclNl7B5Y1fZIc/R/x+KWTBYHnsTmu+\n",
       "zixTUpnhFDCDNQ+wYR9qTOTODpGtDPWs1cNN8M2T4s+oIuiZ1p15T3pIRBNKV+slxJPLmpK5T8IG\n",
       "c0FpIKy01GAbUJi1eiT9URK07xDRyMHZRaZDGdfo24K3phXMOXDVSohKLOvh1hjXXu65HBmf4a80\n",
       "XjD9YkkS/Be9h6qI3d8HkUqZe17fhzfZZv1WMnwQS4bqf4LDEeneYHe1oTi1b0zhSuEiO7SLknDE\n",
       "jLP0aJ24ClR9BH6Seu+zGpmQQiPvUMGOnVNkIPK/QGR5aQ9tboVKS+ASujQPmezGMEC1PU3JU/fv\n",
       "0uBIVXsVpL1YxdUF0nqINIlo0kBqe1yhjPG2HM8hYGDmxyWqtDWFWhbwG8Q8kYyx/c1LWy0k+MTw\n",
       "VwJwpmkqni15Zj1ghZADVYrviv/r/BHJL4ev8DvG5XT19I87HIR9Ln8P86HZ/yxWPVjEz9Xsnlb9\n",
       "VY0u4LcaBdxxc1SqFCrPphOMYb+qRT5/h5jWUq0AuXVRXh/WkCGBm5Z1bU/aVpWj9TXXsl+9mmb4\n",
       "xOs+J3yZ3KdFewe2ndR/u6ozE/pJi8XEA8BDZf+DblrgHPgukWB2yUikaITlhz3ByCBSFpV/IWvy\n",
       "UFaHmeQfDOx/iSDFsJ/PdPCB9HqDdFw89WtP2bMuPLu79wWlyS0Nbr+rio7yAyIDOh8Gqf0aQdHn\n",
       "2VozmaWlNauR4Bog5xlNCDJLRM/yQOCsxRnI/mbXZ1RQYZYTs0Pe4o0xw0gUaHbuMZg4XsKT4nRQ\n",
       "Px94PFPMxjUTD5lIhfIgSM1Woe9E1HsfNbYkVe75F/lfIRPZLaD+hs5ubFlKMZQpt2sxKVksxoFX\n",
       "QkH+BC/Z8CGoVzRJzK1+DcB5TdtGOV15lNBuMxNY32oPyVpOtAZkYLWoLxrF72DoO+Vthr8zlb2e\n",
       "2Z8CjWZx3MJAvUXnyqzQnCfflmwryO+GNSL2jnqtHYx8gnCaSS5bW0vV8vsftf7sjMPwWyxz/k3U\n",
       "Ay6SAtTQM9CwYzpErAuAUZNskk0gUmmYvb4ZeUGqk6z7jxiKHQRav57XIUC+olwzcpFfovAJteRj\n",
       "vPodiXrZVbNjWY8zGf9RWYS4DqJ8x/QCjaPxbIgJa2T2NMd8xtobgGPgG3F5R9e8Vk+DvXS+BwbS\n",
       "bsC+yMd5oN538TeuhLlMvJjebjjDneDpkvH5rYmVlQX5jozMkSAIx3c7zXMkH04BpuR9mFIv8ppo\n",
       "uKVcryIC17uuZy4+nXbuWmsbL6NAGz6kEHeb5VNMZClihbuPFZYz8MoyixeYgQu+hoPW9DmKwrrP\n",
       "sRNMGgfmkOJTWKNBLhfcBqUCB9w3S7Qo8HoBBinmhtdvEduYJBTQzVc1wKkDqy34kFjbtaImhZDI\n",
       "K3lHk/I8dr+SxiDXVUJjuPO35HdhAD11OGfeYXOipqa1up+2RyI3+GiD3cccHKYg+uBmLmrobHhs\n",
       "mZd2tE2y6I6aEE3BtICfyfzdBsBhIXAmuyXNMgoE5IlfFw6zJMqM+QYLUTtUB2wVl2AU70mDRPPV\n",
       "ig1QMo5B8uztKYgSbOo1ZmNUhRVtIlyTyofe5n8AWWM0cXvf0Xi2p1s7SAUOwTCjJWyUnisEkQuk\n",
       "zl+lQKM1fh7BbRERRLrcEquSR9bHQPGakrnWXjJDmA3BUjepo1jAwJJzXd7tkeduTSWBTzeSywJ+\n",
       "iq9v8auKa7pBL5i/ZCsAAAMAdOY26z8AAAHPQZokbEM//p4QNdixMGx9XICPMACEAWPfmv29geD4\n",
       "mu8etOlVH4DkjyKL/00UDEpuXf+Y6FznqOgp/k5X15YUFbaveSvw3qTGTEgTLRoM5J87lO3H7WdY\n",
       "QOZspXSSnBAE4qE7BYijJ86hu32UeUDl0n2Nnmjz6BnYTDxwWSosnXJc6VMPw0KmLL3CU/Hyyw++\n",
       "sEKRSBdyof/UvtT9Sh1iYKlIeDG8CK1Y6rFkCldxWUli2b4BglVqh1qUnKlwM0bFe7HFdd+Cfj81\n",
       "s68a54RqxnqGtpprmGGVPi1B2YjsFXfVQnwb6YN5i28XTNk5sWSGq1RP5RdmqrYEYXjn+YfIvURM\n",
       "2eK29v+cmnkEUeqvFwvULWvyOW8pldBZCF5E7i0QWysbMN4/vO9mFX8Ci32A2iDgpB1z0PJFU6k3\n",
       "V7rn0qoCU4G7FTtFV8XsRP1D3dAJo4eNH6YeBSjnkqHJ8v5rWGuRH43OdW0PEKkwqqsWYcsGfrD6\n",
       "xo4f/oYhEVOG3hhVgMu/Prbzrkoh7BdwNUbPDEG7V5ZFixJ9W0JoFIDoX2YGZ9cokNrhHNCdCkHl\n",
       "izS4yfwbxRF2fayuR9YGhaBqSHHDtGkcWsUOMRLXjrXSuwAAAEJBnkJ4j/8GcdYEEVg8fUa7sXap\n",
       "8C03UE8en6E29Q+yh9WFLLl3D5pTIJ5MyUWrUQoRhJ3KYZCU6YjNczaWqopmTsEAAAAuAZ5hdEf/\n",
       "BHM/KN5NfEt8bRAzdqmizqu3te0S4Fez0/UITYrtqvAVx5GEH3CggQAAAB8BnmNqR/8Ecwyk9VIc\n",
       "hvLpJAGssVK20HaubzCQAMCAAAAATkGaaEmoQWiZTAhn//6eEDXYsTBociKVrqoYK2n8UYAskyfl\n",
       "Gax0iwrjL8r04yAAiGsNYqvK0Z9tSe52Wmttg11MMaWyf3gHz+8WSCAEvAAAAB9BnoZFESwj/wLV\n",
       "sL6rlCj/zo8BjhRnWU+BgoDOcAl5AAAAGAGepXRH/wMLgCwpmZ07cQde1K38OoABmQAAABEBnqdq\n",
       "R/8Ec+PYjxtkA7FSDwAAABlBmqxJqEFsmUwIZ//+nhAOlseAbUGqZoJOAAAADkGeykUVLCP/AC6K\n",
       "uqFxAAAADwGe6XRH/wRzGGxCBPhxwQAAAAsBnutqR/8AAAMDuwAAABlBmvBJqEFsmUwIZ//+nhAA\n",
       "LVie+tREWGfBAAAADUGfDkUVLCP/AAADAl4AAAALAZ8tdEf/AAADA7oAAAALAZ8vakf/AAADA7sA\n",
       "AAByQZs0SahBbJlMCGf//p4QAC5wQpdDLcTsAX3Ov/7/AlRwqLdMKXqjqF34KH1h1wKkSBAXnueG\n",
       "aK+vqy7I6uUxTO1+Bcsxg9yAZ4IoYdgRwMSA0TgEAqqktGDQrrri9qxPtC/PZt2Oz/3IlHu9vtmh\n",
       "rTUgAAAAEUGfUkUVLCP/AA7X9J7n6ApIAAAADwGfcXRH/wAX67pk69o3HQAAAAsBn3NqR/8AAAMD\n",
       "uwAAAEhBm3hJqEFsmUwIZ//+nhAAKfwXIlQAUgtf6/yyqshohZWHZuzsw+VcnmeweJDb4faPly+D\n",
       "gRN4Z8yJROo8olGyYbBgx3alFtEAAAA7QZ+WRRUsI/8ADYIRaABzgN2WtdnMQ3fbMNZMHncuT+kE\n",
       "CvrLTxkpWXl910LxIG31FtV1xyolGzIASRgAAAAPAZ+1dEf/ABWfL7hfiO6AAAAADwGft2pH/wAV\n",
       "lMBD8wGYEQAAABNBm7xJqEFsmUwIZ//+nhAAAAdMAAAADUGf2kUVLCP/AAADAl4AAAALAZ/5dEf/\n",
       "AAADA7sAAAALAZ/7akf/AAADA7oAAABLQZvgSahBbJlMCGf//p4QABiagWaDzlh00zO18AIpTl/u\n",
       "dGVeJE0Iyt/YHk2uvh4B9u86jeltveeI+mR8PHeMwy4v8w7p7V5c/GLBAAAAEEGeHkUVLCP/AAfD\n",
       "+lOQpoEAAAANAZ49dEf/AAyV3Th5bQAAAAsBnj9qR/8AAAMDuwAAABNBmiRJqEFsmUwIZ//+nhAA\n",
       "AAdMAAAADUGeQkUVLCP/AAADAl8AAAALAZ5hdEf/AAADA7sAAAALAZ5jakf/AAADA7oAAABwQZpo\n",
       "SahBbJlMCGf//p4QACjYnqAIroxd/AoQk1Lf/z+AswTNILjK3iy2fa+RjJqbASX/njXQISu0Ge1R\n",
       "xc+0ryEHW9zQlki1heosooP8ihu9KYF49cbQRrmp+rQ2hAtED8r4KVm01AqBcmqp6lqTQgAAABBB\n",
       "noZFFSwj/wAGmJrTkMaBAAAADQGepXRH/wAKh5fgYSsAAAALAZ6nakf/AAADA7sAAACUQZqsSahB\n",
       "bJlMCGf//p4QABifUTwYOWwBf4DT/7/BvsxBV9r9CuEJOXDsr1aycTUtOltp13XexPbgxtehRJdU\n",
       "g0xpI9rgr2Lej4DiNp4hvzs8sJW5/jyqadp++GcxeDpP/Jipnltxieqqm+gcVQekU2xgDgaRN6uR\n",
       "Ze5D9WoX8YAE555Q59vOgOKFVsea6wcwRfBIVgAAABRBnspFFSwj/wAHxh8n7PDvTSksaQAAAA4B\n",
       "nul0R/8ACar+HDzpgQAAAA8BnutqR/8ADJSVLeuaTUkAAABoQZrwSahBbJlMCGf//p4QABY9ySfC\n",
       "Pk2CAEe9eC0krkBQkfXTz1vwRaNkEm7JTTg5QPs69jnNCucU88mksA0xHJSL3edy7kaEYyKolbHj\n",
       "RGEUwH0Rc40/tmNBtVwOEKMS2R4HDTplkYEAAAATQZ8ORRUsI/8ABxYfJREiJRqJjQAAAAsBny10\n",
       "R/8AAAMDugAAAA8Bny9qR/8AC15hLeuaTW0AAAB4QZs0SahBbJlMCGf//p4QABWHSUnuAAcnBRzO\n",
       "fMuy/wVMYbrB//7/AvskOPuVC9vZwFzRJdCc7RnNTFw1NvqrkOZz+PbPsQV9Y9/ifT+pzuiavFyx\n",
       "59lI5Dn9/eVLSuuDmdLlJsglVB3LBLQITNouhsOGpNVcWEQ8AAAAD0GfUkUVLCP/AAbApqvtCwAA\n",
       "AA0Bn3F0R/8ACs+ij4cLAAAACwGfc2pH/wAAAwO7AAAAOEGbeEmoQWyZTAhn//6eEAASWi14IWAH\n",
       "GMapOTHr6/8b0fmn+UiFMDkEO0FCL08V5BCSgolmhAfNAAAAEEGflkUVLCP/AAX6Y9fs5mAAAAAL\n",
       "AZ+1dEf/AAADA7oAAAAOAZ+3akf/AAlvxzEE70EAAAAXQZu8SahBbJlMCGf//p4QAAk3zPAWNmAA\n",
       "AAAOQZ/aRRUsI/8AAvxTq2kAAAAMAZ/5dEf/AAS1iAWrAAAACwGf+2pH/wAAAwO6AAAAE0Gb4Emo\n",
       "QWyZTAhn//6eEAAAB00AAAANQZ4eRRUsI/8AAAMCXwAAAAsBnj10R/8AAAMDugAAAAsBnj9qR/8A\n",
       "AAMDuwAAAIBBmiRJqEFsmUwIZ//+nhAACn43HAFb9WqS34/hbXF8AhRb2V/C6jpaW4QNIZ4KImho\n",
       "OutGnIpziTgxjgvq8dKWovglAzBWEvVGy3/T3JcI5aOvBFJ7SR/5T+y+NR9Kn6B79uE+95lrEcnI\n",
       "IcO5x7+q0quvCh++NGqeCRjQ8eXGBAAAABJBnkJFFSwj/wADYE1Y9mC2PxsAAAAiAZ5hdEf/AAVk\n",
       "QCaix8AIS3tt21v96eT1jvo9PTaR+9EfdQAAAAsBnmNqR/8AAAMDugAAAEJBmmhJqEFsmUwIZ//+\n",
       "nhAACTZh1pJI4CgmtUpA0Hy2MvwzI02OwpBV//ZwegkE47A6DyZsk1I5P1Wai5EaFoek2YAAAAAP\n",
       "QZ6GRRUsI/8AAvxTVfczAAAADQGepXRH/wAEuGhHxDMAAAALAZ6nakf/AAADA7sAAAAaQZqsSahB\n",
       "bJlMCGf//p4QAATUkg0h91FNEz4AAAANQZ7KRRUsI/8AAAMCXwAAAAsBnul0R/8AAAMDuwAAAAsB\n",
       "nutqR/8AAAMDuwAAABNBmvBJqEFsmUwIZ//+nhAAAAdNAAAADUGfDkUVLCP/AAADAl4AAAALAZ8t\n",
       "dEf/AAADA7oAAAALAZ8vakf/AAADA7sAAABWQZs0SahBbJlMCGf//p4QAAT/8HhjmlJzMBcAcTsl\n",
       "YBIzj1+AwqrYcf/iiU/FFom/FOTDwqOEPdkeE0b8Aa5hx4zKxplcCLRsVJf/SWNR/3JhsPBGeTgA\n",
       "AAARQZ9SRRUsI/8AAZwms9z9DAgAAAAPAZ9xdEf/AAKOKTVLZacdAAAACwGfc2pH/wAAAwO7AAAA\n",
       "I0GbeEmoQWyZTAhn//6eEAAAk2z5VoIWp4GKLIVLEj6R0GWZAAAADUGflkUVLCP/AAADAl4AAAAL\n",
       "AZ+1dEf/AAADA7oAAAALAZ+3akf/AAADA7sAAAATQZu8SahBbJlMCGf//p4QAAAHTAAAAA1Bn9pF\n",
       "FSwj/wAAAwJeAAAACwGf+XRH/wAAAwO7AAAACwGf+2pH/wAAAwO6AAAAJkGb4EmoQWyZTAhn//6e\n",
       "EAACkALlqPqbbkAdzVm1aSfJUdzLYBOBAAAAFUGeHkUVLCP/AADTEGzb37n5WvM2kQAAAA8Bnj10\n",
       "R/8AAVDy+4TZivgAAAAPAZ4/akf/AAFHTAQ/MDFRAAAAaUGaJEmoQWyZTAhn//6eEAACXcKyp4Ly\n",
       "sYARr//+IDXbefA0vaH1w2NSR5XuB//xIAT98K5XGfhTX3PS33aVhPbjl2v4HORtFBbylOoO4xpd\n",
       "dj0Yy4sG6wACaHQnwgpTXfQ5+iS83aMPwAAAABFBnkJFFSwj/wAAxBNZ7n6MqQAAAA8BnmF0R/8A\n",
       "ATVfwwY4pd0AAAALAZ5jakf/AAADA7oAAAAWQZpoSahBbJlMCGf//p4QAAE1SBsvPgAAAA1BnoZF\n",
       "FSwj/wAAAwJfAAAACwGepXRH/wAAAwO6AAAACwGep2pH/wAAAwO7AAAAE0GarEmoQWyZTAhn//6e\n",
       "EAAAB0wAAAANQZ7KRRUsI/8AAAMCXwAAAAsBnul0R/8AAAMDuwAAAAsBnutqR/8AAAMDuwAAAHpB\n",
       "mvBJqEFsmUwIZ//+nhAAAT6vtMPe4AVDgf/cYRbtDiXmUZFr1YCuDPNiSkgZeWM3C/QwU5+2u4s3\n",
       "/FHeL94JLE7Gipf9USGx9xG/JigKYXbhLf0C7sTgf66FhY3tv6bEQkkENq0Pp4uvVeMgp4Zf3FmD\n",
       "H+4IBp0UVwAAABRBnw5FFSwj/wAAZwmuzK1SmckUEAAAAA8Bny10R/8AAKOKTVLZbNwAAAAOAZ8v\n",
       "akf/AACW/HMQt0EAAAATQZs0SahBbJlMCGf//p4QAAAHTAAAAA1Bn1JFFSwj/wAAAwJeAAAACwGf\n",
       "cXRH/wAAAwO7AAAACwGfc2pH/wAAAwO7AAAAIEGbeEmoQWyZTAhn//6eEAAArUiT3d64xoAt98Sz\n",
       "QmzBAAAAEEGflkUVLCP/AAA3Ux6/hmAAAAALAZ+1dEf/AAADA7oAAAANAZ+3akf/AABYk/FZIwAA\n",
       "AIBBm7xJqEFsmUwIZ//+nhAAAJ/vsXDClw4BJtasx3hzEAbcNiUXteYBupE3n8KIaLC6jkX1/2/r\n",
       "afHN/Bwv0rytyZ5x5xqtaMfQHHy5A8Ti+MEcS7mWVmw8T7Re7pplm/W57WIZ3PH+0v3SsNXxzJzi\n",
       "RqF7FjT9RjuVraJAk2KucAAAABJBn9pFFSwj/wAAM5MHnZWxYEAAAAALAZ/5dEf/AAADA7sAAAAP\n",
       "AZ/7akf/AABR0wEPzB9QAAAAJUGb4EmoQWyZTAhn//6eEAAAn1caeAE3bXf9t1XUUQ5L6LCT9bEA\n",
       "AAAQQZ4eRRUsI/8AAC6Ynr+NYQAAAAsBnj10R/8AAAMDugAAAA4Bnj9qR/8AAEiVnOMwLQAAABpB\n",
       "miRJqEFsmUwIZ//+nhAAAI97/MACEu+naAAAAA9BnkJFFSwj/wAALg7CVCMAAAAMAZ5hdEf/AABJ\n",
       "WIH1AAAADQGeY2pH/wAASX49RYAAAAAWQZpoSahBbJlMCGf//p4QAACOpA2ZegAAAA5BnoZFFSwj\n",
       "/wAALoq8EQAAAAwBnqV0R/8AAElYgfUAAAALAZ6nakf/AAADA7sAAAATQZqsSahBbJlMCGf//p4Q\n",
       "AAAHTAAAAA1BnspFFSwj/wAAAwJfAAAACwGe6XRH/wAAAwO7AAAACwGe62pH/wAAAwO7AAAAE0Ga\n",
       "8EmoQWyZTAhn//6eEAAAB00AAAANQZ8ORRUsI/8AAAMCXgAAAAsBny10R/8AAAMDugAAAAsBny9q\n",
       "R/8AAAMDuwAAABNBmzRJqEFsmUwIZ//+nhAAAAdMAAAADUGfUkUVLCP/AAADAl4AAAALAZ9xdEf/\n",
       "AAADA7sAAAALAZ9zakf/AAADA7sAAABWQZt4SahBbJlMCGf//p4QAo+kX+BpdADbzi3/8/gLMEzT\n",
       "LQDQ10w5VUR/+1bfm0fORP4f+nxZ7vUYuL/2VdCSm8vjicqDVRw1pCAfOV0A82fQW2fgHTEAAAAa\n",
       "QZ+WRRUsI/8A0xspACWnnP3HClLnDHQUAg4AAAANAZ+1dEf/AVDy/AwBKwAAAA4Bn7dqR/8BUMwm\n",
       "BgCVgQAAAB1Bm7xJqEFsmUwIZ//+nhAC5YnzkKkPH4VQBAC8gAAAABBBn9pFFSwj/wDTE1pyAMaA\n",
       "AAAADQGf+XRH/wFQFJtcASsAAAALAZ/7akf/AAADA7oAAAAlQZvgSahBbJlMCGf//p4QAvjHgoZv\n",
       "qQYvOVVOUIoACIPjpbAmYQAAABNBnh5FFSwj/wDy/9kgB6p8gBQRAAAADwGePXRH/wGHwBqlstGD\n",
       "egAAAAwBnj9qR/8BfpPhAVUAAAA2QZokSahBbJlMCGf//p4QAuitpv/nQQSM2UlfcTIEGeVz0uWW\n",
       "5KSmnDd7uE1glKRBlGhLIIOAAAAAE0GeQkUVLCP/AO2CYvq30My6BZUAAAAMAZ5hdEf/AX3CooGD\n",
       "AAAADwGeY2pH/wFQzCW9c0mBiwAAAJtBmmhJqEFsmUwIZ//+nhACj/nQQSMrbN1V2rMOi3708W2B\n",
       "z6PUYsZM/5RAFVAN1pj0N+JFUpxXtY8LyqrbcD/wIK4rdBQFglWRqJgyYoOoOIJuwyM3xovUmv08\n",
       "C7Mc72cSJVppruwsl6sSziAWQRScxf3laoZFZb83VmCl42x9uQpBrIEWQl65O6xEgBBmTHYbvhnK\n",
       "wJCIewSagAAAABRBnoZFFSwj/wDOE1nufoHYhP0bwQAAAA8BnqV0R/8BRxSapbLRhBwAAAANAZ6n\n",
       "akf/AACW/HmQgQAAAGNBmqxJqEFsmUwIZ//+nhACj/nQQSNHP23gmgr1U9WrMPKL1jxV7itUYUWS\n",
       "VyNmo2CQMrP9zeq4uveAzg9xd+qBZExzxwufKUyGJ/xsOMnJXc7LUhwJGBidc9uAeUIaTA2gLKAA\n",
       "AAATQZ7KRRUsI/8AfD+k9z9BiNL3bQAAABEBnul0R/8AyV3TJ17SjXX8UQAAAA0BnutqR/8AAJb8\n",
       "eZCBAAAAckGa8EmoQWyZTAhn//6eEAKP+dBBI0cioiXRYR++WNqzDyi/L4+ZmCMTla6ixYBy4/im\n",
       "IrUlIPGYHs9/sfFtCFz4ltqLxH7H2W2R8g378EjSb/4Sfl2V76UMvak0BXkyoDBEz/IskPcRsoll\n",
       "aSWJ/EQxoQAAABVBnw5FFSwj/wDoQ+RiqRc/Cphz43AAAAARAZ8tdEf/ALoKTVLZaVJDIbgAAAAQ\n",
       "AZ8vakf/AXTMJgYVSm8AgQAAAB5BmzRJqEFsmUwIZ//+nhAC0+nqsx/OggkaH8WgP8AAAAASQZ9S\n",
       "RRUsI/8A5/9KchvesA1gAAAADwGfcXRH/wF0FJtcKnpk3wAAAA0Bn3NqR/8AAJb8eZCBAAAAU0Gb\n",
       "eEmoQWyZTAhn//6eEAKP+dBBI0b3TosXMu3GepeZNsD/19GVjTPRyfLJFRVTlVsqOKBj3B4BcR11\n",
       "+58Ufbdxs44nRO/wLJIy3kjLLLJ+DEN7AAAAFEGflkUVLCP/AD4w+RqMYQw+LylgAAAADAGftXRH\n",
       "/wAAlrECKwAAABEBn7dqR/8AZKSpb1zSk1JsbwAAABpBm7xJqEFsmUwIZ//+nhACj/nQQSNG5wCg\n",
       "gAAAAA9Bn9pFFSwj/wAAX7eAPWAAAAAMAZ/5dEf/AACWsQIrAAAADQGf+2pH/wAAlvx5kIAAAABE\n",
       "QZvgSahBbJlMCGf//p4QAo/50EEjRvTE0qqkwY/C4szdmd/2ZFvVykJCox8B9FO7R6BxP8iFiB60\n",
       "6AlePbdc6NuYiDkAAAAUQZ4eRRUsI/8ANNMHnZWxDntmQCEAAAAMAZ49dEf/AACWsQIrAAAAEQGe\n",
       "P2pH/wBUMwlvXNKcgfxvAAAAPkGaJEmoQWyZTAhn//6eEAKP+dBBI0b0Fa3TjUgqWbHL480M/mWm\n",
       "I7rdDeOBswSnRPFNLZP32lno8388TCggAAAAFUGeQkUVLCP/ADJE1dtB0ebRb+1xuQAAABEBnmF0\n",
       "R/8AT7y+4TZiGUig8QAAABABnmNqR/8AS345iDVdPoCAAAAARUGaaEmoQWyZTAhn//6eEAKP+dBB\n",
       "I0bzeBpl52FnnEHhvKGwjOo2y9GozP//EDT5WY4IXBnL47pYOaPss2ucD6ULR9AJuAAAABNBnoZF\n",
       "FSwj/wAfD+k9z9GI0vdtAAAAEQGepXRH/wAyV3TJ17VtdfxQAAAADQGep2pH/wAAlvx5kIEAAABk\n",
       "QZqsSahBbJlMCGf//p4QAo/50EEjRu4O5vgA858VaZVLPki7XI+J/ZIEKKXo1HwClD9g3GEDaPCp\n",
       "plGgYPkGKpFz/swwD2P+1aMPmW8E7cX6NA9qymnay162Mu6KKmcBIbtG1AAAABRBnspFFSwj/wAb\n",
       "CYPSRq/Ohaf1+QAAAAwBnul0R/8AAJaxAisAAAARAZ7rakf/ACs5hMSQWvnVRdsAAAAtQZrwSahB\n",
       "bJlMCGf//p4QAo/50EEjRu4PdntfiY9FE6p6GYCAGr/tM57GsH+BAAAAFUGfDkUVLCP/ABsCa1NE\n",
       "Ehv5iuilgAAAABIBny10R/8AKyKTcvwfLodHqNwAAAANAZ8vakf/AACW/HmQgQAAACRBmzRJqEFs\n",
       "mUwIZ//+nhACj/nQQSNG7SeRY4cyCkrvj2pukccAAAASQZ9SRRUsI/8AF0xPX7kzmPhYAAAADAGf\n",
       "cXRH/wAAlrECKwAAABABn3NqR/8AJErOcZXzRu4XAAAAKUGbeEmoQWyZTAhn//6eEAKP+dBBI0bt\n",
       "J5FjhzG9KfqZ413O2P9RqGrBAAAAEkGflkUVLCP/ABcHYSkSuxRLQAAAAA4Bn7V0R/8AJKxAZBCt\n",
       "fgAAAA8Bn7dqR/8AJL8eTx4iloEAAABaQZu8SahBbJlMCGf//p4QAo/50EEjRu0c1UoBUozKgQm4\n",
       "YWZ1MfzN2lO+nd+9A5f7nRlXjupv5A8lOdDd8+/1Pr3mNIJ8HFNMKkmVUjn2bJvHYtsb2BP+NpFw\n",
       "AAAAE0Gf2kUVLCP/ABdFZ85xi1OLlYsAAAARAZ/5dEf/ACSsTLQGefMt2aUAAAANAZ/7akf/AACW\n",
       "/HmQgAAAAEdBm+BJqEFsmUwIZ//+nhACj/nQQSNG6k/U8GTXO6N6IXJE5YV/87/AaZ0bgZ+kQge4\n",
       "LTL81WqULaU82d+Mnw33bc1pvjuU/wAAABdBnh5FFSwj/wAMkQbNvfufla82n+s8UQAAABEBnj10\n",
       "R/8AE+8vuE2ZiUig8AAAABEBnj9qR/8AE1jmDBJmlHEjcQAAABpBmiRJqEFsmUwIZ//+nhACj/nQ\n",
       "QSNG5wCggAAAAA9BnkJFFSwj/wAAX7eAPWEAAAAMAZ5hdEf/AACWsQIrAAAADQGeY2pH/wAAlvx5\n",
       "kIAAAAAfQZpoSahBbJlMCGf//p4QAo/50EEjRujG9Kr1+gaPmAAAABFBnoZFFSwj/wAGwmQOkz+X\n",
       "0QAAAAwBnqV0R/8AAJaxAisAAAAOAZ6nakf/AArOa0Jsxr8AAABIQZqsSahBbJlMCGf//p4QAo/5\n",
       "0EEjRupeCZM5r3rr/lcSQJdIFqzDojX++44ZSGYOnEAX7OKmFCjHBnSYigW7dNPLP7J8aBnwAAAA\n",
       "GEGeykUVLCP/AAZyYPAt8nI8f6mZ/SnUgQAAAAwBnul0R/8AAJaxAisAAAAwAZ7rakf/AAo6GP3Q\n",
       "AANitLV6F6jh0pXAEciowZrkEFKVg0edaqvBG59u0sVZgKqXAAAAQ0Ga8EmoQWyZTAhn//6eEAKP\n",
       "+dBBI0bqNgmU175zn9DAcAV5f/z+AswTNIK3deaGZAzS/28uwIPVog29RYLE7njOo+EAAAASQZ8O\n",
       "RRUsI/8ABiCa07EmghrAAAAADwGfLXRH/wAJqv4cYKVeAQAAAA0Bny9qR/8AAJb8eZCBAAAAGkGb\n",
       "NEmoQWyZTAhn//6eEAKP+dBBI0bnAKCAAAAAD0GfUkUVLCP/AABft4A9YAAAAAwBn3F0R/8AAJax\n",
       "AisAAAANAZ9zakf/AACW/HmQgQAAAE5Bm3hJqEFsmUwIZ//+nhACj/nQQSNG6MOfymvq1Sh+Z68f\n",
       "FDqwVg+S6q3toHZ/ile1FzAex8s3XyKn9YTkzDEu3qEFU2FlHThmgQI8ltEAAAAUQZ+WRRUsI/8A\n",
       "BsJg87K2LiNmQCAAAAAMAZ+1dEf/AACWsQIrAAAAGwGft2pH/wAKymAh8CpOQATNafOpQxUGOwNR\n",
       "uQAAAGBBm7lJqEFsmUwI//yEAASQpDq1wQAXQKSh4btAK5inZdOt18Z8gg6Had9I2nqOZYSdVI6A\n",
       "0F1v3/qjJ/BZqK2ts96ztjrSOmqPjm4U4ZSzwfHBMAR0ff1apoJdYsLz5GAAAA5eZYiEAD///vdo\n",
       "nwKbWkN6gOSVxSXbT4H/q2dwfI/pAwAAAwAArqxz6KZIGF3rxgACbmUtuGMNmwABmz4SJeUNvf+h\n",
       "IVRu8kIPqFs3mhXbk97phiCHy7TcDq3E8PXuduG+8TB6TTGc4sts20DjfQSUTYqCgfNbcEyTcHkG\n",
       "BuBN6Os89bjm345IojMAD5SoM1fG9jlJT85oAntn1wu3b+3Kyun4Bfo9berBR18gTLOgv26wks/+\n",
       "chPIDripNT9s0OUAUkdFancbHuxf9fZDlZdguBhdYKCmGNEO5OY26YxrHqiwLhXRSZYwcpOavKc4\n",
       "s9eBOWEHsFheP8MhMb2icD68PP4RxrU8hQzqZLxI96Z5su28gWa9EIRbFohA7uloUl+DHlpZiH+T\n",
       "UfVRI5C7bR1Us1+fKbhamqHNpPGn2O5RuLQ1EUDVF4OKpgoAWKzqOwXVQsZ4snIZl494Fcf9xCNT\n",
       "DTuTye3cIe4UcPGnke496etsdxh/ut9c7v4Ruse5aZNGYgbPXR0ynAiZ9280tDWcbFxbY2/tfpJ+\n",
       "eertqZpSXGkkDMrkFvaESFg32GyJ9JA9iqiQAd1A+rUDURqR6vdNrM+u/PqE+hkDcN+jZ2U1OcFX\n",
       "v9YbytTbykUPRm2ANp1a1G1uu6+znlG3YMWNhZXwTZ9TQwqsSdLUZHnwOl+fay99RGKDov1eXToB\n",
       "j7Tt+oUTfoBfCEPFlhiPaSpeSCHElzXTK9XDtNdadkSzpeHJPYe2BfeTYTEd+9QHXK/6sYwd1ZU8\n",
       "5fyDrezDXYpTdk8zAUdGujRAHs0U2rBHn8LYIXaZmqEnMkOS7lfmewRK1ut0OgWJuD/PZzzyAg8X\n",
       "odGDp66PfAV+xAetO9oNYBcXBlTdvk8VQF+pi++yiJCZVHWCd1IFRdNuWg5ohv+iPoT5QzWWRx4H\n",
       "7e1xfW8j+dxQQCMPPbURp7I6HYhwuXryvAq+Qd4ssZi2G3f12eJmD1wEn3hFIDyrYoR4aBvB6wA0\n",
       "fINxYjx2gVKbP8PRr1hqcFJ7U0u/y95pg8ELkG+HDOFBM03UiCQ3qXv2gkTiilk7Nx6bGI7dAXTb\n",
       "pDgNeGHq+c8JVed+5T6PV0MW3oago6LCC03aE+SUwU5jaT1aCRroMbiS9zd96Of5InXwZUZp8e6x\n",
       "FKisXbn1i8o/0XV653eoPRjdpBfLApFw5AaXgnfFyO3EYKSb4Siapm1a0U2STLRMCZCT4+/VtlV7\n",
       "q6N0zprZQzBsA8/Cgq+XXUw7bK2PgTZOrVgd4ocanXihbewwUrc7jEglRHVt2oekR/8U0gDKCYHf\n",
       "Y7pk3iQRWdXdmNmnoLZRfrKH6dAAIUgdd354yT30R2qjWQ4cCSljAy3vLhvZ0Q6S+gpd7Y/ZpvSO\n",
       "v3m/WlDA4lfdgJqGBWIHlGDynPj+BQPI2HLHb5zaQNNjxV6iMpA//N2JiUBMXDlG672VWMNXBjm4\n",
       "7jPDP5Kw1J21d+9ozmID46Nr3R+DGWPf2su6jVWuzRwSb+p+lWTuKI8xZbqDVMakQCCjypS8KZ0v\n",
       "HeXaahABNHVZYDXCTqlKJnvJloNOJx6KZgOQE9JEQx+uiRh9bknF0Wh82BOfie7xi6HXJ9ThAQIM\n",
       "LhIlRuLgyDlVuYcfnSs/5CZitzCMaQ3Vh/KbSffco1sIcDfk6n3ZRy2LkwlVEfw+txNRe3iw5n0T\n",
       "jpzUuRThO6FTErYBs1W+L+/mIW1iAC5aNf2LFwrNhY7VIya9n3zKoMUZ7QyFt9FHoy6HEcMYXxPn\n",
       "+kQEvSq9UEJGhlmmflgYG17yzPrsejto6GSbgpuY8uoh0h0RPJECfhg5ZixpUqJFd+HEm9SOntye\n",
       "Az22P3OnHr5fF6TSeXWBqJsWkUfb+P8uqqeHdejRs355TLg/KooLHhzOqis1J7pnb6+xWn+8ISAz\n",
       "sKu/vhrTikMvCvnQ+EpqmB+aY2qgx2P3ORbB+h2k7bNc4e6dsdXLSG3Wl2Mz4Bj827+oy2YK2NNK\n",
       "ItesJfhAnR5HK80nMsHX5Js/x43y9HlWuMlAF92qn16lctvegJxn0tj2Rb1NtSfcOVobl14XlSzO\n",
       "UM0bvDKlIxhEZYLt32gEcFBZ9SFbW6VeMV6epXKz8SiYxwzdt+z8hN5qGP/5qWRhm2oz5mSQfYn1\n",
       "pH/92d0R3j/MNGLHckRA5k/X8OAYmOlqPX8Vik/+Ibsovhjdaj5DdeXdZ+wMlFl521eOwlrrFPln\n",
       "viUpxLVJb4RFju0hu+neIZw7uUqhZydDFPzSkKv7CEZ3SiV1TMUB6nYXoTG2BmKsLDr6uInqW4qT\n",
       "RvAo7cZKihN5jva7GEaqwM0fRvkyQiUc38WZP+kVWXXh84y284jZMO3rls/2svxIH3Kb4YDX0qyZ\n",
       "YBw2LunXZb+XdYCqfqvZf9fFzNLa2PP8xT0vdjCLWlP75q3QUz0hx9LArrnydqI0c3ETpXJgzRx3\n",
       "9hRFPoqYqmVHU2MITtbtCjBKdQZz8C2XvzJ1bsbc48Eek1ay5RFs8OCQWtMSHBQRWppW6vfYMB5H\n",
       "8wqNd/GJZF5rxf61tq0Gh8vMCYwGde4wgLrTO1YHGuK9o+1onSLRkfmDcAUPLh7EizCINEKTKyQ9\n",
       "c+yKj8Zz4ybmBSwgKUTQX+BFvOOgue1q8vYRopUVeN9JH3rDj6DBI4G68RwSeHNiy0KefZmMJLJD\n",
       "vKhoiurkAjRnOOAAI4gjcmQ8zbXzidyxs9fnBJpPtTN1WggIpCbN+Q49xTih7+sQ6OjIn031nQD8\n",
       "i9WhOA81b7Sdr7HVdsXSB8oAGsn5fnbSrXe33xUSPCT5juaoGiVsAcDGanZTAz6g6edYn5RSw3lR\n",
       "PfvsdNLcY/GlCxDDL4roWyho0DdDdQhW3v7lC7PH5+cApEMtwGkGFZUkDof7zYpyoSu3hAQb2k0C\n",
       "sCfjnVcWqp0ile+iXNDffEwXKGqo//ohKqUsYH/9/vaANO7jKi2XDyzYLuXBTs08nqLA6Z/r97z1\n",
       "hE9ocxZ1Dyskiv3WyEmFRnUs8d/PDbVBj4spBoF7M7Sx7LyH2QHH9+/yxbyxribPG6gwd6Z/yMkh\n",
       "zIY8O1PSRD3RrNCDQ0nwT+lQFTAIuVqcPz6lK7kI0SCFdvRVsG3Jm/QwtBA2H9EWA+KNcMuc77LH\n",
       "XGwDhwAF21Gbep2v8qH24IhhX0Hhe5eFRJQSu7SPXcwctJm4woRxDUoDgSKp94jkZyFarJlxG6Qr\n",
       "7A8T3GkDcRq9YP2NPCt5vsPAj4plZ6g5pBXmNcS4E9yI+AGk7Py9ZTTpN7WjEVzOIPhcYyB/VVxH\n",
       "xX9wq9Ytoo1Qh1W9bPI3IJ2TAkvzlJJ9TsFP/AGiwy2x7JvblxrOd6bjZkn9240XGmRfeZ44wPmL\n",
       "B9b4xy4kNvdMEdMPNJsmVRnyq72oWuSh4RAEZcx8Nv6sDLOze56fL7WUUbpr/QGUUfOR+skBrILM\n",
       "oqF0E96CcIW+kprsfN5xbXAHyv2AsQhEDEVPAWPC/7WwcNY2xyL/MbaVFhR9oO60I9v8Lfrz2YzD\n",
       "6a5zskGPCHHXHww6/vMtKHmelMAd1A0vjd572fN4sSJS6OfhvblQc+ZFaPk34Oco0Ul4YBENgoTR\n",
       "6YDyBTR6bJ3Sj9YNKmgt8O8YFZ9l2fJkbCOny800bou6pcA3M/ENFSsG1xBvdyUaiE2o7TMXXQza\n",
       "Fcbbf2eNqLbclysecZTvZ/7/XCX8JTb9oB2WKFzvdozO+IEdjp+Rm+iEz2USbCh91zYNS41m0U2W\n",
       "1Mddwln1uJ93zSpNKpPun5w1ssDbhUQcAt0HPYVma4xrxBgpq85zHuaUmre2kAQGcZVJfpGBSTBi\n",
       "bg+PbesO39a94FZTwqidXudDbm0EcWcW5KczjL/nkNKtYWsaK6Vr2N7c8ai6cqy5OapCsD2bdjY6\n",
       "6UvUmSYRqQu11F/SX4ui2OOlhwDPhAvwf0w4x3/4IwCGAa+gvgw2Tj2/NZulaHKwLaITBJOAjLTv\n",
       "/tfhR8Hs7vbbeMqjWzPBIJGjE9PSWoSHKiLfnYun230kMrAjPPTXASDOg1TE3MY9HSJQhI/MtDoB\n",
       "IS+o73QBk5mnDIM+MkAL2yNBb/i7qOyXl21oLmptftbAZByQVl2T5ctrAbZkFaRKFrm9AzV+FFdr\n",
       "vyrG7zM7JLByd0xp4Yq6KE9V0aO+IvG4aZ5YVuRAXPtOXLhZyyRiMvUOtOkby1GXzwV6OT4AX3vW\n",
       "D3rnNrURj4p3H1ShGdeT0hkVV0au6uHd6VusQq1kbwwBBLrEKT5OPRchmasuFGLebW7oM+7GizB1\n",
       "vJSCOxlWZPMLjkZcPOXqpCkU+aLjOzqtL3Jdm6ALL6IAOgXDNykWRL4uhjY/paHYl62TrULLpf/k\n",
       "kOYRHHviNAaiHatm16do+LoNHgPeV5HWMlgUSPc3GkVSFLywzqoZp9FyncmyyqSXb60qQzM2LVCX\n",
       "+2ip0bJstMgeg+Q1xa52c1Fn8wmQxPD+7ykLjWPLZ5w2WhFaqeLDcZWMy6DkFvWJ8cvb8hnIMlFT\n",
       "1eYQ4bMWe0JzoDIST9jtGQl8Xd3p/4wI9gxmMYq2dIS4HPzVCSg/3YGt1/xTHtRXFoZoij7QsL2y\n",
       "ECFthhmTsd5PA2gdwDek/wsaHazCqZHNAnk6CntrP0ihZq25doy5ySXbyn3CbKqhl0Qk7tv5Mch7\n",
       "zulvR8h0jgwHD+czpEteQ6Pt1FHk4FNCOnN7O/R2cFwwzDLgbJhax8PiGYeRG2ug9dt0AQ1eh43d\n",
       "y4fq3GJJ1gNzZ5FCo9kE0JROTpGS0aE/UCBvmV0vjiOJiSJpogFRkTORwQ1kRM5nt5zD4sfDtbTK\n",
       "4Iw979fV5IFiLcEQ1k61evkqtv/HmN+RpStnHh3LYNDnwnCqjNY2b2KkD+o/LrTfPZFEYLKVq+mU\n",
       "PGYGMu+rpdrQtPasAlwADCLENK5gAAAB0UGaJGxDP/6eEDXYsTBsfVyAjzAAhAFj35r9vYHg+Jrv\n",
       "HrTpVR+A5I8SG2Zt3O6GVJrf/S074J+gEHNByGUuBoYn0DjQ0mQjlQXzUnq1nolvOB0p906MLNxo\n",
       "KaPoT1YJyA4c/nTQ2pnadWaPwNASb17TRMLqsQm5zLZ+TxU/Rkir7BgW17miFc6nLIfddCs8+w7L\n",
       "IGFbS6L22gWE5222goYOxfuVCjODKFcfS5PTtbTU3i8Yt/12yFVR/jAB1NQ/d81BWk5yCIUaDK9X\n",
       "JVeHQv483+rJ/Yk2rusBGDq+OvMo9vuvqFWAC1jowlbc3I27kzVhxsQhLr5KWZZhXy9LFY2ExKU9\n",
       "7RA4Vt77C5spNCrfiU5w4QORjW8vW3YuvxQ2MQ58nV/tJLkdW4p0LFQ4A2hPNzweVMPHypDzwJir\n",
       "kmxStIRiIwNreI03j/5UBeOtFZOySh47fN+FhKTqYrFf+72FBRW3pXLhqQqYXn++x+nVbf/x4QiN\n",
       "WwZUwezqpK8qYGb8Ybq2e64tEgCZTNghx2bq5saQCWJVKLVdgEFJ3WudpYPSTgQhEbE8jy3pD0X2\n",
       "vevQCVhk+PVINR3E9q6+ffiy3Q89FJ2k9ZvoFcRbBOAekQAAAE5BnkJ4hH8EGVYQIK23UiV8haw8\n",
       "X3DLLGUob4OB/aKreSxuBTwdKqu60EZDqxW4+xV48M0ccy8JM42YasNRcUzXnar+ypL2A746zicA\n",
       "ZcAAAAAoAZ5hdEf/BHGKgFSHNH71AQlA/aluXWURJdM3eEEHS9R/z5g9sk0DewAAACEBnmNqR/8D\n",
       "DSVIJpuZ1g4AjLVUzvxC8D+zzb/uBYN8DPkAAABSQZpoSahBaJlMCGf//p4QNdixMGhyIpWuqhgr\n",
       "afxRgCyTJ+UZrHSLCuMvyvTjIACIaw1iq8rRn21CwInFKjNstZ7uTQXvmVE3f5+sS+jCSrC7gAAA\n",
       "ACBBnoZFESwj/wLWFE2jdz+hFsYG0FGdXI9X/dBtLwADUwAAABwBnqV0R/8DC4AsKZmdO3EHXtSt\n",
       "/GYalnfTABJwAAAAEgGep2pH/wRz49iPD1WM2cU6JwAAACRBmqxJqEFsmUwIZ//+nhAOlseAbUGq\n",
       "QKq1UzbKtu4NAZASVMEAAAASQZ7KRRUsI/8ALoq1aLWwsvUUAAAAEgGe6XRH/wRzGGxCAy+tMc46\n",
       "JgAAAAsBnutqR/8AAAMDuwAAAGpBmvBJqEFsmUwIZ//+nhAACfodakHui3pAJr68Fo5lGAfzqCxv\n",
       "uxKqRWhh4RWwcByKTzuAJGN7/L+fLep/1WJYYgE57+A3PD3JhRN+svPaZ51vzb82NFSvFFveifC/\n",
       "J4tIq91R+WfDa3cQAAAAEUGfDkUVLCP/AAM4TWe5+gwJAAAADwGfLXRH/wAFHFJqlstKHAAAAAsB\n",
       "ny9qR/8AAAMDuwAAAFhBmzRJqEFsmUwIZ//+nhAACPbPz8EmkvmAOTMW/+/wi3MQi70aY02z7t6u\n",
       "uBJZpzAMgrQ1xf/zcCD3dQen1RCbkMCpJSPvTIv+Wko+l+4NZvNiavdIhqlJAAAAH0GfUkUVLCP/\n",
       "AALozdgAlhi5mmLXSnEVuELNdjbIax0AAAAOAZ9xdEf/AASVh3UFY4EAAAAOAZ9zakf/AASX45iC\n",
       "scAAAAAuQZt4SahBbJlMCGf//p4QAAjqR7kAcZloy6uEevCSVd/rsATJ0XINdyOBCjkqYAAAAA9B\n",
       "n5ZFFSwj/wAC6KtV9zsAAAAOAZ+1dEf/AASVh3UFY4AAAAALAZ+3akf/AAADA7oAAABPQZu8SahB\n",
       "bJlMCGf//p4QAAU/G44Aq2FakI0Cg8GKKa0/6+ZLhGbHMKWlaaU/HyyTngkrS3UgjFDHPTYH3lDM\n",
       "Mhu22hHG2wv/1OCJF+OLgQAAABFBn9pFFSwj/wABsCaz3P0LaQAAAA8Bn/l0R/8AArIpNUtlpucA\n",
       "AAALAZ/7akf/AAADA7oAAAATQZvgSahBbJlMCGf//p4QAAAHTAAAAA1Bnh5FFSwj/wAAAwJfAAAA\n",
       "CwGePXRH/wAAAwO6AAAACwGeP2pH/wAAAwO6AAAAHEGaJEmoQWyZTAhn//6eEAABLSDfoDZ9wVTr\n",
       "GdMAAAANQZ5CRRUsI/8AAAMCXgAAAAsBnmF0R/8AAAMDuwAAAAsBnmNqR/8AAAMDuwAAADdBmmhJ\n",
       "qEFsmUwIZ//+nhAAAqLenHl+zQ1CicwBe8A+qihPOGggYQyd3qWz5J7NzOlBaI/cL7FWAAAAD0Ge\n",
       "hkUVLCP/AADYFNV+iwAAAA0BnqV0R/8AAVn0UfHLAAAACwGep2pH/wAAAwO7AAAAvEGarEmoQWyZ\n",
       "TAhn//6eEAACbe/jEtzfRYAoYpkCh/eJfLxCtyR7vK/hu13g+Z/+RHPtyadzRBf34p5XgtJEuc9U\n",
       "jD7NE07bHjyxNZ3NsB5+l7evLpTnaNVhDHXHT78IHQonoEwXckoB5Xiv+l5ejOe9TthnWwhA3qtN\n",
       "x8kEP1zOnLnLdhFsQvH0kAqJHyGWQRgFbqOd4vqU/P+fpjha3Y49xr1XeM96ItCwjvxhVmBgyWNk\n",
       "unEV8CZHOT+hAAAAJkGeykUVLCP/AADJElJbSgVw7ymaADmWcGGSFRP06P0UOoSrCpN+AAAAEAGe\n",
       "6XRH/wABPvL7hMw0W/AAAAAPAZ7rakf/AAE1jmDBJklxAAAAN0Ga8EmoQWyZTAhn//6eEAABifUV\n",
       "aKTMYyL1W9bAC0XcLR5LGOOKaZ56FL/hYjT2021ygwVSrnwAAAAUQZ8ORRUsI/8AAHw/pPcRZOaG\n",
       "sS0AAAAPAZ8tdEf/AADJXdMnXthMAAAADAGfL2pH/wAAYiT5jQAAAB5BmzRJqEFsmUwIZ//+nhAA\n",
       "AL7St01hQlVqEwjJb4EAAAAOQZ9SRRUsI/8AADzAQW0AAAAMAZ9xdEf/AABh8KoZAAAACwGfc2pH\n",
       "/wAAAwO6AAAAdEGbeEmoQWyZTAhn//6eEAABT80HgCJj31JFvgflFZBaCWw/2yCCeMn1v7USSYDg\n",
       "Sld1HhGkCYOvEaE7h/6iQEEEQ3Yw6IH8eZZCmQsTmiBEtp3XRzUI9f79POS4kEJl9jUtkxiz3Niw\n",
       "jGXjPZjoksk+C0jgAAAAEkGflkUVLCP/AABsCasezBbKmwAAAC8Bn7V0R/8AAKyH53buvVNmAANn\n",
       "V9t21xxxXDGtrNrR3zcanmaL8zDIKTgG48/7MAAAAAsBn7dqR/8AAAMDugAAAFBBm7xJqEFsmUwI\n",
       "Z//+nhAAAMT6inQ6cDfKQByU5f/MYRblfJaTCkLoiUC2jlRgTjc90N3/zbydj7vinXghEP2z1sJ3\n",
       "pQuLNYjQeZ0Qx/zXQQAAABJBn9pFFSwj/wAAPjD5GoxhTcEAAAALAZ/5dEf/AAADA7sAAAAPAZ/7\n",
       "akf/AABkpKlvXNOpAAAAIEGb4EmoQWyZTAhn//6eEAAAvu8E4AOTCRqzovce44WAAAAADkGeHkUV\n",
       "LCP/AAA8wEFtAAAACwGePXRH/wAAAwO6AAAACwGeP2pH/wAAAwO6AAAANkGaJEmoQWyZTAhn//6e\n",
       "EAAArXtEIANW4AA//oTWhpc1rGcaS0MfJbl89IrnuWfMHvFrh0J5gQAAAA9BnkJFFSwj/wAAN0U1\n",
       "YGMAAAANAZ5hdEf/AABYhb2hMwAAAAsBnmNqR/8AAAMDuwAAABNBmmhJqEFsmUwIZ//+nhAAAAdM\n",
       "AAAADUGehkUVLCP/AAADAl8AAAALAZ6ldEf/AAADA7oAAAALAZ6nakf/AAADA7sAAAAZQZqsSahB\n",
       "bJlMCF///oywAAAqWKggJ3rT6wAAAA1BnspFFSwj/wAAAwJeAAAACwGe6XRH/wAAAwO6AAAACwGe\n",
       "62pH/wAAAwO7AAAAG0Ga70moQWyZTAhn//6eEAAAVpq7ahMNmGm9wAAAAA9Bnw1FFSwj/wAAG6mQ\n",
       "YEEAAAAMAZ8uakf/AAAsWa2RAAAAIEGbM0moQWyZTAhn//6eEAAAp+J6gFY7M9yLSfN86VrdAAAA\n",
       "EEGfUUUVLCP/AAAbAmtPAYEAAAAPAZ9wdEf/AAArDi+0Z64lAAAACwGfcmpH/wAAAwO7AAAAL0Gb\n",
       "d0moQWyZTAhn//6eEAAATb5mR2p/fz0foGALv7T/7/CLcxCJyQ+xKPk62uggAAAAEEGflUUVLCP/\n",
       "AAAZImtPEIAAAAANAZ+0dEf/AAAnwpNsuwAAAAsBn7ZqR/8AAAMDugAAABNBm7tJqEFsmUwIZ//+\n",
       "nhAAAAdMAAAADUGf2UUVLCP/AAADAl8AAAALAZ/4dEf/AAADA7sAAAALAZ/6akf/AAADA7sAAAAT\n",
       "QZv/SahBbJlMCGf//p4QAAAHTAAAAA1Bnh1FFSwj/wAAAwJeAAAACwGePHRH/wAAAwO7AAAACwGe\n",
       "PmpH/wAAAwO6AAAAQUGaI0moQWyZTAhn//6eEAKPpFfY8BugA6P3l/9/hFuYhBbxwvY+ZGP/w4ya\n",
       "2OFnIyvtpbm13Uvn6njh+p+sb9hYAAAAGkGeQUUVLCP/ANMSvnXP8ZQAmOiv5mwigCmhAAAADgGe\n",
       "YHRH/wFQjK+XAErAAAAADAGeYmpH/wFHzWEBjQAAAFpBmmdJqEFsmUwIZ//+nhADDjdBs8qxrAIR\n",
       "nFv/z+AMBG+yhkQ10xZoUR/+OMWgle1T9s17y20Opw1XR26TmSN+GPAnMOwTnzd1AG0hZEF21D33\n",
       "CsmSbezesCEAAAAUQZ6FRRUsI/8A+MPlJ6L8zB2DQdMAAAAMAZ6kdEf/AUcXIoG/AAAADwGepmpH\n",
       "/wGR9tI/MBgUkAAAABdBmqtJqEFsmUwIZ//+nhACffM8BYAyoQAAAA1BnslFFSwj/wAAAwJfAAAA\n",
       "DQGe6HRH/wFHjXCAxoAAAAALAZ7qakf/AAADA7oAAAATQZrvSahBbJlMCGf//p4QAAAHTQAAAA1B\n",
       "nw1FFSwj/wAAAwJeAAAACwGfLHRH/wAAAwO7AAAACwGfLmpH/wAAAwO6AAAAE0GbM0moQWyZTAhn\n",
       "//6eEAAAB00AAAANQZ9RRRUsI/8AAAMCXwAAAAsBn3B0R/8AAAMDuwAAAAsBn3JqR/8AAAMDuwAA\n",
       "AFFBm3dJqEFsmUwIZ//+nhABhxXzK02ALzVqzHDV15CGAr0pCMgWKpC/bFB18uXan7NWeheS+TL/\n",
       "+2wJBXPKRQNt64nmEGrk94frw9pRlHLGA7oAAAATQZ+VRRUsI/8A80SSi6qV30gs4AAAAA8Bn7R0\n",
       "R/8AyOANUtlow2cAAAAMAZ+2akf/AYiT4QFNAAAAFkGbu0moQWyZTAhn//6eEAL36s0QBUwAAAAO\n",
       "QZ/ZRRUsI/8A8wEAgU0AAAAMAZ/4dEf/AYfCooF5AAAACwGf+mpH/wAAAwO7AAAAE0Gb/0moQWyZ\n",
       "TAhn//6eEAAAB0wAAAANQZ4dRRUsI/8AAAMCXgAAAAsBnjx0R/8AAAMDuwAAAAsBnj5qR/8AAAMD\n",
       "ugAAADdBmiNJqEFsmUwIZ//+nhABHNoz4UMc2SmLY8OiaIdl2+023HX//7/AbmPenBsdFOmYArJD\n",
       "UAoIAAAAD0GeQUUVLCP/AF0Var7BOwAAAA0BnmB0R/8Akw0I+GE7AAAACwGeYmpH/wAAAwO7AAAA\n",
       "E0GaZ0moQWyZTAhn//6eEAAAB00AAAANQZ6FRRUsI/8AAAMCXgAAAAsBnqR0R/8AAAMDuwAAAAsB\n",
       "nqZqR/8AAAMDugAAABNBmqtJqEFsmUwIZ//+nhAAAAdNAAAADUGeyUUVLCP/AAADAl8AAAALAZ7o\n",
       "dEf/AAADA7oAAAALAZ7qakf/AAADA7oAAAATQZrvSahBbJlMCGf//p4QAAAHTQAAAA1Bnw1FFSwj\n",
       "/wAAAwJeAAAACwGfLHRH/wAAAwO7AAAACwGfLmpH/wAAAwO6AAAAGUGbM0moQWyZTAhn//6eEAAm\n",
       "pDQQMNtiw7sAAAANQZ9RRRUsI/8AAAMCXwAAAAsBn3B0R/8AAAMDuwAAAAsBn3JqR/8AAAMDuwAA\n",
       "AE5Bm3dJqEFsmUwIZ//+nhAAVH2fu+50SzYbIBOpN//P4EzWldJEumOoShdkDYl67jJ410LoSx+0\n",
       "NbNZuQLZoDj+7Rg/hwVr/8kgZlhGEXAAAAASQZ+VRRUsI/8AGwmDzsrYgFtAAAAACwGftHRH/wAA\n",
       "AwO7AAAAEgGftmpH/wArMlaCm6+TGq0mYAAAABNBm7tJqEFsmUwIZ//+nhAAAAdMAAAADUGf2UUV\n",
       "LCP/AAADAl8AAAALAZ/4dEf/AAADA7sAAAALAZ/6akf/AAADA7sAAAA3QZv/SahBbJlMCGf//p4Q\n",
       "AC/+oqku5TDa0Jt51qK5jPmgDU1rsLW9FlGRNgy7LY3mSMaA/BjBgAAAABJBnh1FFSwj/wAPND5G\n",
       "oxhAUEAAAAALAZ48dEf/AAADA7sAAAAPAZ4+akf/ABiJKlvXNJlTAAAAIUGaI0moQWyZTAhn//6e\n",
       "EAArGshEFICV0J6Z6EjguxUN+AAAAA1BnkFFFSwj/wAAAwJfAAAACwGeYHRH/wAAAwO6AAAACwGe\n",
       "YmpH/wAAAwO7AAAAHEGaZ0moQWyZTAhn//6eEAArGHX46+FupSEWGzEAAAANQZ6FRRUsI/8AAAMC\n",
       "XgAAAAsBnqR0R/8AAAMDuwAAAAsBnqZqR/8AAAMDugAAAHlBmqtJqEFsmUwIZ//+nhAAJqIWoZHj\n",
       "E3YAcZb//D+0b6hxKycJXeVuo4TJbpMU1fXjmS/+mmQX1z6YIVJvK9Hcyk3o6EPEzD4GGEx5J5W0\n",
       "qXkOzg4MJPoAXDiZuf5/83/qGbnITUK8euoKcyW5687QVlarYisDOZmDAAAAEkGeyUUVLCP/AAyR\n",
       "NWPZgtjzVwAAABQBnuh0R/8AE+ENTk3qr5f3efNbQAAAAAsBnupqR/8AAAMDugAAAB9Bmu9JqEFs\n",
       "mUwIZ//+nhAAKxrEpjWq6YOn2vzUwsF3AAAADUGfDUUVLCP/AAADAl4AAAALAZ8sdEf/AAADA7sA\n",
       "AAALAZ8uakf/AAADA7oAAACcQZszSahBbJlMCGf//p4QACn4nqAPy1EUGVQwcsFTHcxUzcKiyCmH\n",
       "Z6lmdE+Ahcz6AAv9zoyrx3YMOqfECuobB6tS4vSpbDnKH97j6r2O8rjHjUi7kqfZQaj0xMw2/cfc\n",
       "T/fnGe2g9pr0e36f1AtOhTSVaNF05ZCpueaXco786BLqxBpEv7VQOami6EdipnQXTU0q+3FOLQzo\n",
       "un+BAAAAEEGfUUUVLCP/AAbCYPRMKKEAAAALAZ9wdEf/AAADA7sAAAATAZ9yakf/AAqlRfLIZGv8\n",
       "dCiRgQAAAJdBm3dJqEFsmUwIZ//+nhAAE/0ii6o8xOdABUtasx4D4TZiyTK4esad57qK0Tyh7vdA\n",
       "SA08qEAWf/NA2PGm11VvbRHt/r+BwN5a5gYucUQ+t16OUGWQh4pitByytVB/cQJfo2CfM9nb3mGR\n",
       "DzH7L+FcgiYqyX3GtECWYD9ABmk7Fq2sgPiC5CmQGurOOVql1uaB7Uxb8mK2AAAAEEGflUUVLCP/\n",
       "AAZwmtOQy4AAAAANAZ+0dEf/AAo/l+BhMwAAAAsBn7ZqR/8AAAMDugAAABhBm7tJqEFsmUwIZ//+\n",
       "nhAAEdOD5SJYb0AAAAAOQZ/ZRRUsI/8ABdFXVXEAAAAMAZ/4dEf/AAkw0RXrAAAACwGf+mpH/wAA\n",
       "AwO7AAAAU0Gb/0moQWyZTAhn//6eEAAWJ9cp1DgBYB+XH14ecZ8RTbJHaO6kc7v5AJIr/+NQNE0k\n",
       "q4VNVNkg2FBRkIbvJ4Asd0WHsjPG3W0snOzSZO7kqlgwAAAAEkGeHUUVLCP/AAcWHyNRjCBWwAAA\n",
       "AAsBnjx0R/8AAAMDuwAAAA8Bnj5qR/8AC1pgIfmA1tAAAAAaQZojSahBbJlMCGf//p4QABYcT1AE\n",
       "ft2cScAAAAANQZ5BRRUsI/8AAAMCXwAAAAsBnmB0R/8AAAMDugAAAAsBnmJqR/8AAAMDuwAAAB1B\n",
       "mmdJqEFsmUwIZ//+nhAAEe/NcAAh/XxElL7T/QAAABBBnoVFFSwj/wAF0xPX7OdgAAAACwGepHRH\n",
       "/wAAAwO7AAAADgGepmpH/wAJL8cxBPHAAAAAHEGaq0moQWyZTAhn//6eEAAR781wACH9fCptNP8A\n",
       "AAAVQZ7JRRUsI/8ABcInBQAmlLSGBc7BAAAADwGe6HRH/wAJErORG2MYsAAAAA8BnupqR/8ACRKz\n",
       "kRtjGLAAAAAcQZrvSahBbJlMCGf//p4QABHvzXAAIf18Km00/wAAABVBnw1FFSwj/wAFwicFACaU\n",
       "tIYFzsAAAAAPAZ8sdEf/AAkSs5EbYxixAAAADwGfLmpH/wAJErORG2MYsAAAABxBmzNJqEFsmUwI\n",
       "Z//+nhAAEe/NcAAh/XwqbTT/AAAAFUGfUUUVLCP/AAXCJwUAJpS0hgXOwQAAAA8Bn3B0R/8ACRKz\n",
       "kRtjGLEAAAAPAZ9yakf/AAkSs5EbYxixAAAAHEGbd0moQWyZTAhn//6eEAAR781wACH9fCptNP8A\n",
       "AAAVQZ+VRRUsI/8ABcInBQAmlLSGBc7AAAAADwGftHRH/wAJErORG2MYsQAAAA8Bn7ZqR/8ACRKz\n",
       "kRtjGLAAAAAmQZu7SahBbJlMCGf//p4QABHvzXAAIf18Km7NtfhFkkxdne/4R4AAAAAaQZ/ZRRUs\n",
       "I/8ABcInBQAmlLSGV22+IP4QBtEAAAAPAZ/4dEf/AAkSs5EbYxixAAAAFAGf+mpH/wAJErORG3sG\n",
       "rwrqxADbAAAAH0Gb/0moQWyZTAhn//6eEAAR781wACH9fCptk3O3tgYAAAAXQZ4dRRUsI/8ABcIn\n",
       "BQAmlLSGIddVmJIAAAASAZ48dEf/AAkSs5Eba8SJegaBAAAAEgGePmpH/wAJErORG2vEiXoGgAAA\n",
       "AFhBmiNJqEFsmUwIZ//+nhAAEe/NcAAh/XwqbiUzscaLKoxz/VgEH8xWNJ5QJNjnzMbjf8Wnkblv\n",
       "9LgjZiQFVrshHV4kJfRkfkWTurC1Vux/+4a/pnZhxcxwAAAAHEGeQUUVLCP/AAXCJwUAJpS0hkC4\n",
       "I3C0TsB2GGEAAAAUAZ5gdEf/AAkSs5EbdNArOAQ10OsAAAASAZ5iakf/AAkSs5Eba8SJegaBAAAA\n",
       "H0GaZ0moQWyZTAhf//6MsAASH8+sACH32WY7XHLJtgcAAAAXQZ6FRRUsI/8ABcInBQAmlLSGIddV\n",
       "mJIAAAAPAZ6kdEf/AAkSs5EbYxixAAAAEgGepmpH/wAJErORG2vEiXoGgAAAADRBmqpJqEFsmUwI\n",
       "Z//+nhAAEe/NcAAh/XwqbZNztcg9y2sSDQlCdiA+3dnQ2mmpE8JfhqNDAAAAGkGeyEUVLCP/AAXC\n",
       "JwUAITS0hiHXVIGMy3XRAAAAEQGe6WpH/wABXoRtmQLfnamAAAAAUUGa7kmoQWyZTAhn//6eEAAR\n",
       "781wACH9fCptk3OxLOYfyl2cFY+h5ij31JFvgflFZBaB8nO9LqOlhMHXiNDPgmFIXCoxxATWA0Y2\n",
       "zRhMaC7rUAAAABxBnwxFFSwj/wAFwicFACaUtIYh11Qq1NXKD5CDAAAAFgGfK3RH/wAJErORG2vE\n",
       "iPqh00lu5LAAAAAUAZ8takf/AAkSs5Eba8SJilKRWEEAAAAmQZsySahBbJlMCGf//p4QABHvzXAA\n",
       "If18Km2Tc7fhxxD7G6YdEeUAAAAZQZ9QRRUsI/8ABcInBQAmlLSGIddVzmTO/QAAABQBn290R/8A\n",
       "CRKzkRtrxImKSfiwgQAAABIBn3FqR/8ACRKzkRtrxIl6BoEAAAAhQZt2SahBbJlMCGf//p4QABHv\n",
       "zXAAIf18Km2SzRHv1YGBAAAAF0GflEUVLCP/AAXCJwUAJpS0hiIiZhJAAAAAEQGfs3RH/wAJErOR\n",
       "G2vfDxA0AAAADwGftWpH/wAJErORG2MYsQAAACpBm7lJqEFsmUwI//yEAAQb8CcACHzEdGA76Isl\n",
       "MiY2OgBqcp/vWxbbQfwAAAAVQZ/XRRUsfwAJErORG2dYTBYYFO8EAAAADwGf+GpH/wAArOYS3rmm\n",
       "QQAADe5liIIAD//+92ifAptaQ3qA5JXFJdtPgf+rZ3B8j+kDAAADAACurHPopkgYXevGAAJuZS24\n",
       "Yw2bAAGbPhIl5Q29/6EhVG7yQg+oWzeaFduT3umGIIfLtNwOrcTw9e524b7xMHpNMZziy2zbQON9\n",
       "BJRNioKB81twTJNweQYG4E3o6zz1uObfjkiiMv/4NKmavjexykp+cxa1J6n6gfqGRCmy99x7P0+f\n",
       "91jTBiF6tRtN7x20HpyfJKSv0E0bcyzVoASdoZj5Y8Zcs91u6yyHHpvDm45fPf8lGiXM2hDOPasg\n",
       "QCqrXy7o/ej9zuU3nRmkg4ibows+Q4oJfESiise9hG0DYyMA1qudIoiYqLdlD+PkLNg6H4wQIt4x\n",
       "VmSE5XG4c/Zz0XSmegHQKjA5Dby9jNmmtZiUPNwqQIsl4d9qc971Hx2FOPP25ApIdAsdU4084uow\n",
       "MweoYOrQA+S4l8genFlR6TnXGMsW1PnKIjKHEMLoUG6kUa8MYBkU3aMC2qJqOMWaKVh3GiBl2Njr\n",
       "J6j/U+/cckDGFbOBYujs7qxP5mOXQeR13UGB7pTO6tZnD3cJDHI4ce24gO/Y6sfvioSmi+HI1FDs\n",
       "/5Equ4Fx6pCOCaKu+e5jN6X6IcTMhezh63h+CDFUB1ED8I7bC6gFAVGWNRbdkNL82JoeasMqmuQs\n",
       "vPu98Kovtp0lFnRvsmipgFxFMGkWIYEz12n1zXrNA7iHpCC5FfK0y3udD9StSfG3PVN+MCENDA7H\n",
       "IhY9onWim9x16OZnIXh3yqEnMkB3eDuhaQ91lga9YXd1/RAMktEPHStmAZZTi3Lzr7hOL82B+O9K\n",
       "T4G9V6DhUbd4/CbsxAqeQebRpPVHCjDYRyoflDfMLb/I6CfeGayyOPA/b5tgafnWOaUJPz4/llaR\n",
       "w/ShABg1TEQNJTGw6XFllFA1SaeGa+cRc1G3V3INCLk4InXbdKvqnMU1nx0VEP6KQEzsqBBU6PUL\n",
       "GsmB9g/HOyaUAO9RVfCLqByS68N3D1Do7L4vzzT3Af6thkEDUsdMXrDRMgC9BvHmoTP/4iEZtoYa\n",
       "wzgq/XUmpKdpnDXTVACGoiZnJwKiPR3ZUvOGThm7pqVm/b2+v/oaEbspbJ2LVh3mYF452jPm+6ST\n",
       "1LaAbGQCLRfWk5u+vfrRTU/yI7oq0o4Edwvx7PH+t3p7EETdSoO/u8FXlSjeSEBELhEYOeAMU5a0\n",
       "N4t3XJF2qtlc6tUr1vBCZrwzSWrPok/7SSIzR6UA4qSVWikJfL6W6AGNk/8LYvaMtiC5VpOpig1M\n",
       "mcp4zIy8MJEtT0feI7yDDmrI4egXcBdYX84CVD46fro9tCCJb2Na8ehtpDR8ALSltrWdYy2dHCJf\n",
       "jlXmYBz1cRCZNhRRy1ivyOuRsJ86GYVnQt7GE2QM5EX+badgwNX4xiCFtJDNnLMSjA6sVoeuB9VW\n",
       "UMYRW63wg0iNsYBF4ZbXnUZTEoD7AKfuBjDKYKo1Gi+ma1nzDE/S0oKiH/Qfre77gBZSup8wf0jf\n",
       "NmBcikP4KZSboHw8XiC/BD1kyhUsiZ/wuSHMWFb+Oxs+LymAnBDaq8sNX2xVbkUC6jW4VIox4ZBM\n",
       "z291dmdM+Y0RAhZdjdAhwv072C7lcNHbtCbKv1keR0Rg4cjJMwc59hJv74DOok2Vv594QWy48ngU\n",
       "v/w3rTe6tHi+87Bttj2WTnZjz36mTpVjOaPB2UsfilsqCV6NDVPPcYWgI8uXmYO7mOzHO6Shbgug\n",
       "WJE9z+v65VxFnz0QCFVLB6GqrquGeKvlnOJLev5R0VRU1QVveRnTyvrW3Vih3q/PBfh4j+3+bS0v\n",
       "sAv92oG6kuCaG51aAyZ4MHp3/KNZQtXRWtCL2DN6uyW/DHMMQRzWg/nTCJK/hTrKYlztn5ZK2G57\n",
       "jiFPMq6D7Puw+/8DdAkGgrx3cF75c7oJV1U6t+1K47f9N1sCkOcxuOTZJGWu8jn2f+NZ/aG70ua4\n",
       "e8nXRB6clJ2Kb6btSl45MIiQMYRGHFgmcqbEHkQBSWdxbD6WT4fUO/2INOUaXANyUMeGk956F2ip\n",
       "+p6HAG0Lm9xQ8f1qrE+MLd6EsDBOqnDnBe7P3jWzWtbhvWXhJuh28IkvTousC7k3W8lLWOHsGbFY\n",
       "y2RBeKiOafDX9M2q75mlN6wJiOHOYTA4ibMiM5BkWn83YtdU7MbIFMPSH9loGPvI19KuIMHvlaTe\n",
       "zCzqL6Dg6p4LAQjQ1Eiv6IBIwOvEj638GLB8NTc8JMMzL2lPDOnCWGt5cE0vxhkJRNGnWlcirsMn\n",
       "iDpf5H2s6eZafFOjXUFfMvRY6gTto6Ol0f0A91hoFmNrgSUdi7EqI7fkaRyTiNF/7ioibGZG92xM\n",
       "aplrFvpoQyhVXWwq5UlgZxX3um+AQ0aYQquCfXxzNWHXZgSKoGfxo0lymDaK+bLKlvjmZkHTF2qk\n",
       "hXmIKkClL3/wqZfbuOq9otceqgTEyJ7UJnziL7jC03MP6u2svnHtynp9VjnaQoF4QVxSJpU07QZ1\n",
       "0a2UPuAj0WJxflxnLEKaJHwqSzF4p6xGZRLo7hCnHGzg+V2MfQWqcmNaL29sKDYlRr7W45R+Ob2I\n",
       "Iv5N+GHDTpytojeNbOweN8TlQKrTPE2boH7DJU6wVPxZazzLuk16FS5zBmoF7Fc54kaGiduW3snt\n",
       "dj9g27ExRD15EDwN1vydYFt40V4eRvhJN/fslJELiCUWrEVJplY5dX090ukXzuTkK9FwNKONklMS\n",
       "J/PTf6703nO9Gq2VCSPt7D7CsLOdUcWZp5DrxtvNnE3AWN04HFo33s4/kYafl8UWSKuOcCxbyI51\n",
       "RnSlf+6Psp3o98c5KH8cXpazL/bfjfFISOrf6I0e4DTT4Xx/xf2dGyKumtEL4n0iQQbGmgxBSFgq\n",
       "B0l00iWl99taM2C/VQMnTUFkHrn8Ukb+70jd5rEUO8N1jLMEKo8b6wFrA1rmmlx/nAC3lYc0StfZ\n",
       "WB325SaRUG7EadV3kin6aHvIs1iemvOB+05ecr02ousgeck8GMaHI9qwWPZEilg2hgcG4HAVMnA8\n",
       "Nm7t6OsQerhPk3y84RtMEQYbzpyJ6TaC5bZQncw5xhm5lkYtSypFOBE3nBlX+kY0PI9Z9jf/OpNE\n",
       "jjdGeaLsq1ya+byNSTFmtl6uEVwLrpwlLWLXiWCzD3FJIPGm/Es5hqz+PozJTqXGQ78BA1b641/G\n",
       "No0MZXRcDSBk5Bfxe6PZVN9Omm9zeVQNA4mi68eUcPEBwqul3Vt1UUrjhjvSqLJ1wdhrbj9vfhDH\n",
       "0FPMoJH7UdL47DIG0ypGz/San0aJrSKh6eFU85ydXDeI2C+ggowh02CpNPaN8zo+fjSsQwEGFwya\n",
       "7YkJbhZFVq7Jt1+8FDGMBhvdigtU7gvPCwL8A05BqE+LIx/tH2i3eNOIY9c+d0GJYN0X7i+/eR5N\n",
       "7Ujtb+kJTJeOVixaY1PYIpi3db/MIlvfHdYdR5sOZ6PeUWIePDUUuhbVNqrAr0+KM3Lv0vTgSJHx\n",
       "EE9tcZZixt+wcafD3wutzEQ7fQSZ6xD5Mpcrgt2tMZ+duuhxgJJglCuuvqJQektAn+9WVZ9nF+g8\n",
       "p36E8QIHPeV//M7PKei7D/0dSlEvPuQYmeWTra8xd87Z5IQMo8/wXzdaTx8edj4Jv8IwOgNWs7ap\n",
       "qbGaC1uA6XNduEsKgRwUGfFJfeuBjKCfzMDRxh96h+5wXHckkoFYeQI9C+6mG6GILHBb2Yvri/zC\n",
       "nJjd+IRd36+jpPKcDFl+6Tlxpq3ZjcRT/Fzhrk+R3jMfWQDWSdPA036HYZ9pQkk91YDQY9DdYecX\n",
       "rAQoT/p2oqERb1lpA1n8Ajaeq3VTa3+hh1W+2IWPzXl0y/P3MP9rhyS7jVE1w6ufYozdv1QinLMh\n",
       "JQQrUHibo59PEFXHIij0E/TTWAiYHteqv4AWes3X7IrldpsylgcXIt37gy+Xz9vK9KaUB+Z8LOpX\n",
       "8gdKUP/0BOb7lASZVRYz0jpdtkTasn59bDmJJuaP3mVY+cuwCEO3ZgEa/Ln+ihf/don4XZjPBJnd\n",
       "TwuryEEeZV/8O/8qP/Jag4zGF21oLa++CfwQGzGvStDE5XRbMkRZkr6b5/Y1P2agMgknuUrmUxHE\n",
       "j8jRyYjPrrQWFIjEgebO14Eqa8E8Ydow2M/UZ9agyhCMp1FuKEJ4KYhmvQ8AzGN/w7tUq1SajuM0\n",
       "80ISorJ01r3guK7HFOwS1tNEt5Ufzb7mjIqkMvPJcSAOsbZmEAFxGgjbJqJ+XUlpwznKjkNdhe+p\n",
       "jpMFlEUPkPRQN08FpcHroxVNKDiho6qGZ82xT3MIMoFUH1UlLi1l1xZx9zBEb5a51ObdzHg0/erc\n",
       "KdxQJExATYvW61f1x+XJ/1tX23rExqkfzMT6z7Hi+k0fPHdSkkOSRoIMt7jnwQCWRojOAtwYB4/Y\n",
       "h31apbuxVPpqs5XjI6+BDCVT545Tsp81Tb76cWYWGk/H03u7jky7N1CZa1gZKcLGm3M+5yAtJnYg\n",
       "XZ0ceib7b6cp6TNj9/xBkQeWB+l03y0Y4OIFLnW9iby9RSICvRwz8D7F1rHQXigim+I9Gyzvxqh/\n",
       "EjI97DnHtzDSNgGJJVkCsJPumEjig4hznFmLVcjSm4KHF3KQINJ9x0mScEY0fG8LLTaSUO0/8vy8\n",
       "p0zt1fA83+q+tTjmW0L//tAWSSEMSyFS7jjnj/99NXUDj3g/lmtbx74+7u3e4QVzwZ2NkqHm6y+S\n",
       "RUsbT0oiLmBosbk0f6prdeVJZVn5odfNG1TbBcAEoACCjmoP8QAAAVJBmiRsQz/+nhA12LEwbH1c\n",
       "gI8wAIQBY9+a/b2B4Pia7x606VUfgOSPE4MYia37Ef614gPWq8Ayhjzl85fAJ+d/f6fKLbzci9f4\n",
       "Vy7jea5MGqRFrtZ1ZqYEh+UkXQkH048NthAFCw1zkJt3Q870KT8p6dEpNwUHnqftbHvqq19E04RO\n",
       "Dri5wVzrfK6k4dPTeODqXQGNgaNNKeNdijakCV5YyyCV3NaAIcW2GILkKn+nKAhEjx70NSpspcMg\n",
       "JBbV+/EQJ/GpwNBRHoZlTdw2YoGeC5N2jjvnRP2C4G453uwylLBfVkWOJaSGb04vJz3NvrGjh/o5\n",
       "e7WGTC7aTnk3jAe+JMwe5JnHdJQiEfJgtv9sSRkhA7AMOML64EKdt6fJrFs1N4mMguXBLscLQ7kS\n",
       "SU0PaB4zPYilIEcKXviNp00QxY4qmOqUeNIqTzss++kfD+p0HQAAAEhBnkJ4hH8EGVYQIK23UiV8\n",
       "haw8X3DLLGUob4OB/aKreSxuBTwdKqu60EdKTjXByXxDd6KoehOnAfSiRaGhsWI7y1QNadobQfMA\n",
       "AAAqAZ5hdEf/BHGKgFSHNH71AQlA/alwhA1Nt76U870qPJCmGl0Ut2s53A9IAAAAHgGeY2pH/wMN\n",
       "JUgmm5nWDgCMtVTNAiEQddS0SPWDewAAAFZBmmhJqEFomUwIZ//+nhA12LEwaHIila6qGCtp/FGA\n",
       "LJMn5RmsdIsK4y/K9OMgAIhrDWKryr38bcDmah1agWH7G0UYoU1/tuthCIyHBOJHiphRFHdBKwAA\n",
       "ACVBnoZFESwj/wLWFE2jdz+hFsYG0E2TN8GtIak6sFltIuLx+DFgAAAAHgGepXRH/wMLgCwpmZ07\n",
       "cQde0FFHqHufyUSQ6UEG9QAAABYBnqdqR/8Ec+QcMI+E76tDZeBga0PAAAAAIEGarEmoQWyZTAhn\n",
       "//6eEA6Wx4CaOhsic6PdsN1k9vAPAAAAFkGeykUVLCP/AM4U9zBLF3ny87gRTNMAAAAWAZ7pdEf/\n",
       "BHMYjfxKVKCZ3Vagb0KHgAAAAAwBnutqR/8AAMRJ8c0AAABaQZrwSahBbJlMCGf//p4QAAjqQNmv\n",
       "nzfbzN9J4VmgBWd44W7ORX049XdStZ9RGf/cQBETC2Ym3+HqkxXDRapMO63nr//38B+wKQNH12on\n",
       "HJ5zP125gOKXv9/wAAAAGEGfDkUVLCP/AALoq/SNBXWEO0BLdNx6wQAAABEBny10R/8AAMPhckfm\n",
       "C9RHyQAAAA8Bny9qR/8AAMRKDQZjyYAAAAAdQZs0SahBbJlMCGf//p4QAACjfMzgAoXU7mu9KYIA\n",
       "AAARQZ9SRRUsI/8AAHm3I/Fy6sEAAAAOAZ9xdEf/AADD4XFIV5MAAAAMAZ9zakf/AADESfHNAAAA\n",
       "G0GbeEmoQWyZTAhn//6eEAAAsfwHXd9dxRflwQAAABJBn5ZFFSwj/wAAebciMbejOrEAAAAMAZ+1\n",
       "dEf/AADD4VK5AAAADwGft2pH/wAAxEoAG+MKAwAAABNBm7xJqEFsmUwIZ//+nhAAAAdNAAAAD0Gf\n",
       "2kUVLCP/AAB5tyAfIAAAAAwBn/l0R/8AAMPhUrkAAAAMAZ/7akf/AADESfHNAAAAIkGb4EmoQWyZ\n",
       "TAhn//6eEAJ9x59YLTrhMfTStClFIAOIAyoAAAARQZ4eRRUsI/8Azkx/1vE/kbAAAAAMAZ49dEf/\n",
       "AADD4VK5AAAADgGeP2pH/wFHzWFQcIkbAAAAI0GaJEmoQWyZTAhn//6eEAJ9x59YLTrlRMVQLQpR\n",
       "SADiAMqBAAAAEUGeQkUVLCP/AM5vABoQlCioAAAADgGeYXRH/wFHFyLbe40VAAAADgGeY2pH/wFH\n",
       "zWFQcIkbAAAAJkGaaEmoQWyZTAhn//6eEAJ9x59YLTsIYNM3PuZ6P1/nRIfiwDpgAAAAEUGehkUV\n",
       "LCP/AM4U6sKM/kbAAAAADgGepXRH/wFHFyLbe40VAAAADAGep2pH/wAAxEnxzQAAAGJBmqxJqEFs\n",
       "mUwIZ//+nhACoaRbnjdwaQCWEf/+/wJlMS3nycjpDyppDPaqyWFsH54//6+aljr7ynOzrc4x8XFF\n",
       "7AlMbbU//wGl6TQdk5zkT/AH4tlAnGTTHy2/87Gw+LQGNQAAABVBnspFFSwj/wDYEnrjONtwyXEz\n",
       "GnEAAAASAZ7pdEf/AVkVlhz5Zg1hkf04AAAADAGe62pH/wAAxEnxzQAAAEVBmvBJqEFsmUwIZ//+\n",
       "nhACnYvQAKDbVASqyRM88jTwMCHBvqibtFfaXCEjE4ZejlYGpKCKgoC8FRJOeu9gm3tdxk3iA2YA\n",
       "AAATQZ8ORRUsI/8A0xZRtRod7eZVQwAAABEBny10R/8BUBlAvY8d7LYAkQAAAAwBny9qR/8AAMRJ\n",
       "8c0AAAATQZs0SahBbJlMCGf//p4QAAAHTAAAAA9Bn1JFFSwj/wAAebcgHyEAAAAMAZ9xdEf/AADD\n",
       "4VK5AAAADAGfc2pH/wAAxEnxzQAAABNBm3hJqEFsmUwIZ//+nhAAAAdMAAAAD0GflkUVLCP/AAB5\n",
       "tyAfIQAAAAwBn7V0R/8AAMPhUrkAAAAMAZ+3akf/AADESfHNAAAAE0GbvEmoQWyZTAhn//6eEAAA\n",
       "B00AAAAPQZ/aRRUsI/8AAHm3IB8gAAAADAGf+XRH/wAAw+FSuQAAAAwBn/tqR/8AAMRJ8c0AAAAo\n",
       "QZvgSahBbJlMCGf//p4QAYn1FWqoQAhRspo7T1qEl2+/J+jxfY4yoAAAABNBnh5FFSwj/wB8P6T3\n",
       "P0HxzMacAAAAEQGePXRH/wDJXdMnXtLiSJyZAAAADAGeP2pH/wAAxEnxzQAAABNBmiRJqEFsmUwI\n",
       "Z//+nhAAAAdNAAAAD0GeQkUVLCP/AAB5tyAfIAAAAAwBnmF0R/8AAMPhUrkAAAAMAZ5jakf/AADE\n",
       "SfHNAAAAE0GaaEmoQWyZTAhn//6eEAAAB0wAAAAPQZ6GRRUsI/8AAHm3IB8gAAAADAGepXRH/wAA\n",
       "w+FSuQAAAAwBnqdqR/8AAMRJ8c0AAAATQZqsSahBbJlMCGf//p4QAAAHTQAAAA9BnspFFSwj/wAA\n",
       "ebcgHyEAAAAMAZ7pdEf/AADD4VK5AAAADAGe62pH/wAAxEnxzQAAABtBmvBJqEFsmUwIZ//+nhAA\n",
       "SUg3PoG4n/rRA2YAAAAPQZ8ORRUsI/8AAHm3IB8hAAAADAGfLXRH/wAAw+FSuQAAAAwBny9qR/8A\n",
       "AMRJ8c0AAABUQZs0SahBbJlMCGf//p4QAKj+EUABEPbri4pfhxWRdLlfzcxHxpHE2mS5wKutQf4G\n",
       "+Pb51ddUDZJGV/PpeTXit0Bx6l8NvuZXqdk2TbuVFFMqiwbMAAAAFEGfUkUVLCP/ADYFMF7lanV2\n",
       "4dOBAAAADwGfcXRH/wBWfRR8ZmnTpwAAAA4Bn3NqR/8AKhmsbjxE1wAAAFhBm3hJqEFsmUwIZ//+\n",
       "nhAAk2cNSnEAAFDFMgUP2P0n7sLuxvnd6MOc7dUOH/uAVSopwX1mYdz/h7ZvlWyU+iRVh5t+WjYo\n",
       "75zIUHyyLmBteJ7UCwnWMH+AAAAAFEGflkUVLCP/AC/TJjFF93Z9YvFDAAAADgGftXRH/wAqAuSp\n",
       "O40VAAAAEQGft2pH/wBLfkk4dHv+6lATAAAAJkGbvEmoQWyZTAhn//6eEAAYnE26DfM+Mg4cIYeE\n",
       "RVbpmRzuBYUlAAAAEUGf2kUVLCP/ABpt4AvJlCioAAAADgGf+XRH/wAqAuSpO40VAAAADgGf+2pH\n",
       "/wAqGaxuPETXAAAAR0Gb4EmoQWyZTAhn//6eEABUfZ/GqVTwBCZ//w/wq6hzcunELtvFgQ0pO3S5\n",
       "gx7p5j+9MdibZzTBJwqaKuM3jDjZbbL2dnNAAAAAE0GeHkUVLCP/ABsJhxZt5PL1gF8AAAAOAZ49\n",
       "dEf/ACoC5Kk7jRUAAAARAZ4/akf/ACs5hLe5ktZM/MEAAABxQZokSahBbJlMCGf//p4QAFROpsG2\n",
       "AWs2tPHIZZ/qlAwhfNV/cI58snK36dtXFS40C95Sx+rZR1h4/wrK2z9IxlGuAdBMA3k//a4GZZKa\n",
       "9xv/iMQIzjFX80k0g3BPEBk/lzuLpmj+TC6p3EBwXI8w+4EAAAATQZ5CRRUsI/8AGwJrPc/STEdD\n",
       "nAAAABEBnmF0R/8AKyKTVLZa/U7W8AAAAAwBnmNqR/8AAMRJ8c0AAAC2QZpoSahBbJlMCGf//p4Q\n",
       "AEm2bjIC3/1PAEQCK+S2RR9s3FG+a/s7VwjnyycGaq6U5h0Oc9VrlubAIfD/4g4ARZ4ZMxtX0W/+\n",
       "8A8ZS1Ijh0m/c+j/PwC/WUoZsbAUwG9xdr2YKqSbdQCgEJt+8AbMHLUrHl2TYr1qQXaM2vdOeitT\n",
       "HxYspDLuVoumX/vXcjXbmBzYsEkA6KBVLLhICe/cNcYk8j3qqmqscOxR2eUI8MelNmFiRTQAAAAX\n",
       "QZ6GRRUsI/8AF+KsYtW/SVoFv2tAIeAAAAAPAZ6ldEf/ACXDQj5VQBOnAAAAEQGep2pH/wAZKSpb\n",
       "1zTZIBW8AAAAc0GarEmoQWyZTAhf//6MsAAwWqcCkPTvADpJ//8QFf4Lbo9yWX3XBCvRmweyMu2O\n",
       "A/w0airrgvkRCCxtBG5JuL7Up76jUSPKM3oSorncZyG4L/hQ0KxsrovN10jWL6TY/sMFuD9t1B+F\n",
       "FUz61GXb6yfUkPEAAAAVQZ7KRRUsI/8ADy/0vvmjTdWJIeqFAAAAEQGe6XRH/wAYfAGqWy3NC05o\n",
       "AAAADAGe62pH/wAAxEnxzQAAABNBmvBJqEFsmUwIX//+jLAAAAdUAAAAEUGfDkUVLCP/AAv28Avo\n",
       "lCipAAAADAGfLXRH/wAAw+FSuQAAAAwBny9qR/8AAMRJ8c0AAABKQZsySahBbJlMFEwz//6eEAAn\n",
       "/9v8IZoU2xapx4KaMCjx8hVS6qyw9wtHIW/N32CSS5LzIE1K+nnjRnRp2RXci3+wVAsKO28FqBYA\n",
       "AAAdAZ9Rakf/ABR0t25PREB6cYABDdCHNUn1Nv5yYpMAAABbQZtWSeEKUmUwIZ/+nhAAJZw53YLh\n",
       "InpfuAOYn//xAiD4ejFE2Jlgpgxh3PdEia6/SPWBsyf2CnQIJQpvddt0vwQECLSGk2ZItFZE+87T\n",
       "Kl/UXEa6ukf/T9nGgAAAABNBn3RFNEwj/wAMQTWe5+qPlaOdAAAAEQGfk3RH/wATVfwwY4r5jBbw\n",
       "AAAADAGflWpH/wAAxEnxzQAAAFxBm5pJqEFomUwIZ//+nhAAF+EUj3VNcAxk0//v8Bj8lrgXSX6x\n",
       "aQM0v9vShV6wL0Z+CcyM9m2rLzY8GCSa5p7NdwpXDOiK9zQpzOO50h2yzZhNubNgsb0a7N3baQAA\n",
       "ABJBn7hFESwj/wAHl/pTsiaCCWEAAAAPAZ/XdEf/AAw+ANsT7F8jAAAADAGf2WpH/wAAxEnxzQAA\n",
       "ABlBm95JqEFsmUwIZ//+nhAABYmXY46A8nScAAAAD0Gf/EUVLCP/AAB5tyAfIQAAAAwBnht0R/8A\n",
       "AMPhUrkAAAAMAZ4dakf/AADESfHNAAAAWkGaAkmoQWyZTAhn//6eEAAS781wACIFzk6PSqe0KGcW\n",
       "U/83s18x/d7G/jTwlerQ2WIHmXjDinc8E3EyfbPdcIGZxkcEZrWMF51NVWXo9Wt1gJ/XViat7gbb\n",
       "QQAAABJBniBFFSwj/wAGImD0VRGYAlkAAAAMAZ5fdEf/AADD4VK5AAAADwGeQWpH/wAJrHMRQPmI\n",
       "0gAAABNBmkZJqEFsmUwIZ//+nhAAAAdMAAAAD0GeZEUVLCP/AAB5tyAfIQAAAAwBnoN0R/8AAMPh\n",
       "UrkAAAAMAZ6Fakf/AADESfHNAAAAYkGaikmoQWyZTAhn//6eEAAWHJ0YArfrwWkKsoX0GR/Be27u\n",
       "1f75jmSjnXwfMQdbAsYHuQ5QMUXvFp703eVaqjMpiHRBoMrwEMIUzD9kDWSg0RmS9tnSrVzD/Iq2\n",
       "p5M+YFc1AAAAFEGeqEUVLCP/AAcT+k9z8c2jxvc0AAAAEQGex3RH/wALX5fcJs2fynSRAAAADgGe\n",
       "yWpH/wACxZsMPETXAAAAFkGazkmoQWyZTAhn//6eEAAFY9WaJdwAAAARQZ7sRRUsI/8AAboqEn1Q\n",
       "oqEAAAAOAZ8LdEf/AALELpm7jRUAAAAMAZ8Nakf/AADESfHNAAAAbUGbEkmoQWyZTAhn//6eEAAR\n",
       "7Z+fwVXWwAHPmLf/MYRbliOPRpjRubqhuHFcmny9sU4zCuveWQMupcQGiJykJmYs/mEXn+X1snGC\n",
       "g/1QFgteBB7Cf5ID4WxwUeQLX1t4c/8ZVz0tKOrgpjZZaf8AAAASQZ8wRRUsI/8ABdMT1/Sbi704\n",
       "AAAADAGfT3RH/wAAw+FSuQAAABkBn1FqR/8ACSWF1JGgAfrKPaV2ioupkflpAAAAOUGbVkmoQWyZ\n",
       "TAhn//6eEAAR0muoA4hAfrx2UlNVURya+G78y8bWLC7VMGsAPpLnHLVI9Ox946NCggAAABJBn3RF\n",
       "FSwj/wAF0VasKtzHqcEAAAAPAZ+TdEf/AAkrDuo3enOnAAAADAGflWpH/wAAxEnxzQAAAFxBm5pJ\n",
       "qEFsmUwIZ//+nhAACtB9JhgsAR2u1ZjiOQEkFK5hgNzhtP9sxUKKxwgYdD8MoOQoC6b5YZsit+uP\n",
       "OuOUnnGmWpHSIsbCPmLEYSoe03h4CS9VaA9Cr39BswAAABJBn7hFFSwj/wADdFNWK11cqcEAAAAP\n",
       "AZ/XdEf/AAWIW9o4LHFpAAAADAGf2WpH/wAAxEnxzQAAAFpBm95JqEFsmUwIZ//+nhAACf77ByfH\n",
       "H2AEcooLRkyp36VX1/ZnSH1QIW4Ez8+95flMgxyF3eGTwzNav29kKzNrxUqkZexs1a5DwpNRKBbK\n",
       "MXuRBOGbJAObeqAAAAAXQZ/8RRUsI/8AAzg/vg/PsD5qci8ygpMAAAARAZ4bdEf/AAUcUmqWzBzO\n",
       "1vAAAAARAZ4dakf/AATWOYMEnRcGqSAAAAA/QZoCSahBbJlMCGf//p4QAAXOCCXemjBnAFMZM73w\n",
       "dJdtgKfItFqU7ptQu3Wc/Uc4NgJBftXsgi97NJ+SLnfNAAAAFUGeIEUVLCP/AAHbhlbM0gZ9oBeb\n",
       "QQAAAAwBnl90R/8AAMPhUrkAAAARAZ5Bakf/AAL9JUt65t8TirMAAABPQZpGSahBbJlMCGf//p4Q\n",
       "AAWM7EEPGAFcysuaWF+wGRY3Nq6sN/vZCQUJB1OvmLEh05MBDFXjbSa6GPMIxcXem8oz3KrCVcL9\n",
       "dL0W/NVxNAAAABVBnmRFFSwj/wADdTJObqWBMpo3ASEAAAARAZ6DdEf/AALX5fcJtT6h9JAAAAAO\n",
       "AZ6Fakf/AAWLNc48RNcAAABnQZqKSahBbJlMCGf//p4QAArHqzgw83BT1AAciT//v8CVHCnRCX2Q\n",
       "QPYCS/9jEHhm3eXG989rHB9e7FQhZJSQ/rUWyy750Y9dxD/PxH6uhkL7WmBPYVxyPMWTHZEHJcRS\n",
       "dRB7W35xoQAAABVBnqhFFSwj/wADdFR/Akm+rkWlKJAAAAATAZ7HdEf/AAWIXascgpefwrlrCQAA\n",
       "AAwBnslqR/8AAMRJ8c0AAAATQZrOSahBbJlMCGf//p4QAAAHTAAAAA9BnuxFFSwj/wAAebcgHyEA\n",
       "AAAMAZ8LdEf/AADD4VK5AAAADAGfDWpH/wAAxEnxzQAAAB1BmxJJqEFsmUwIZ//+nhAAAJd/WaAK\n",
       "weIBzElNsQAAAA9BnzBFFSwj/wAAebcgHyAAAAAMAZ9PdEf/AADD4VK5AAAADAGfUWpH/wAAxEnx\n",
       "zQAAABNBm1ZJqEFsmUwIZ//+nhAAAAdMAAAAD0GfdEUVLCP/AAB5tyAfIQAAAAwBn5N0R/8AAMPh\n",
       "UrkAAAAMAZ+Vakf/AADESfHNAAAAE0GbmkmoQWyZTAhn//6eEAAAB00AAAAPQZ+4RRUsI/8AAHm3\n",
       "IB8hAAAADAGf13RH/wAAw+FSuQAAAAwBn9lqR/8AAMRJ8c0AAAAkQZveSahBbJlMCF///oywAAJD\n",
       "72Y9elRynApt61kGbSWLS46wAAAAEkGf/EUVLCP/AAC6K2NsG/YSwQAAAA8Bnht0R/8AASVilBsA\n",
       "+koAAAAMAZ4dakf/AADESfHNAAAAE0GaAkmoQWyZTAhf//6MsAAAB1UAAAAPQZ4gRRUsI/8AAHm3\n",
       "IB8hAAAADAGeX3RH/wAAw+FSuQAAAAwBnkFqR/8AAMRJ8c0AAAAXQZpGSahBbJlMCF///oywAACY\n",
       "UsMVGegAAAAPQZ5kRRUsI/8AAHm3IB8hAAAADAGeg3RH/wAAw+FSuQAAAAwBnoVqR/8AAMRJ8c0A\n",
       "AABsQZqHSahBbJlMCGf//p4QAAEs2eGlt4xf+gYBCM4t/+/wEHJDiUmuHFGN1C2jk7ga2KAXAc1Y\n",
       "6LWkGt+1RsDyxlBqpJkFKAIIy9JnIfswPUtjr2dDhYL/V2hnRudy81fLtVDj9wDN8UPBKwhhAAAA\n",
       "OkGaq0nhClJlMCGf/p4QAAEmCzGammzliDVWW5dHFjQAG3n1JyY2/kjdq7N+kuLUzwjSG/LSl6T9\n",
       "/tAAAAASQZ7JRTRMI/8AAHmtvKDV9y/BAAAADwGe6HRH/wAAw+HhmwoOfwAAAAwBnupqR/8AAMRJ\n",
       "8c0AAAATQZrvSahBaJlMCGf//p4QAAAHTQAAAA9Bnw1FESwj/wAAebcgHyAAAAAMAZ8sdEf/AADD\n",
       "4VK5AAAADAGfLmpH/wAAxEnxzQAAADdBmzNJqEFsmUwIZ//+nhAAAKj7P4LJUIic7UwxEJK/GtvY\n",
       "qe1TWtIAyk5dI06O35+QOX+c12dcAAAAE0GfUUUVLCP/AAB5tyQRYc30mewAAAARAZ9wdEf/AADD\n",
       "4XJjiQjYh7EAAAAMAZ9yakf/AADESfHNAAAAO0Gbd0moQWyZTAhn//6eEAAAl38IoJ7bSNCEkq3E\n",
       "cD6cUwwGBLbRoYN/jv8cXK5N5XE5ojMmo6dUczjBAAAAE0GflUUVLCP/AAB5tyOrrsb6TUIAAAAR\n",
       "AZ+0dEf/AADD4W8rsJjYihEAAAAMAZ+2akf/AADESfHNAAAAE0Gbu0moQWyZTAhn//6eEAAAB00A\n",
       "AAAPQZ/ZRRUsI/8AAHm3IB8hAAAADAGf+HRH/wAAw+FSuQAAAAwBn/pqR/8AAMRJ8c0AAAATQZv/\n",
       "SahBbJlMCGf//p4QAAAHTQAAAA9Bnh1FFSwj/wAAebcgHyAAAAAMAZ48dEf/AADD4VK5AAAADAGe\n",
       "PmpH/wAAxEnxzQAAABxBmiNJqEFsmUwIZ//+nhACs/3CeSI0MgKJOAS9AAAAD0GeQUUVLCP/AAB5\n",
       "tyAfIQAAAAwBnmB0R/8AAMPhUrkAAAAMAZ5iakf/AADESfHNAAAAE0GaZ0moQWyZTAhn//6eEAAA\n",
       "B00AAAAPQZ6FRRUsI/8AAHm3IB8gAAAADAGepHRH/wAAw+FSuQAAAAwBnqZqR/8AAMRJ8c0AAAAT\n",
       "QZqrSahBbJlMCGf//p4QAAAHTAAAAA9BnslFFSwj/wAAebcgHyEAAAAMAZ7odEf/AADD4VK5AAAA\n",
       "DAGe6mpH/wAAxEnxzQAAACFBmu9JqEFsmUwIZ//+nhACr4deog6WhPFjHTnPnIZnAgcAAAASQZ8N\n",
       "RRUsI/8A00weiYhRmAJYAAAADAGfLHRH/wAAw+FSuQAAAA8Bny5qR/8BUEwGHrFhfkcAAAATQZsz\n",
       "SahBbJlMCGf//p4QAAAHTAAAAA9Bn1FFFSwj/wAAebcgHyAAAAAMAZ9wdEf/AADD4VK5AAAADAGf\n",
       "cmpH/wAAxEnxzQAAAGJBm3dJqEFsmUwIZ//+nhADCu3HAHMPuFpGxx4kgHBPvwGvQ4mouoxIffO8\n",
       "6LUvkMFhkyznuWNoo66HViHHpZF+JGMHqrZYbsZc9m87cVm4jz7Xfmv+iBadjejQovK+OpAr4QAA\n",
       "ABdBn5VFFSwj/wD4fqQMoMKUHV/JjPxzgAAAABEBn7R0R/8BkcAapbLSMItOaQAAAA4Bn7ZqR/8B\n",
       "iJPhQjxE1wAAAEpBm7lJqEFsmUwUTCP//eEALTrGD6BQTvgA4wxvboqi7kCxbN1rtt8a7BR2RIzh\n",
       "pzNV/Gec3j8UBe1LGWRruJuvrALeAfflyR4B/wAAABIBn9hqR/8Bh/+E7PDcV1CG8qEAAA0cZYiE\n",
       "AD///vdonwKbWkN6gOSVxSXbT4H/q2dwfI/pAwAAAwAArqxz6KZIGF3rxgACbmUtuGMNmwABmz4S\n",
       "JeUNvf+hIVRu8kIPqFs3mhXbk97phiCHy7TcDq3E8PXuduG+8TB6TTGc4sts20DjfQSUTYqCgfNb\n",
       "cEyTcHkGBuBN6Os89bjm345IojMAD5SoM1fG9jlJT85oAntn1wu3b+3Kyun4Bfo9berBR18gTLOg\n",
       "v26wks/+chPIDripNT9s0OUAUkdFancbHuxf9fZDlZdguBhdYKCmGNEO5OY26YxrHqiwLhXRSZYw\n",
       "cpOavKc4s9eBOWEHsFheP8MhMb2icD4d3AP5pk0P9hpxtQCslYwSmNTAVYUNgPvpdEqn4tvITooR\n",
       "7LKeaIW3f8Anjs9d8YBme6WaCAx0NIPkJpw/TiLI/exEMMJM1MwaQvvVRNkK5DCv2FH4brdbaOf9\n",
       "QU1rvd4TtW7pxT/tjGL525qghx9JAnvpIC2dUP/Z+SvhM7qbJ30pvP1cQMro0zXHb4oZpT0LxrqO\n",
       "Zg0uudOTWGlSnTfQv0Xv+RNVeux59s9aaRsBZ5j85MdkWjCiKz9fepW5BDFFz0N2SycujN6Y3HHc\n",
       "p51HfZmSD76MECbUbbfQPjK2HNRgeJz0Zwm+SXEVi2omU8tAPgOnsuAM8SCrHtO4GR0YjnfRqZeF\n",
       "tlSVfstLbqhfYnWD6bdGCFjYoIq9o2RuyDChqMvRbpdJlTn7XGBmbFmDlXUVTSTu97UD1zbX2cPz\n",
       "HFcc/6GIo9lGTL2I2q2W01xPNdS1Ck7JbQNS/ftuuKfJc5P+j40HzfGQM5fvX9MxpQvzzFVEFXaS\n",
       "uct222iOHlFIzD1TwE7BAl8yN19I9FN3gabzMVKVZxfyDSv6dhPW/xKIXTeFtE8raDzYorCdLbKk\n",
       "GnT0lHqNn6cIFLL8DdsOQR3xAhHBirCRgX4mq5emuuey3r38OoENRTA0hMey8hUJfqlF8oAPPTjR\n",
       "tkZfWbmJS+SsVSuca+VtS6uH89QbeApJK2fxT3nzmJBzunjo/qLIcVzc8TI2OPbovXC+fbz9336R\n",
       "keIASUELdsVBgOOuQ51MPOpr4rgn0HTEyWXTWaDtxxJ/anuVy5LijqB/hW3fevY53DDosHRDkjec\n",
       "7qCof402kcl00MmthZSQI8SsyAYDD+vPYEvT/kGrMF088LrlYnQy5LrdoJucUkV4e4u77KhuaDMU\n",
       "G6vYUTRBzSysd0CSXvHpI154ATimo6yz5c7a+eJKXqKgPJrSY9Q9Asg/7KFRZvIl6GqI292mP2TW\n",
       "R3ZtRtuIRaVp4scYFdhjjMHCJfi74sM5aS2saLH3h0uLB+6GemrTR2hzBkwm7dDhGrMYQq686029\n",
       "BgXGIylAr3t9d5tCiKwrPW7MFFa82bR74vpSlAr3UuUvwQ90qTr/dxRqdJyYwRie5nZ3OsxdI54n\n",
       "8sKiyqNq099MAnKmcz3DSargF4+mXm1GdgF4Q335Opypmv6XXXxoAWM+qbj998es+4Oh3COHxK+E\n",
       "wiOl+7gl4Uzb+mqGbTQI3DdZLBbWGNEDUrpbnfhknEN65EYRfI4mszqx9p/bUxqKzZ1GboVtTgd/\n",
       "3CkI2C9ZnugUw3cI7PLdwlmsWQrct5RmJDgcCxkb6X0SHgjx+n+XGoGbE8Zz/3p6+m557yVTeF7u\n",
       "TDNWI5D1YM6uskBmcwOSKUDCD1MjgT1AhiiKzXvHPGBFO/dACWp7EtMN4hn+ABJ618S/GaSqLJyT\n",
       "joSL9Q84kGtlQF5TwF9051ENmvIeScegkdtQsNuL/jYhBPoXlkTzjuZ3ZMzVnR0I16gwfh02wj2E\n",
       "4joBD1UrQU8QYPft3h5ESw/pkPH/ExBEnzCViW5BgMRk113427g3BLByd0yxBzFqpl8xtszU3Ndr\n",
       "raezkldBrNmjluoyzNXyA9A5J2FKSesdrDMSe/kqO/ffnpiIu9LnlNkQquKPduRMSNzDZQnSDc/5\n",
       "QJQD6jGmFxdDFRqZoA8GJtUx9KX76oqfNHXld6NxW87eE6UQsG5JM6puX9NJaSNhyVdaVg709tTB\n",
       "mxDlQfayowsEsHYNUQln2bxmxeIXd9hOziV1AohiaeeYNe2tLTB7iQ4amG9esq+O+CyeeoPsIsQN\n",
       "L4uUHBZ5xP1YfQ+FzFyvUovv6xrcC4UbmQZvK/wBXCTZ4vW+girE2nz9LYhq5/92IT1mj6wrTVNG\n",
       "NVyjzqdVbnpdi9txkcu80cuHuH7zOcEozg7D6QjIrwB1Sao1tF06vM716j9DFdxoVg+hldgDDK+f\n",
       "Rwhhp1xwA6pHI75nRrlNQhCB3DybM21Iv2FO+rMgGOH9LDV+k6Nh2r7zDN3b7FlZPb7UoagCdT+u\n",
       "DCDzllBog/rIcp9T0GIzS53qGN8Xt6WNbFk6LwVRvbS58w3IF9ygk3bUnXImKHR83P2XybThhKy3\n",
       "C4H3tYxboapKXHPuqvGamm8lk6stp5AjuDKQYfE/YqrNw0gFjep4bmnEDJ97ug85oQ0ACdfQW/5K\n",
       "5hobPAzX97DDveAOwoBWSRel62P9UJ6pYsBX7d2ApBVpD+nv6CoTJ58AO0oj1nkZTncFoPd4pq9+\n",
       "0UuX17C7Bk314wFRj1z4dBU30SOgwVN4T+C66zqhx0WrhQjv009oaz8eVGAdbY6VYygzaRhWhcXl\n",
       "NL8JivKNSrJ2w4HXde0x5MfRHjqXUTFz7BqvZBN5Bt+ekl8ppjnCH0uoB9Wyid9OmRycdFPSNc5R\n",
       "a0gcZ+J5gTXizH+QUFatvD42LxjPCYGMP1CJCldbM6to/dnjKZw8+qCdO13wvKHk5IaEBfZsgkZG\n",
       "FKNtarGi7dHcp2q0lBuFYGvxJjV42JgQihDkcP0L0AKd2jEqjWHyQvsyGKAEhUB2cOsTX47TcxGF\n",
       "TxtrdvMrkZj0xwpvBzcgyj9kAJpocD81x9iUPaRK7LUi1JU02AZUrS/NncSsHhRPO5/7u58Wtwi5\n",
       "D9ovum+qI2GSvlz3JYAoS94C4LXdduAnViTqBuakZtyrJwNYb+OiRPTBYY2kW5+AG5lU3OiHU5Aj\n",
       "400okQU8n4tOU9ld+juUwu/712HOLbByAYJz2C4yttSDJWuCqU+ddASBXDoyOL7E/Qzj4dSTwdJf\n",
       "+hd4/sq/gS0skiBf3L4yPHTQYP/cPb+LFe13x0Acz6zMm7W/kmnZ0jH1crnq5B7AY6psqCwDS6w0\n",
       "mLChlnlam5GQwa4wxEKRbGbkUoSm2TaIeilzn0SVIWLukKA/QmOt8FKLw79qKyCkNCotNZGeELU3\n",
       "FzioafQHRAVnbuqpDpOx4Jm8JKRyFgd4/9THBHzKKS++fwpU8R5IKCjvy5rzrphrdkxQJvR0Sfbu\n",
       "x/3gr44oTwNDLRVuNznHGqkKbw5GSXOR5/5T442HvAAd4ycaufyd3x8x7WAcVx71q1S+0xMGVgef\n",
       "KNzix0q7zdkGhz+1HaE5Wh8MFzjc+zsDG1g2xCptw2GOE3R9l7Bct2WXEknKMFD2GudLWfxbkpaF\n",
       "Ev9GiGXajkUB/Aimg5rElXgxc6/+e/WXBisCO5KS3QgFvto3J1GNcbMJlsHSCu8TWUUGCnNq5e0s\n",
       "K8pF6LnabiNdIkynb4AgAbDtB6w4cwTkSBw50DYTtwZP1u4qg+XEeBRFZ1aztqmpsZoLXCw0cTE1\n",
       "fMHmbjJDm8mUAxMEEyCl/IlcREGsB9WrKY6WXVFr4pxlEhhllBeClVCzAf+3Zx1GAz7RMumLDWF/\n",
       "gxVSADJXOjuym0yGmi80dGwwT6hXr/TxZRBqn7BRPydNfuYvpCsPGle3lGRVVcXoiH/8OAS8Icpm\n",
       "JjVFBY8lQsP/9UKAw4GJqQ2olGTEgN43K7riRPOZ5Xg057W3wpH9efA+e7ByJtiR/+PWH6mCRy06\n",
       "GRctyK1dfxZ5aNVkTc3BBc9ZKATeNYran1m1MfDXzkZ3M1+oPZ3NDewoqxE3hDIUrRPKCskvgp0l\n",
       "Hgs+2VN8QV0XvvTfMfCIEBiYhKjJnbPzEN1nnTwpVMKUm5G9KLA1hbVCv0D+eSY4XuhbLoxKdp9d\n",
       "nFD5Ggc8/QUjKhacIhEd8MaekSijGmGMVONAdO96cRnqnbSFaMp4rYhXwrVgGM3swHQKt2IqkdQU\n",
       "+3Mon8Kmd9yd1GrGMz2k5GJhFpo1/fqkWjErvftomKccJtZNFu3qul+bHHiWuqUSgCUkDRUDgOri\n",
       "KEobQQlwO125wJKE4JgITcu9sjOupwp49tNSOzm+s5AWkzLf+SOHgALVDUOOQb2of80YyOjlZma8\n",
       "Log2NH424g1P9AtdWdydUDfUEixbiRxXFhGukYDjLF4F9IgbGCKmmev4wMcdUQekblYEnp2j+vuJ\n",
       "alTIDuo9rb4l6Eae8lKa+0mAacO4nH7opLqkwp9IZB64mLuIHqGc7QGdmzZZShLnKn3LuhTk+jxe\n",
       "bbRk2tPJKdZpUtG3wvawCrAhWp7lDGPdpcSxsX4S7weMW87gL7ZgCHgAnY96EFAAAAE+QZokbEM/\n",
       "/p4QNdixMGx9XICPMACEAWPfmv29geD4mu8etOlVH4DkjxIbZm3c7oZUmt/9LTvgn6AQc0HIZS4G\n",
       "hifQONDSZCOVBfNSerWeiW84NM0Pg1q68wDpcHszCIsRBi5wzxRfvB2TfzFuAL8nyzRBFWfb4bKF\n",
       "JI8VUCueTN/lY1ZwtFD/wc/0rn5Pa7iRTdWhapZd23pZzkjhaOGLlz/cjBhsYvTv0QoHiidgzH07\n",
       "VkB54i5hbNa4BhuXbYXuH8YXb3DnrecP3HUYbyNsqjZtCCobUeHq0rt+K0CcFD/DHaAIkAWti8NX\n",
       "olYAl5/KoD++TvdEsW8FX9iP61tXOD6ar9ziXlb1pD739lfYJySQZCd04ktQ57YFyF02fBwzp1UM\n",
       "mNjcgO03H2HdYhJjXgAmHh6dDVkG4RMPQSUWAAAAVEGeQniEfwQZVhAgrbdSJXyFrDxfcMssZShv\n",
       "g4H9oqt5LG4FPB0qq7rQSHk6duZXIvRhxom5S9dLxnnQAttm5mmLXSpHxiQskRjAr89ZGS/Mu/hH\n",
       "wQAAADoBnmF0R/8EcYqAVIc0fvUBCUD9qXHVkYU9qDiJIz4xV8MAATQ17iH7RTn5Gq/ZD15hNgrv\n",
       "J5h6ej2gAAAAKwGeY2pH/wMNJUgmm5nWDgCMtVTNAj+PDUet0AE6Ne4h+0U8ePNDT5koMqAAAABZ\n",
       "QZpoSahBaJlMCGf//p4QNdixMGhyIpWuqhgrafxRgCyTJ+UZrHSLCuMvyvTjIACIaw1iq8rRoYG8\n",
       "VviTH5uBTxtIyM4LWv+gJiPfQq4fplMZgRdlTWWh4VMAAAAqQZ6GRREsI/8C1hRNo3c/oRbGBtBR\n",
       "maimthL5TQAlhi5mmLXSpYWzLorZAAAAHAGepXRH/wMLgCwpmZ07cQde1KwCXhwkJoyyA48AAAAQ\n",
       "AZ6nakf/BHPjxjjxNLtrSQAAAF9BmqxJqEFsmUwIZ//+nhAOlseAf/Qcq8NDFgED5wWkc9OzaSlQ\n",
       "17jXanNkf/KLLMQISgnYejEJWNs5xDXYuKEChXls5xracl2QgQ//Y2Vnv7DTf4NgrXMzZ1CRVDF9\n",
       "YAAAABZBnspFFSwj/wBxYfI1GMJphW450DSBAAAAEQGe6XRH/wRzGGMcIGas6cmAAAAAEQGe62pH\n",
       "/wC15hLeuaUJIBW8AAAANEGa8EmoQWyZTAhn//6eEAFa/CKAAiA0RPydGv+sbB6cPJnVbfs2UyJf\n",
       "LSMCHLKA5ajnAh8AAAASQZ8ORRUsI/8A3Ux33n1JcMPSAAAADwGfLXRH/wCxCuPTTcjD0wAAAAwB\n",
       "ny9qR/8BYs1hAXEAAAAWQZs0SahBbJlMCGf//p4QAq/qzRAF3AAAAA5Bn1JFFSwj/wDdFOqBMwAA\n",
       "AAwBn3F0R/8BYhcigaEAAAALAZ9zakf/AAADA7sAAAATQZt4SahBbJlMCGf//p4QAAAHTQAAAA1B\n",
       "n5ZFFSwj/wAAAwJeAAAACwGftXRH/wAAAwO6AAAACwGft2pH/wAAAwO7AAAAE0GbvEmoQWyZTAhn\n",
       "//6eEAAAB0wAAAANQZ/aRRUsI/8AAAMCXwAAAAsBn/l0R/8AAAMDugAAAAsBn/tqR/8AAAMDuwAA\n",
       "AEVBm+BJqEFsmUwIZ//+nhAAnslSsMg3n8r4HH+bdTRpADbEHfw5iWTx6OT71pUtXykGhsJng+wL\n",
       "u98i+VHqbF07QpyjgeEAAAAUQZ4eRRUsI/8AM5MHnZXAV/EoxYEAAAALAZ49dEf/AAADA7sAAAAR\n",
       "AZ4/akf/AFHTAQ/QRhy8NmAAAAA7QZokSahBbJlMCGf//p4QAJKIYx1nuCA778aAA4sq07nlywWB\n",
       "OHuqNwgoP9BEoa6Uw2ouSsvusPTgoIAAAAARQZ5CRRUsI/8AL8U1ULh0KaEAAAAPAZ5hdEf/AEuG\n",
       "hFtjgKaAAAAADQGeY2pH/wAkvx4o9YAAAAAiQZpoSahBbJlMCGf//p4QAEdS9oAAnhl9yR1LVrZL\n",
       "nx+hdwAAABBBnoZFFSwj/wAXRVvJQGLBAAAADAGepXRH/wAkrEAhtQAAAA0BnqdqR/8AEl+PFPWA\n",
       "AAAAHUGarEmoQWyZTAhf//6MsAAkPvZkl5yGz/6RJUXAAAAADkGeykUVLCP/AAuirqlxAAAADAGe\n",
       "6XRH/wASViARtQAAAAsBnutqR/8AAAMDugAAAERBmu9JqEFsmUwIZ//+nhAATb38ZhQYkE8MoQDR\n",
       "gTQ4wEEQ//w+u4LUJ+tM4diGFw3bZlghuvYANFjdAlstKPvPwWIekQAAABNBnw1FFSwj/wAZKYPA\n",
       "tGskx41YAAAAEwGfLmpH/wAnyZbWjTnWRDHh1K0AAABMQZszSahBbJlMCGf//p4QAEl7kYx2IZNE\n",
       "Sh2ffucmg22nlgE8D//EDX/bzlRsd4Z0ku2oKcO3fqPmhii5lAPAOIybntfIw14Es6pgwQAAABRB\n",
       "n1FFFSwj/wAX4qxi1cfke+ooeAAAAA4Bn3B0R/8AJaw7qCTegQAAAA8Bn3JqR/8AGR9tI/MBlJAA\n",
       "AAAZQZt3SahBbJlMCF///oywACt4qCClqS6DjwAAAA1Bn5VFFSwj/wAAAwJfAAAACwGftHRH/wAA\n",
       "AwO6AAAACwGftmpH/wAAAwO6AAAAVEGbu0moQWyZTAhf//6MsAAqbEDCgXxR0lgCcyHZrh2apswu\n",
       "tIK0WKUqQ2ioPJ9ZrbXU08ukGoHaJqwh/ZCGcBVlb/uG3GFJqsQsjxO8PKnNKBBJuQAAABFBn9lF\n",
       "FSwj/wANgTWe5+gLaAAAAA8Bn/h0R/8AFZ8vuE2YN80AAAALAZ/6akf/AAADA7oAAABaQZv9SahB\n",
       "bJlMFEwz//6eEAAp/q33+s0BQfpL5XIyijCNbbcUvnfHETfqW/wrEtolXNPOR6rALwoOzOnVTbjG\n",
       "nD9IRZ9cGNdxWsOUczNs2wCvT+mlAvhRlNR9AAAAEAGeHGpH/wATX4IVCKpM1IEAAAA4QZoBSeEK\n",
       "UmUwIZ/+nhAAJL+Uertku3lirz3Kc+6oAb2U9qmnEPIFfZPZdTWDIf6kF/JEvmI0W0EAAAAPQZ4/\n",
       "RTRMI/8AC/FNV9kzAAAADgGeXnRH/wAS1h3UEt6AAAAACwGeQGpH/wAAAwO6AAAAE0GaRUmoQWiZ\n",
       "TAhn//6eEAAAB00AAAANQZ5jRREsI/8AAAMCXgAAAAsBnoJ0R/8AAAMDugAAAAsBnoRqR/8AAAMD\n",
       "uwAAABNBmolJqEFsmUwIZ//+nhAAAAdNAAAADUGep0UVLCP/AAADAl8AAAALAZ7GdEf/AAADA7oA\n",
       "AAALAZ7Iakf/AAADA7oAAABSQZrNSahBbJlMCGf//p4QABNuBAvtI3hcAmHOC0cy4t4H8lozDSWe\n",
       "S9xqe5Jq484Efuwk7JN3R8pjn/yiz3p5507ftfriICjOo35PXMiMKrTQgQAAABBBnutFFSwj/wAG\n",
       "SJrTkNCAAAAADQGfCnRH/wAJ8KTa4TsAAAALAZ8Makf/AAADA7sAAAAdQZsRSahBbJlMCGf//p4Q\n",
       "AAVrSL/A5CYI7yruLbMAAAANQZ8vRRUsI/8AAAMCXwAAAAsBn050R/8AAAMDuwAAAAsBn1BqR/8A\n",
       "AAMDugAAAGZBm1VJqEFsmUwIZ//+nhAAFifXYZiwBHUGkttnIQwVdcwOHenfajkc7JHTRajbnslk\n",
       "4RPg70L43fH655RBvdOMUaeAJzHVdj9XqykuEfbm0EoomxB/2eAsabIUrbvxbjzesTarGQcAAAAf\n",
       "QZ9zRRUsI/8ABxP6T6fcALbZqptNhzVkc5mHbJgKJgAAABABn5J0R/8AC1ip32g1ZraBAAAADgGf\n",
       "lGpH/wAFrzCYGImBAAAALkGbmUmoQWyZTAhn//6eEAALF3xarA2/w6Zg9gPIfXotAEdBr2nnD+CJ\n",
       "jkriVMAAAAAQQZ+3RRUsI/8AA4n9Kci4gAAAAA0Bn9Z0R/8ABaxSbXETAAAACwGf2GpH/wAAAwO6\n",
       "AAAANUGb3UmoQWyZTAhn//6eEAASZhICGAN/h+06ouMFh1xrPDTT1/sFYzwn6IxSlMkp/1oA2H+B\n",
       "AAAAD0Gf+0UVLCP/AAX4pqvtMwAAAA8Bnhp0R/8ACWsO6e1bSoEAAAANAZ4cakf/AAJcfIDqwQAA\n",
       "ADdBmgFJqEFsmUwIZ//+nhAACx/2/w/z0I6AVZJ86edEwVik2t/Qo5uPFsfYC9xEysNAOxgeOM3B\n",
       "AAAAE0GeP0UVLCP/AAOLD5GoxtrOgIsAAAALAZ5edEf/AAADA7oAAAASAZ5Aakf/AAWtI+hGiWkZ\n",
       "0O2gAAAAb0GaRUmoQWyZTAhf//6MsAAK3luiATSVLY6I4ZpySb1feZUqS7MYKLjh0FBTGfr9n5nz\n",
       "pYu0JdPOAgpgs86nLyQJHNF0RjYZUr55spXPJDAj5SV90OGC0t1I9BbdTbRQtDOx26FYLxJ/i+F5\n",
       "spsVIQAAABNBnmNFFSwj/wADOTB6WQB2jF21AAAADgGegnRH/wAFijWPsQDAAAAADwGehGpH/wAF\n",
       "HzCW9c0nlQAAAGxBmohJqEFsmUwIZ//+nhAACbMG8GHCUh9ji8w+elz0G4Xr0s4t/3+etVzMh9ip\n",
       "947//7AvEYT1zvYh1I/KmCTPkGBiJoHQKo9nkC6SS56QpY95I8UULATSPWPGFrPBEcAHNwL/70Uw\n",
       "bNuy4z8AAAAXQZ6mRRUsI/8AAyRK4PylnlZWRq6dG0EAAAAmAZ7Hakf/AATW8vMAIQtPnTUSVOyM\n",
       "hcJX07wZEW/9VjHxe352UuAAAABjQZrMSahBbJlMCGf//p4QAAlpIeABYc4t1inFN9+3G73Gh4I8\n",
       "ZK5gDT84A7eRB37F3TTaaG9WFD4t8o+ga1yTBlSxa6UvqX9TnCn2LdyfmucvG4rGPZdMIKJDe50H\n",
       "cuFNRFu4AAAAGkGe6kUVLCP/AAMQWc5LDI7+aRFjlkj0bTaRAAAAFAGfCXRH/wAE1Y+4b16DnVKR\n",
       "BihIAAAADgGfC2pH/wABJflLcgcVAAAAdEGbEEmoQWyZTAhn//6eEAAFj338zBtEwBVsrLjCnyZh\n",
       "kdkUqwV8Nf58gG7KbM7EiBa4rlwiLUOdin6JbJsD0JUiCXe0q4eF6oUlP/qn1w8HzeGJC1JVHeyp\n",
       "RwPy/5VccgG4+Zrgv4p1TRn4ySqwh74jENLhAAAAHkGfLkUVLCP/AAHE/NH4kADZqx3vDNUdiCHL\n",
       "qnd3SAAAABMBn010R/8AAtfl9wm7V6fqYFOBAAAAEAGfT2pH/wACxZqdEKqK1IEAAAAmQZtUSahB\n",
       "bJlMCGf//p4QAAVqTbtsAEOxXhu1iv3zJK4lv3kq2YAAAAAQQZ9yRRUsI/8AAbopMJRuAQAAAA0B\n",
       "n5F0R/8AAsQt7QKDAAAADAGfk2pH/wABYs1icQAAABZBm5hJqEFsmUwIZ//+nhAAArHqzRXdAAAA\n",
       "DkGftkUVLCP/AADdFOuzAAAADAGf1XRH/wABYhckIQAAAAsBn9dqR/8AAAMDuwAAAEZBm9xJqEFs\n",
       "mUwIZ//+nhAAAsbjh9/YgCrZAcVgWmaGCZ3sltwmZIVb9Sfwcs3gtH5lRboj/+QUMoxMSW3tejMq\n",
       "ODJyNAOAAAAAEkGf+kUVLCP/AADiw+RqMYRWwQAAAAsBnhl0R/8AAAMDugAAAA8BnhtqR/8AAWvM\n",
       "Jb1zSu0AAAAYQZoASahBbJlMCGf//p4QAAFh4MjdSXbRAAAADkGePkUVLCP/AABxQIGnAAAADAGe\n",
       "XXRH/wAAtYuS1wAAAAsBnl9qR/8AAAMDugAAABxBmkRJqEFsmUwIZ//+nhAAAl3zO2oxdDu0rIbg\n",
       "AAAAEkGeYkUVLCP/AADETB52VsRlQQAAAAsBnoF0R/8AAAMDugAAAA8BnoNqR/8AATWOYMEmSXAA\n",
       "AAATQZqISahBbJlMCGf//p4QAAAHTQAAAA1BnqZFFSwj/wAAAwJfAAAACwGexXRH/wAAAwO7AAAA\n",
       "CwGex2pH/wAAAwO6AAAAGEGazEmoQWyZTAhn//6eEAAAkpDTijynKAAAAA1BnupFFSwj/wAAAwJf\n",
       "AAAACwGfCXRH/wAAAwO6AAAACwGfC2pH/wAAAwO6AAAAXkGbEEmoQWyZTAhn//6eEAABPXWMHAZD\n",
       "NInYAtXnf/YYRbmIRSDaMizsZgm9l+1JOmosReM0GjWfUFYmM9PdxZqIf0iRQxCLNpmwzm3afQKk\n",
       "CL9Us1rtf5lvRsCK+sEAAAASQZ8uRRUsI/8AAGcmDzsrYmBAAAAACwGfTXRH/wAAAwO7AAAADwGf\n",
       "T2pH/wAAo6YCH5glUQAAABNBm1RJqEFsmUwIZ//+nhAAAAdMAAAADUGfckUVLCP/AAADAl8AAAAL\n",
       "AZ+RdEf/AAADA7oAAAALAZ+Takf/AAADA7sAAAAfQZuYSahBbJlMCGf//p4QAACSkG7jeRKgUlMg\n",
       "iZjuYQAAAA1Bn7ZFFSwj/wAAAwJeAAAACwGf1XRH/wAAAwO6AAAACwGf12pH/wAAAwO7AAAAIUGb\n",
       "3EmoQWyZTAhn//6eEAVLy2YAaJO80SsbPKgueCADAgAAAA5Bn/pFFSwj/wGwKdUBOwAAAAsBnhl0\n",
       "R/8AAAMDugAAAAsBnhtqR/8AAAMDuwAAADNBmgBJqEFsmUwIZ//+nhAFd8tmACp6rzRKQbjKGcgc\n",
       "65vbkhrAsqZFSshEQyXEgz2n/D0AAAASQZ4+RRUsI/8DlRPkDkQGFQ3BAAAADQGeXXRH/wLDGuEA\n",
       "uIEAAAAQAZ5fakf/BZn/1BgYWMO7gAAAACVBmkRJqEFsmUwIZ//+nhAfvFiyquRqwVNjFpzJC/ws\n",
       "0pFrQC7gAAAAEEGeYkUVLCP/A5NYcL/VAQMAAAAMAZ6BdEf/BZYpRgFxAAAADAGeg2pH/wKxmsIB\n",
       "eQAAABlBmohJqEFsmUwIZ//+nhAFPoGw4OGZAE3BAAAADkGepkUVLCP/AbAp1QE7AAAADAGexXRH\n",
       "/wKwLkUBqwAAAAsBnsdqR/8AAAMDugAAACBBmsxJqEFsmUwIZ//+nhAFbDK4FmyXe961r9gkPQC7\n",
       "gAAAAA1BnupFFSwj/wAAAwJfAAAACwGfCXRH/wAAAwO6AAAACwGfC2pH/wAAAwO6AAAAGEGbEEmo\n",
       "QWyZTAhn//6eEAU+h7Tz7gDegQAAAA1Bny5FFSwj/wAAAwJeAAAACwGfTXRH/wAAAwO7AAAACwGf\n",
       "T2pH/wAAAwO7AAAAE0GbVEmoQWyZTAhn//6eEAAAB0wAAAANQZ9yRRUsI/8AAAMCXwAAAAsBn5F0\n",
       "R/8AAAMDugAAAAsBn5NqR/8AAAMDuwAAAF9Bm5hJqEFsmUwIZ//+nhACoJSsd6osngA0ky0alAH3\n",
       "ppieuD//ECJCJFSFtAXGp/5rGTKUy/4mBpRIe2W3zLTnspNpjtOZxiM4vznlpEPY/XvAExGtRdN6\n",
       "w7zg5wQFBQAAABFBn7ZFFSwj/wDYE8svTsBKwAAAAAwBn9V0R/8BWfRigasAAAAOAZ/Xakf/AVDM\n",
       "JgYAlYEAAAAqQZvcSahBbJlMCGf//p4QAoyjzmKAAsA/L4GBA9pcAaEiJQr1ihlOCApIAAAAEEGf\n",
       "+kUVLCP/ANMTVkA7ATMAAAAPAZ4ZdEf/AVAUliWBgN6AAAAACwGeG2pH/wAAAwO7AAAAP0GaAEmo\n",
       "QWyZTAhn//6eEAMON0GzyrGsAhGcW//P4AwEb7KGRDXTFmhRH/44xaCV7UNC7n2skkSQX9Xz47iF\n",
       "fQAAABFBnj5FFSwj/wD4f0nufoAJuQAAAA8Bnl10R/8BkrumTr2jBs0AAAALAZ5fakf/AAADA7oA\n",
       "AAATQZpESahBbJlMCGf//p4QAAAHTAAAAA1BnmJFFSwj/wAAAwJfAAAACwGegXRH/wAAAwO6AAAA\n",
       "CwGeg2pH/wAAAwO6AAAAGkGaiEmoQWyZTAhn//6eEABNSGggCoAs4KmBAAAADUGepkUVLCP/AAAD\n",
       "Al8AAAALAZ7FdEf/AAADA7sAAAALAZ7Hakf/AAADA7oAAABeQZrMSahBbJlMCGf//p4QAjzBrQd9\n",
       "qJZmYADljasxw1deQhgK9KQjIFiqQv2xQdRBl2p/xNnoXkvky//tsCQVzykUDbeuJ5hBlhtqCG0M\n",
       "AHsIoipXg3YV38kSwpvpgAAAABZBnupFFSwj/wDzRM7c5bxPoF3CIKSBAAAACwGfCXRH/wAAAwO6\n",
       "AAAAEwGfC2pH/wGIlL1CoBzpKGCKIekAAAAWQZsQSahBbJlMCGf//p4QAvfqzRAFTQAAAA5Bny5F\n",
       "FSwj/wDzAQCBTQAAAAwBn010R/8Bh8KigXkAAAALAZ9Pakf/AAADA7sAAAATQZtUSahBbJlMCGf/\n",
       "/p4QAAAHTAAAAA1Bn3JFFSwj/wAAAwJfAAAACwGfkXRH/wAAAwO6AAAACwGfk2pH/wAAAwO7AAAA\n",
       "YEGbmEmoQWyZTAhn//6eEAE29+6xtvhWLAEPTT/xiHjVykyXJMKEnHRbQ/mVUajMH5k/FczOgHeF\n",
       "ol+Ct3sAnFDJEjwoGkL8YcEDHQ9sdhCfWaidBfDt1tibgy9ZS4BnwQAAABRBn7ZFFSwj/wBjfcZw\n",
       "XjRq7EYP8AAAAA8Bn9V0R/8An3l9wmzBiHgAAAAPAZ/Xakf/AJ9nqcSoFmIfAAAAIkGb3EmoQWyZ\n",
       "TAhn//6eEACn4dcAvewx5OnUaSi4CdHSNWAAAAAPQZ/6RRUsI/8AZLeACDLhAAAADAGeGXRH/wCf\n",
       "C5FBywAAAAwBnhtqR/8An2awgZcAAABBQZoASahBbJlMCGf//p4QALC624OgFOoAjZJYrqbeDB5Q\n",
       "w6eNI8Fn/co6jJV+MlSpjrPElMgeLXZswZ2EM/+qQwcAAAAWQZ4+RRUsI/8AZLeFwiQ4XPk7XHfB\n",
       "SQAAABEBnl10R/8AnwvJeC3xsOQpIQAAABABnl9qR/8An2bblO//bCkgAAAASkGaREmoQWyZTAhn\n",
       "//6eEACbfmkjuG3XABHC//4wDVM4eF68jCyZu3LMnsHWuzpBWhKcV+Q5wJPfh+DrT5z4zo5KL6Zm\n",
       "YFZgRnkvAAAAFUGeYkUVLCP/AGS3f2RPdhIzswZJwQAAAAwBnoF0R/8AnwuRQcsAAAAQAZ6Dakf/\n",
       "AJ9mpyUD1poyHgAAAHVBmohJqEFsmUwIZ//+nhAAl3xWffRYAoYpkCh/eJfLxCtyR7vK/hu13g+Z\n",
       "/+RHPtylFhxcFgemo7CoHr14MXcuKJ9xo42uf/8KYNg0hx6qCj5rEZX5LFY93GmfFpCteiEQU1WS\n",
       "C2Clr7RuuaOYLenERZVsf4EAAAAVQZ6mRRUsI/8AZLeECWHj6jhpKpQRAAAAEQGexXRH/wCfC7ZH\n",
       "5gvUOJDxAAAADAGex2pH/wCfZrCBlwAAACRBmsxJqEFsmUwIZ//+nhAAVj1bq9nY7qWzjYkGd2u+\n",
       "UBruc2YAAAARQZ7qRRUsI/8AZLeCWLlUPuEAAAAMAZ8JdEf/AJ8LkUHLAAAADAGfC2pH/wCfZrCB\n",
       "lwAAAHhBmxBJqEFsmUwIZ//+nhAAVr3Cd7d359PeTx8QAWClwsk+9lgWlAbrFMPQRSsiOr/5Ao0P\n",
       "FyjDZjOEzD5CfLOOO2kf9Nu1GDRn+BQzuL8krbL4EFs9FZprX85uqs6Rc+6hnVNcA5CLNvSU+c0Z\n",
       "Ar/SlyTaHOHEGbMAAAAWQZ8uRRUsI/8AZLeCWRzkjNaC7dv9JwAAAA8Bn010R/8Anwumbt6x2Y0A\n",
       "AAARAZ9Pakf/AJ9mwg70EbnNE+cAAACBQZtUSahBbJlMCGf//p4QAE/+GpNtNJ24DR9AFJhMx/Zt\n",
       "P/tYdIlQdPL7ZhfbXqVaeGmglvu4HRlZ/BNlr5rtau8TNfYuHZzat3Fb60ueJa3vmJWPfS6GQfOA\n",
       "K97nKGlXdKcXzf/wO+1TY4F8/GNtDnm/SOhvpOBrR5h8nwOneaGVAAAAFkGfckUVLCP/AGS3giiw\n",
       "wYi70b7PU7EAAAAgAZ+RdEf/AJ8LpMOq25qlsHy8ACGs/HyLIRy0VUV6HrAAAAAQAZ+Takf/AJ9m\n",
       "wCMwYZqHgQAAAG9Bm5hJqEFsmUwIZ//+nhAARzZt+XMXDlgCOkKv/cTJi4pkiA/gpNWli6ge7khw\n",
       "57Ms0h4/VVAz6NyhoUGm37KUaHiuc5vG7O7DQgU7Bp1Hty/lNyPiY4dgatV63MXcRgyPfTBnBzwU\n",
       "T2aIoRpAoIEAAAASQZ+2RRUsI/8AZLeB8NxexUXAAAAADwGf1XRH/wCfC6LEJrHZ1QAAAAwBn9dq\n",
       "R/8An2awgZcAAAASQZvZSahBbJlMCP/8hAAAAwGzAAALiGWIggAP//73aJ8Cm1pDeoDklcUl20+B\n",
       "/6tncHyP6QMAAAMAAK6sc+imSBhd68YAAm5lLbhjDZsAAZs+EiXlDb3/oSFUbvJCD6hbN5oV25Pe\n",
       "6YYgh8u03A6txPD17nbhvvEwek0xnOLLbNtA430ElE2KgoHzW3BMk3B5BgbgTejrPPW45t+OSKIy\n",
       "//g0qZq+N7HKSn5zFrUnqfqB+oZEKbL33Hs/T5/3WNMGIXq1G03vHbQenJ8kpK/QTRtzLNWgBJ2h\n",
       "mPljxlyz3W7rLIcem8Objl89/yUaJczaEM49qyBAKqtfLuj96P3O5TedGaSDiJujCz5Digl4TEIO\n",
       "QTcN3e1CQF6dTaW0BjyE6QTA4jeBHPNtJQbWFSRnGFjKQt2dezR/mg7IH4ZH6LTefdAmjjN4H3ic\n",
       "/vqKnes+pGSgnLttRlAcYphSrZ4G1xHZ9vrqaW4JIc20eFRKZk5uf8ESHkfIsBbatM9+m9VM+nD6\n",
       "HI58XpLm83doXIkx++gdFF+ZzJ/evNCL/+G5ArzSqOn8Gy/Cu6FIrt4vVHjfezEwCLPG6KSXoFQC\n",
       "WGO6fJUfNN2uFy8pwIaO9wD4pJcsFQcJaqg82DHUp5l64Il7x546UvoO16C2w9pLUol2lQIsHZaa\n",
       "NzBWH+jfivfx9M2ZeqplE+arOXmkLFBx7HNi0DRHPG+nEwsV0UEJ/CFWGu/UnN/rQTCTWp+1ZFI8\n",
       "VkxCSf9meJfhy4c3HwXbnqzGuoe2mlU6WPJtkYoj3S+2/FfYP6QP9+9l4coeASYHRpk+HpFWutls\n",
       "vScpobmtzjVX0qSDeY/+w/ZuOiak5ok1CGMGZ0KrIdMlPNMHLFCk6xalJKeaTQ142gWVDsc4sRph\n",
       "a1ZDi6iTHzwec4e37yuu5YQZKvHHawTZ8h64tbJSC8HWnBhNFV7DfX3zCE4dgtqTk0WwPf/ylU+w\n",
       "ECOHCVz01LGUj2euYr/8VI/8OKRed1U3A76E+aWoq8V78ByJy+BvJJpahOEOngIUZVcaz4Od/9SA\n",
       "odCr8sdO7GikjGwzYZRbQ7cnRdFAoJzVn62YgejDJiVw7FLeyo0qK28Lu4sMySsMlWlSEyxuhfQ0\n",
       "N2XUQj0k3n1W6BDP6nKy/64fqlVXTBrGaUrXRoXQiKTmGdzaw0L8GTB/lK7IO1aZdAn98P8mKV57\n",
       "PvRrV04wBFOoBazrGWzo4RL9hR5VwbaFRrLvhAB0s5iwCYbg22aEQDOh+xUemrCEBA9Xt45FPRjd\n",
       "fGPrg0/Qm/sqfXhkR+oB5y2jn54tUVyiwf1oOKoy+Pl/MNXccqQxeeAh724+YxVLARANMDKvDVw1\n",
       "gGyGC7IMZ9oNXjgUOtgJnnKxWLkG9kJykumb/aJEe5lbBSQp2hCCZPyLrmBF7iaDVjBtiWBrmkPG\n",
       "ZhoWtvBkjq7caj6dfp143JaJaB61x92o3h2GmZ1Fa78VbOi9cIrWgFG7AEBqad+udp5tl1hqFES5\n",
       "tm9pz7aImg5hXhRVgxWIfLol9DFZwhV/StCApnQJ6qo3biEOFrvuDXWEHUztgsa1NpFRbd5Xi4mw\n",
       "rVRiUHOjDmfUv051jBLujuqeMvxzauqMfS+r3h8eVKB+I5vHoJ7ZVQOw1FGOOhx3FmzPWWRZdOcS\n",
       "IBIMQNyheIwKOC893+H0p5hSVqm5fNsIlnGTxbLSLDUOZyD/cbuunz3SGbx045IKrfWdY1mZukyY\n",
       "nC5AALtDSQSkBanNwWAvnpSmTo1nE/b1umCahKFPt5fkKnKffbsf20H7Imwv9Xjnmcy4vlpdIxqN\n",
       "MzkTZG/1hHPJS2hpIeHlOoRycx176uO2yNbS/rM9quyIscW0xGOIPrg9wTIuYdIlLEPBvbL5GSD7\n",
       "GCU//POoyEOoQu+k4fnc+/KyJrS9Z8FF+TfHFKeuF8QuivljsKRfKOFDCAx1olcyuZI8C8DV9DrD\n",
       "TzLt3AcyO9idylr/M2EM2dpoZz+znwGbOStcav+7WbIaoLiXwog8BOrWG653lRagvC6mfchpBLUW\n",
       "AQ5DC3bsyH9xJniebxpbBWISCHUBg5nR4CSQCJIZ0mD9zkbmheBpUEgnxk9Q80ZG1baOLVSqzTa1\n",
       "pPCRyHzAdEfINCnLCFvv3zGDNRm7M/gqnf1yDIG/JdnFYa1FmTs1Jpzr2Pr6kZ4ML076IxDbxsoG\n",
       "cGsidaZ2Xcj49IPfMcxBvjbacU/31Do+Hp537OzDZOZECVk4y40A7NUvTs7sbmLvy6/xCKnWCIxx\n",
       "lZ5vpgMKIgr9Wqtj2wKblt7A90YQq1aWeLt0X/frDVMQ2vVQ3WhDPe6Su1s1BlJU4GxwkKwpAcJK\n",
       "gKcwoGYBLTUYLmYH5UmVRfeYoZwx2W7YxWuu1J7ug+T40xKJn6nz8qqjdZgtnXmFxAJufu0pxVkb\n",
       "qQVcO1qEyUbhPSbdbArHxDvcRSVfqZhIzwqyD1SoookZuXZu+RQ74A7RczhVmOErR7ZWGVIk5SCu\n",
       "F7xtfy5wI0uOevOBumH4rpIh63CkzLXL/4h9Tr/fwFNikedhrm0G8GqxUpT3GkaeCmF+bBZ7Uc15\n",
       "RvS+ewJnGYjHBIoXUksXrFw9JLi484n31rZTA4Xe4yVrIl20iqwpuFs/xXggyn5MO2MWoyU0VrCV\n",
       "SHUHE7t3wIwCiWioUDjOR7uim14yrl22JZeVhsigaPIC3Q4SuDkBKvBin8a+g7/E5+IYDFHgymd8\n",
       "/nlk0YUyJ7upr2L35E49fnbTwNfhB/WhRwW3XaZ2PzViyPWHEsR4sinG2lqIrWPVpjKfgZ7gxK3T\n",
       "PScSBWbmHsIoDJqJ4wHvSZczkD1f02NQ/rONRA+WKWyJ1fkqLXMlXY2HI93/wgViJJNNE8pLK/Bx\n",
       "jDXY72Ul2qsvulmWiUOykMKsJpUb0B7OEp3aFaFibUy2myoRmF2sHvlEA/FOnXBbuBq8+mFEr9dD\n",
       "2w73hTf8mviaaf37jpMoqfSiA0aRfKx7wnu1+YbsPR47/88F3Ey9jj4jl7RE/QGxcCQBuL2Ycckl\n",
       "WDLdeqVbgdjJ60cjD4JEOKqhLuoq1SMGBm2XClB7Htsml7FUN7MHc403fEIy6bHN4IMFNq8UxHTZ\n",
       "lFW8EWPo/+xldr7S5fRd/Pk/twCU8ocRRT/Tzsj3FuiD9Kh8qKOCFGxzcV6PTTb28mRm4qRQKdeG\n",
       "D+Xmg4XTXuBecAXoVJYGgwwbRNNSo0uoXOa3J+8xX+dXDP3mNHFu5Cf/+pIoOtQJmCjc1pg7eCqC\n",
       "h8QEDL7CK7FIyPcLXuf2ceaLhytapiSRc8PNjLym5494cCCNPwJqg9ldGIx9qdZkxmEUI1rET11y\n",
       "ZIebovPhKGCvw5lDETpQLsClJR8v/v86sU6H24ODsuw8amCU3pGHnV9f6j/s9UG0aN5ZRtJeeDaf\n",
       "nF9SeeZfvtyBKG43z5HanPUc420WZuZwsMbbHnYnHFilLIJT3VYD3oDdMBsFtPl9Uo+0EHrGEzMx\n",
       "xsvcHYFvGcLsmXEoy4V5WpkjSKDV/UInWhjOys5v7Opb0hkN6mXCi4JMVMV763REyFJ7OzZAqH0w\n",
       "RULBkShLtd79paaPuCwp24ch4Vi0z0oQTFJT148wVRLzLKosWHIGURZ8YNxHctFmzor5X6yNpzq2\n",
       "f+JfL5OVtCjg8g1Yq9B6/wkxb89JBCJhG0moqBs6RtXnfsrwTKoJzB51ASPdXGoksL812RHG/YUS\n",
       "2vjkDGaLSzfDfbktCUsEIKJbtawMeZo2jPUbWcgLSZg5urTeMCzpocMTOItZf6qCEFUAL9SXvnM2\n",
       "HrsQBGfRI0RUtOXbNPlL554Q+g/Kati0xA9UxygBWshz+uRpdhzEHwZ1LYvb9RiLFymoZCFk2Wgo\n",
       "vzjQeMrBPFAwrsWkcZS9RALYNJptfvegInbXLjca0O9F9ZcL4wHf409qusx2vMJ0yNzmAOH4ssXi\n",
       "d6sKOMPHtGXjiu1TOyAEuAC0j5oP8QAAAS1BmiRsQz/+nhA12LEwbH1cgI8wAIQBY9+a/b2B4Pia\n",
       "7x606VUfgOSPE4MYia37Ef614gPWq8Ayhjzl85fAJ+d/f6fKLbzcjEtHnaHCGNR816cH70mq+ORf\n",
       "iw3m25lQd7je8gA6mxEBgSOG13KHSZjDQlF88SSa9eEPgx/3dLIRtiQ7mne9eIk/rz4Jihh+KXGT\n",
       "EzLfwNZ7XphRxz119GnhWcYzsD7y2yea1eKXo7PQEF54mho81qISTMNrQtHtUBrrLLYf+dhDvkBK\n",
       "uyEJ0Uj1H+X7zG2vGtu/W9bieR1JBgfLTucLRQ//PerbDaoRXWRzo9yF4n8ZmOhIdzIR5xUalAqf\n",
       "H1xSjsUFFBb9wY/nKGGB7Sg0J3TqSQMfrHDRG1ktfjp+Y3E1qzzbOPO3AAAAREGeQniEfwQZVhAg\n",
       "rbdSJXyFrDxfcMssZShvg4H9oqt5LG4FPB0qq7rR7DUBJkrmY4QlNpbew14KewonDXlyDDSx/LKB\n",
       "AAAAJwGeYXRH/wRxioBUhzR+9QEJQP2qWqX8fnVM0wyM3BuIGLYmub9LjwAAABwBnmNqR/8DDSVI\n",
       "JpuZ1g4AjLVU1LAH6DfD1gtpAAAAskGaaEmoQWiZTAhn//6eEDXYsTBociKVrqoYK2n8UYAskyfl\n",
       "Gax0iwrjL8r04yAAiGsNYqvJ/cHrAc/zT2t7L++A19sRJvJN6Ete6cmSNpgUHnsxKwKf9/gy4WLN\n",
       "wixjTEMsuuIeAqW0hXxMj4REc0fMx3mdDenSQB+UljlRLqGhj9gX/JQf334cmBYkgppsIDqahhO3\n",
       "qYDgccxK6xzIJ6yliI4t1BmHX/pcMNq6+2CQZ/kAAAAkQZ6GRREsI/8C1hRNo3c/oRbGBs+1OvYW\n",
       "bkczWJp2T0X3C+WAAAAAHgGepXRH/wMLgCwpmZ07cQdecq14KuiTM1wLeP8EnAAAABUBnqdqR/8E\n",
       "c+PKBwgG6tSUI1ooPSEAAAAkQZqsSahBbJlMCGf//p4QDpbHgJUex2YA6T21GZ04b1Wu/rbLAAAA\n",
       "E0GeykUVLCP/AANgU+jdVDbhCYAAAAASAZ7pdEf/BHMYYzbxLjz6m/jnAAAADAGe62pH/wAAxEnx\n",
       "zQAAABlBmvBJqEFsmUwIZ//+nhABT/VmkGpaVLahAAAAD0GfDkUVLCP/AAB5tyAfIAAAAAwBny10\n",
       "R/8AAMPhUrkAAAAMAZ8vakf/AADESfHNAAAAIEGbNEmoQWyZTAhn//6eEAAKf6tuWhRliO1kWtOM\n",
       "Fd6QAAAAD0GfUkUVLCP/AAB5tyAfIAAAAAwBn3F0R/8AAMPhUrkAAAAMAZ9zakf/AADESfHNAAAA\n",
       "FkGbeEmoQWyZTAhn//6eEAAKf6s0RgUAAAAPQZ+WRRUsI/8AAHm3IB8hAAAADAGftXRH/wAAw+FS\n",
       "uQAAAAwBn7dqR/8AAMRJ8c0AAACtQZu8SahBbJlMCGf//p4QABY9ySfCPk2CAEe9eC0krkBQkfXT\n",
       "z1vwRaNkEm7JTTg5QPs69jnNCucU88mj5WPvkxHJSL3edy7kaEYyKolbHjRGEUwH0RZhAen8cu4Q\n",
       "5qZZZdfb9In9LIA/jGyNWMzt/+dhVrhH0JUjDXkj5mnboBETp7L4S1CPCv3EMC2G6nLcCGkChIKf\n",
       "tafxO++QmyykW9EfE2k1c9Dlex+3zFgAAAAUQZ/aRRUsI/8ABxYfI1GMMVKvZGEAAAAMAZ/5dEf/\n",
       "AADD4VK5AAAAEQGf+2pH/wALXmEt65qVIBW8AAAAKkGb4EmoQWyZTAhn//6eEAAKxrHUgClcD737\n",
       "W8vZyKiQ7TrHNCSkuAWLuAAAABFBnh5FFSwj/wADdFPnfVCioQAAAA4Bnj10R/8ABYhc3ruNFQAA\n",
       "AAwBnj9qR/8AAMRJ8c0AAABSQZokSahBbJlMCGf//p4QABJSULgBxjGqTkx6+v/G9H5p/lIhTA6R\n",
       "9XoEPSpCnoSED2qZQ7w5QPHO+3z5umLxLyJZonWBzanHuVNGNJ/MDrXvSAAAABRBnkJFFSwj/wAF\n",
       "+mSdgjaQbGRSQQAAAAwBnmF0R/8AAMPhUrkAAAATAZ5jakf/AAlvyMjO6GAFWJM0gQAAABtBmmhJ\n",
       "qEFsmUwIX//+jLAACX5udb2ccVqvP8EAAAATQZ6GRRUsI/8AAxBZ28qOIewpIAAAAA4BnqV0R/8A\n",
       "BNWIWLuNFQAAAAwBnqdqR/8AAMRJ8c0AAAATQZqsSahBbJlMCF///oywAAAHVAAAABFBnspFFSwj\n",
       "/wAC6hQLcJQoqAAAAAwBnul0R/8AAMPhUrkAAAAMAZ7rakf/AADESfHNAAAAXkGa7kmoQWyZTBRM\n",
       "M//+nhAACkfDabQeEu7AwAcR7qotZYkiFyB+/bliYfjEEyX8FBDftaKfz5bE8uloA3lBv90CNHdt\n",
       "BOLtCLE5YJsXVjqabJNq5qLDKb/JvVvcNNEAAAATAZ8Nakf/AAVDMJ7D4JUcYpen/AAAAI1BmxJJ\n",
       "4QpSZTAhn/6eEAAKR8NL0LgCOoNO5PUDK9yMRgVZhFN4RwAzay4Vn7pB/bsGAXNpBQh9E6cgaUzs\n",
       "qbwisLYy+3pWzAw9KYcE2Rv5LI5i+Q6RAA2VJO+wVN4+Be2BZK61ydmZ3yl9ODdg5jhE9G5OBs6S\n",
       "P9/8XgjFh8g1XztDSg6uWG+ewr9c28sAAAAnQZ8wRTRMI/8AA0xNXqPIGIBerf4Ur4OeYwKR3uDx\n",
       "TShSpzwV3qPhAAAANgGfT3RH/wAFQFTfPFnQATV2oFYvprJW1BVeBmsDhExpK2qwZeiPcRwYJzSe\n",
       "nfSQoNQf15gHDgAAABABn1FqR/8ABPswmKwKj/SAAAAAIEGbVkmoQWiZTAhn//6eEAAJqkBwpVgA\n",
       "ruaJAtP3z5LxAAAAEkGfdEURLCP/AAMkTXZ00o0NgAAAAA0Bn5N0R/8ABPhSbXE7AAAACwGflWpH\n",
       "/wAAAwO7AAAAPUGbmkmoQWyZTAhn//6eEAAFj+GvcKGh4ApjyVk1uKzDYMYpTt9t28R47fk0NdUO\n",
       "VwjHuMFbjshnoVR2XlgAAAAUQZ+4RRUsI/8AAuoUORQDYfmiVJEAAAAPAZ/XdEf/AALX5fcJsw10\n",
       "AAAADAGf2WpH/wACxZrDcQAAAGJBm95JqEFsmUwIZ//+nhAABWPVwrllYuAAqTyVf4MyzQIbIsTC\n",
       "C3+noRtpICuYYlQgAuqtuWjqgOQFSp8+BR36S9ZukPYdw3cKakaCGgoiMXOHMnba8PpDX7KgIntZ\n",
       "Bys8CQAAABdBn/xFFSwj/wADJTQSgJ2Kl59Yt4PQQAAAAAwBnht0R/8AAsQuRqEAAAARAZ4dakf/\n",
       "AAT7NpeYuxRVWoEAAAAjQZoCSahBbJlMCGf//p4QAAmqQNnikeXxWUAckfqKR2oDnpgAAAARQZ4g\n",
       "RRUsI/8AAyRZVUA8k4EAAAAMAZ5fdEf/AAT4XIvLAAAACwGeQWpH/wAAAwO7AAAAGUGaRkmoQWyZ\n",
       "TAhn//6eEAACWkNCKsii1IEAAAAPQZ5kRRUsI/8AAuoUAHahAAAACwGeg3RH/wAAAwO7AAAACwGe\n",
       "hWpH/wAAAwO6AAAAG0GaikmoQWyZTAhn//6eEAABLR+jmLJS6QaOpAAAAA9BnqhFFSwj/wAC6hQA\n",
       "dqEAAAALAZ7HdEf/AAADA7oAAAALAZ7Jakf/AAADA7oAAABBQZrOSahBbJlMCGf//p4QAAJ/+Q+X\n",
       "p8B/RvSwBE3//iAtV9RDmuP0+iTZScf+cGSyrBPoaLuAt2zNPqaRvUdoskEAAAAUQZ7sRRUsI/8A\n",
       "AuoUEsWGEAEoMUsAAAATAZ8LdEf/AAFHFA3GS91HQiFzcwAAAAsBnw1qR/8AAAMDugAAABNBmxJJ\n",
       "qEFsmUwIZ//+nhAAAAdMAAAAD0GfMEUVLCP/AALqFAB2oQAAAAsBn090R/8AAAMDugAAAAsBn1Fq\n",
       "R/8AAAMDugAAABNBm1ZJqEFsmUwIZ//+nhAAAAdNAAAAD0GfdEUVLCP/AALqFAB2oAAAAAsBn5N0\n",
       "R/8AAAMDuwAAAAsBn5VqR/8AAAMDuwAAABNBm5pJqEFsmUwIZ//+nhAAAAdMAAAAD0GfuEUVLCP/\n",
       "AALqFAB2oQAAAAsBn9d0R/8AAAMDugAAAAsBn9lqR/8AAAMDuwAAABNBm95JqEFsmUwIZ//+nhAA\n",
       "AAdNAAAAD0Gf/EUVLCP/AALqFAB2oAAAAAsBnht0R/8AAAMDugAAAAsBnh1qR/8AAAMDuwAAAB1B\n",
       "mgJJqEFsmUwIZ//+nhAAAE2/yTAVIPymIhHUPgAAAA9BniBFFSwj/wAC6hQAdqEAAAALAZ5fdEf/\n",
       "AAADA7oAAAALAZ5Bakf/AAADA7sAAABrQZpGSahBbJlMCGf//p4QAACtaS5r+LKp4A29asw8ovWP\n",
       "FXuK1Q/EkvXzkNmtX2raZfGi6a/+G+RyZN6/ljaQ9Zwqcc+cYNE/+TYumc0MQ5OnuJ/hAQJqg8Sh\n",
       "TKMYzpmsMwWAu+8K3X5QTzEAAAASQZ5kRRUsI/8AAuoUBUS2sAjBAAAADQGeg3RH/wAAWIW9oTMA\n",
       "AAALAZ6Fakf/AAADA7oAAACUQZqKSahBbJlMCGf//p4QAACf77guY8iIAKlrVmOYG/5iAaQPM9pf\n",
       "SJI50w+CCpBY/HDwhcL5/ayJUPVqXvYOZwuIJSQKwEdb0on8UAdUAmqsiU7SmaacGkC0itcPf42X\n",
       "ZXtAr3sLOld7vX/1ZOywyLqGOeE3L1dZA02VZ0F6QDJbLhgOT10Uay3a1W3VkyCxm841zgAAABpB\n",
       "nqhFFSwj/wAC6hQE4UGgncAHr22SG1smHQAAABABnsd0R/8AAFHjK9v1DY+AAAAACwGeyWpH/wAA\n",
       "AwO6AAAAJEGazkmoQWyZTAhn//6eEAAAnub3gAjVqs7v6sZ07g+CAXQpwQAAABFBnuxFFSwj/wAC\n",
       "6hQEwXLuwQAAAAwBnwt0R/8AAE+FymsAAAALAZ8Nakf/AAADA7oAAAATQZsSSahBbJlMCGf//p4Q\n",
       "AAAHTAAAAA9BnzBFFSwj/wAC6hQAdqEAAAALAZ9PdEf/AAADA7oAAAALAZ9Rakf/AAADA7oAAAAT\n",
       "QZtWSahBbJlMCGf//p4QAAAHTQAAAA9Bn3RFFSwj/wAC6hQAdqAAAAALAZ+TdEf/AAADA7sAAAAL\n",
       "AZ+Vakf/AAADA7sAAAATQZuaSahBbJlMCGf//p4QAAAHTAAAAA9Bn7hFFSwj/wAC6hQAdqEAAAAL\n",
       "AZ/XdEf/AAADA7oAAAALAZ/Zakf/AAADA7sAAAAcQZveSahBbJlMCGf//p4QBLe4QgD61XmisxAD\n",
       "UwAAABFBn/xFFSwj/wGIKdaq6/f44AAAAAsBnht0R/8AAAMDugAAAAsBnh1qR/8AAAMDuwAAABNB\n",
       "mgJJqEFsmUwIZ//+nhAAAAdMAAAAD0GeIEUVLCP/AALqFAB2oQAAAAsBnl90R/8AAAMDugAAAAsB\n",
       "nkFqR/8AAAMDuwAAAJBBmkZJqEFsmUwIZ//+nhAE0ENwEEWzEtVwBHvXgtHMuLeB5ZXRpkGEbT/p\n",
       "ccSqAbygP/Agrit0CH0Htev+WN0OV2cd/99AasBfO1DHHeJCsRB43qE+zRO+04ELZjkzRjJK7nwU\n",
       "OmJPlXLk3Cx8i9iY/mMZWYSlO7fyGHKLPNE9tFcPSPom87sqYLpQxwwAz4EAAAAXQZ5kRRUsI/8A\n",
       "yRLBoaH7/QKYuSOL3cEAAAANAZ6DdEf/AT7y/AwBOwAAAA8BnoVqR/8BNY5ikltuQTMAAAAaQZqK\n",
       "SahBbJlMCGf//p4QBPBDjzEoqkBKBSQAAAARQZ6oRRUsI/8AZIp24Ov3+OEAAAAMAZ7HdEf/AJ8L\n",
       "kUHLAAAACwGeyWpH/wAAAwO6AAAAGEGazkmoQWyZTAhn//6eEAUVfcWz7gDjgQAAAA9BnuxFFSwj\n",
       "/wAC6hQAdqEAAAALAZ8LdEf/AAADA7sAAAALAZ8Nakf/AAADA7oAAAAYQZsSSahBbJlMCGf//p4Q\n",
       "BT/XGpCCAPmAAAAAD0GfMEUVLCP/AALqFAB2oQAAAAsBn090R/8AAAMDugAAAAsBn1FqR/8AAAMD\n",
       "ugAAACZBm1ZJqEFsmUwIZ//+nhAFa9cakHXeoot+6ADad1mjkwyQkgxBvQAAABRBn3RFFSwj/wB8\n",
       "YfI1GMJfcXe6oAAAAAsBn5N0R/8AAAMDuwAAAA8Bn5VqR/8AyUlS3rmkwUkAAAAYQZuaSahBbJlM\n",
       "CGf//p4QBZfXGpBCAO6AAAAAD0GfuEUVLCP/AALqFAB2oQAAAAsBn9d0R/8AAAMDugAAAAsBn9lq\n",
       "R/8AAAMDuwAAABdBm95JqEFsmUwIZ//+nhAFxzOOFAgBHwAAAA9Bn/xFFSwj/wAC6hQAdqAAAAAL\n",
       "AZ4bdEf/AAADA7oAAAALAZ4dakf/AAADA7sAAAAXQZoCSahBbJlMCGf//p4QBfyHHmGUAVsAAAAP\n",
       "QZ4gRRUsI/8AAuoUAHahAAAACwGeX3RH/wAAAwO6AAAACwGeQWpH/wAAAwO7AAAAF0GaRkmoQWyZ\n",
       "TAhn//6eEAY2px5hlAFTAAAAD0GeZEUVLCP/AALqFAB2oQAAAAsBnoN0R/8AAAMDuwAAAAsBnoVq\n",
       "R/8AAAMDugAAABNBmopJqEFsmUwIZ//+nhAAAAdMAAAAD0GeqEUVLCP/AALqFAB2oQAAAAsBnsd0\n",
       "R/8AAAMDugAAAAsBnslqR/8AAAMDugAAAINBms5JqEFsmUwIZ//+nhAAm3HnzMG0TAFWNO/7Mjxq\n",
       "5v66kmH4F3DXgan8I5h1/FMLCnRFMbGD28Z5Ohf8BDfjd6hbg+xPoHDKi+goLdloaDzbAMUp429r\n",
       "FX2R7UTTb8RVdv2uu+NW2/zKuj7wxMTbett6o16LS2riR6IAISZ8R1sLyQAAABRBnuxFFSwj/wAy\n",
       "UwedlbF2mzCxYQAAAAsBnwt0R/8AAAMDuwAAAA8Bnw1qR/8AT7MJb1zSYZ8AAAATQZsSSahBbJlM\n",
       "CGf//p4QAAAHTAAAAA9BnzBFFSwj/wAC6hQAdqEAAAALAZ9PdEf/AAADA7oAAAALAZ9Rakf/AAAD\n",
       "A7oAAAATQZtWSahBbJlMCGf//p4QAAAHTQAAAA9Bn3RFFSwj/wAC6hQAdqAAAAALAZ+TdEf/AAAD\n",
       "A7sAAAALAZ+Vakf/AAADA7sAAABkQZuaSahBbJlMCF///oywAFL3h1+9DsADfyHlMQstbmt8SNp5\n",
       "G6lq/2UwI9anUNUL5XRtDNI/B1olGMtkWZP4GydHKuk4pWoBtWOJx5lZfBsdNhvoqam3F8z56T79\n",
       "4Ce2mEqRQQAAABRBn7hFFSwj/wAaaYPOytjxGzCxYQAAAAsBn9d0R/8AAAMDugAAAA8Bn9lqR/8A\n",
       "KhmEt65pMYsAAAA7QZveSahBbJlMCF///oywAFC/FLxhhAJKnCkQQA4FZ6n6eHpXD3+2YCzUFl9U\n",
       "l0Hu7xG7I8fKG4yI6oEAAAATQZ/8RRUsI/8AGcJrPc/ehmYWLAAAAA8Bnht0R/8AKOKTVLZaNBwA\n",
       "AAALAZ4dakf/AAADA7sAAAAZQZoCSahBbJlMCF///oywAEh97MevSgwpoAAAABJBniBFFSwj/wAX\n",
       "RVqxMurjYsEAAAAOAZ5fdEf/ACSsO6gk44AAAAALAZ5Bakf/AAADA7sAAAATQZpGSahBbJlMCFf/\n",
       "/jhAAAAccQAAAA9BnmRFFSwj/wAC6hQAdqEAAAALAZ6DdEf/AAADA7sAAAALAZ6Fakf/AAADA7oA\n",
       "AAAUQZqKSahBbJlMCEf//eEAAAMAb0AAAAAPQZ6oRRUsI/8AAuoUAHahAAAACwGex3RH/wAAAwO6\n",
       "AAAACwGeyWpH/wAAAwO6AAAAKEGay0moQWyZTAj//IQACKhJE2nfMjyWxUtOjI3mABBp17jg3N/c\n",
       "m/EAAEcubW9vdgAAAGxtdmhkAAAAAAAAAAAAAAAAAAAD6AAAcZgAAQAAAQAAAAAAAAAAAAAAAAEA\n",
       "AAAAAAAAAAAAAAAAAAABAAAAAAAAAAAAAAAAAABAAAAAAAAAAAAAAAAAAAAAAAAAAAAAAAAAAAAA\n",
       "AAAAAgAARlh0cmFrAAAAXHRraGQAAAADAAAAAAAAAAAAAAABAAAAAAAAcZgAAAAAAAAAAAAAAAAA\n",
       "AAAAAAEAAAAAAAAAAAAAAAAAAAABAAAAAAAAAAAAAAAAAABAAAAAAbAAAAEgAAAAAAAkZWR0cwAA\n",
       "ABxlbHN0AAAAAAAAAAEAAHGYAAACAAABAAAAAEXQbWRpYQAAACBtZGhkAAAAAAAAAAAAAAAAAAAy\n",
       "AAAFrgBVxAAAAAAALWhkbHIAAAAAAAAAAHZpZGUAAAAAAAAAAAAAAABWaWRlb0hhbmRsZXIAAABF\n",
       "e21pbmYAAAAUdm1oZAAAAAEAAAAAAAAAAAAAACRkaW5mAAAAHGRyZWYAAAAAAAAAAQAAAAx1cmwg\n",
       "AAAAAQAARTtzdGJsAAAAt3N0c2QAAAAAAAAAAQAAAKdhdmMxAAAAAAAAAAEAAAAAAAAAAAAAAAAA\n",
       "AAAAAbABIABIAAAASAAAAAAAAAABAAAAAAAAAAAAAAAAAAAAAAAAAAAAAAAAAAAAAAAAAAAAGP//\n",
       "AAAANWF2Y0MBZAAe/+EAGGdkAB6s2UGwloQAAAMABAAAAwGQPFi2WAEABmjr48siwP34+AAAAAAc\n",
       "dXVpZGtoQPJfJE/FujmlG88DI/MAAAAAAAAAGHN0dHMAAAAAAAAAAQAABa4AAAEAAAAAKHN0c3MA\n",
       "AAAAAAAABgAAAAEAAAD7AAAB9QAAAu8AAAPpAAAE4wAALUBjdHRzAAAAAAAABaYAAAABAAACAAAA\n",
       "AAEAAAQAAAAAAgAAAQAAAAABAAAFAAAAAAEAAAIAAAAAAQAAAAAAAAABAAABAAAAAAEAAAUAAAAA\n",
       "AQAAAgAAAAABAAAAAAAAAAEAAAEAAAAAAQAABQAAAAABAAACAAAAAAEAAAAAAAAAAQAAAQAAAAAB\n",
       "AAAFAAAAAAEAAAIAAAAAAQAAAAAAAAABAAABAAAAAAEAAAUAAAAAAQAAAgAAAAABAAAAAAAAAAEA\n",
       "AAEAAAAAAQAABQAAAAABAAACAAAAAAEAAAAAAAAAAQAAAQAAAAABAAAFAAAAAAEAAAIAAAAAAQAA\n",
       "AAAAAAABAAABAAAAAAEAAAUAAAAAAQAAAgAAAAABAAAAAAAAAAEAAAEAAAAAAQAABQAAAAABAAAC\n",
       "AAAAAAEAAAAAAAAAAQAAAQAAAAABAAAFAAAAAAEAAAIAAAAAAQAAAAAAAAABAAABAAAAAAEAAAUA\n",
       "AAAAAQAAAgAAAAABAAAAAAAAAAEAAAEAAAAAAQAABQAAAAABAAACAAAAAAEAAAAAAAAAAQAAAQAA\n",
       "AAABAAAFAAAAAAEAAAIAAAAAAQAAAAAAAAABAAABAAAAAAEAAAUAAAAAAQAAAgAAAAABAAAAAAAA\n",
       "AAEAAAEAAAAAAQAABQAAAAABAAACAAAAAAEAAAAAAAAAAQAAAQAAAAABAAAFAAAAAAEAAAIAAAAA\n",
       "AQAAAAAAAAABAAABAAAAAAEAAAUAAAAAAQAAAgAAAAABAAAAAAAAAAEAAAEAAAAAAQAABQAAAAAB\n",
       "AAACAAAAAAEAAAAAAAAAAQAAAQAAAAABAAAFAAAAAAEAAAIAAAAAAQAAAAAAAAABAAABAAAAAAEA\n",
       "AAMAAAAAAQAAAQAAAAABAAAFAAAAAAEAAAIAAAAAAQAAAAAAAAABAAABAAAAAAEAAAUAAAAAAQAA\n",
       "AgAAAAABAAAAAAAAAAEAAAEAAAAAAQAABQAAAAABAAACAAAAAAEAAAAAAAAAAQAAAQAAAAABAAAF\n",
       "AAAAAAEAAAIAAAAAAQAAAAAAAAABAAABAAAAAAEAAAUAAAAAAQAAAgAAAAABAAAAAAAAAAEAAAEA\n",
       "AAAAAQAABQAAAAABAAACAAAAAAEAAAAAAAAAAQAAAQAAAAABAAAFAAAAAAEAAAIAAAAAAQAAAAAA\n",
       "AAABAAABAAAAAAEAAAUAAAAAAQAAAgAAAAABAAAAAAAAAAEAAAEAAAAAAQAABQAAAAABAAACAAAA\n",
       "AAEAAAAAAAAAAQAAAQAAAAABAAAFAAAAAAEAAAIAAAAAAQAAAAAAAAABAAABAAAAAAEAAAUAAAAA\n",
       "AQAAAgAAAAABAAAAAAAAAAEAAAEAAAAAAQAABQAAAAABAAACAAAAAAEAAAAAAAAAAQAAAQAAAAAB\n",
       "AAAFAAAAAAEAAAIAAAAAAQAAAAAAAAABAAABAAAAAAEAAAUAAAAAAQAAAgAAAAABAAAAAAAAAAEA\n",
       "AAEAAAAAAQAABQAAAAABAAACAAAAAAEAAAAAAAAAAQAAAQAAAAABAAAFAAAAAAEAAAIAAAAAAQAA\n",
       "AAAAAAABAAABAAAAAAEAAAUAAAAAAQAAAgAAAAABAAAAAAAAAAEAAAEAAAAAAQAABQAAAAABAAAC\n",
       "AAAAAAEAAAAAAAAAAQAAAQAAAAABAAAFAAAAAAEAAAIAAAAAAQAAAAAAAAABAAABAAAAAAEAAAUA\n",
       "AAAAAQAAAgAAAAABAAAAAAAAAAEAAAEAAAAAAQAABQAAAAABAAACAAAAAAEAAAAAAAAAAQAAAQAA\n",
       "AAABAAAFAAAAAAEAAAIAAAAAAQAAAAAAAAABAAABAAAAAAEAAAUAAAAAAQAAAgAAAAABAAAAAAAA\n",
       "AAEAAAEAAAAAAQAABQAAAAABAAACAAAAAAEAAAAAAAAAAQAAAQAAAAABAAAFAAAAAAEAAAIAAAAA\n",
       "AQAAAAAAAAABAAABAAAAAAEAAAUAAAAAAQAAAgAAAAABAAAAAAAAAAEAAAEAAAAAAQAABQAAAAAB\n",
       "AAACAAAAAAEAAAAAAAAAAQAAAQAAAAABAAAFAAAAAAEAAAIAAAAAAQAAAAAAAAABAAABAAAAAAEA\n",
       "AAUAAAAAAQAAAgAAAAABAAAAAAAAAAEAAAEAAAAAAQAABQAAAAABAAACAAAAAAEAAAAAAAAAAQAA\n",
       "AQAAAAABAAAFAAAAAAEAAAIAAAAAAQAAAAAAAAABAAABAAAAAAEAAAUAAAAAAQAAAgAAAAABAAAA\n",
       "AAAAAAEAAAEAAAAAAQAABQAAAAABAAACAAAAAAEAAAAAAAAAAQAAAQAAAAABAAAFAAAAAAEAAAIA\n",
       "AAAAAQAAAAAAAAABAAABAAAAAAEAAAUAAAAAAQAAAgAAAAABAAAAAAAAAAEAAAEAAAAAAQAABQAA\n",
       "AAABAAACAAAAAAEAAAAAAAAAAQAAAQAAAAABAAAFAAAAAAEAAAIAAAAAAQAAAAAAAAABAAABAAAA\n",
       "AAEAAAUAAAAAAQAAAgAAAAABAAAAAAAAAAEAAAEAAAAAAQAABQAAAAABAAACAAAAAAEAAAAAAAAA\n",
       "AQAAAQAAAAABAAAFAAAAAAEAAAIAAAAAAQAAAAAAAAABAAABAAAAAAEAAAUAAAAAAQAAAgAAAAAB\n",
       "AAAAAAAAAAEAAAEAAAAAAQAABQAAAAABAAACAAAAAAEAAAAAAAAAAQAAAQAAAAABAAACAAAAAAEA\n",
       "AAUAAAAAAQAAAgAAAAABAAAAAAAAAAEAAAEAAAAAAQAABQAAAAABAAACAAAAAAEAAAAAAAAAAQAA\n",
       "AQAAAAABAAAFAAAAAAEAAAIAAAAAAQAAAAAAAAABAAABAAAAAAEAAAUAAAAAAQAAAgAAAAABAAAA\n",
       "AAAAAAEAAAEAAAAAAQAABQAAAAABAAACAAAAAAEAAAAAAAAAAQAAAQAAAAABAAAFAAAAAAEAAAIA\n",
       "AAAAAQAAAAAAAAABAAABAAAAAAEAAAUAAAAAAQAAAgAAAAABAAAAAAAAAAEAAAEAAAAAAQAABQAA\n",
       "AAABAAACAAAAAAEAAAAAAAAAAQAAAQAAAAABAAAFAAAAAAEAAAIAAAAAAQAAAAAAAAABAAABAAAA\n",
       "AAEAAAUAAAAAAQAAAgAAAAABAAAAAAAAAAEAAAEAAAAAAQAABQAAAAABAAACAAAAAAEAAAAAAAAA\n",
       "AQAAAQAAAAABAAAFAAAAAAEAAAIAAAAAAQAAAAAAAAABAAABAAAAAAEAAAUAAAAAAQAAAgAAAAAB\n",
       "AAAAAAAAAAEAAAEAAAAAAQAABQAAAAABAAACAAAAAAEAAAAAAAAAAQAAAQAAAAABAAAFAAAAAAEA\n",
       "AAIAAAAAAQAAAAAAAAABAAABAAAAAAEAAAUAAAAAAQAAAgAAAAABAAAAAAAAAAEAAAEAAAAAAQAA\n",
       "BQAAAAABAAACAAAAAAEAAAAAAAAAAQAAAQAAAAABAAAFAAAAAAEAAAIAAAAAAQAAAAAAAAABAAAB\n",
       "AAAAAAEAAAUAAAAAAQAAAgAAAAABAAAAAAAAAAEAAAEAAAAAAQAABQAAAAABAAACAAAAAAEAAAAA\n",
       "AAAAAQAAAQAAAAABAAAFAAAAAAEAAAIAAAAAAQAAAAAAAAABAAABAAAAAAEAAAUAAAAAAQAAAgAA\n",
       "AAABAAAAAAAAAAEAAAEAAAAAAQAABQAAAAABAAACAAAAAAEAAAAAAAAAAQAAAQAAAAABAAAFAAAA\n",
       "AAEAAAIAAAAAAQAAAAAAAAABAAABAAAAAAEAAAUAAAAAAQAAAgAAAAABAAAAAAAAAAEAAAEAAAAA\n",
       "AQAABQAAAAABAAACAAAAAAEAAAAAAAAAAQAAAQAAAAABAAAFAAAAAAEAAAIAAAAAAQAAAAAAAAAB\n",
       "AAABAAAAAAEAAAUAAAAAAQAAAgAAAAABAAAAAAAAAAEAAAEAAAAAAQAABQAAAAABAAACAAAAAAEA\n",
       "AAAAAAAAAQAAAQAAAAABAAAFAAAAAAEAAAIAAAAAAQAAAAAAAAABAAABAAAAAAEAAAUAAAAAAQAA\n",
       "AgAAAAABAAAAAAAAAAEAAAEAAAAAAQAABQAAAAABAAACAAAAAAEAAAAAAAAAAQAAAQAAAAABAAAF\n",
       "AAAAAAEAAAIAAAAAAQAAAAAAAAABAAABAAAAAAEAAAUAAAAAAQAAAgAAAAABAAAAAAAAAAEAAAEA\n",
       "AAAAAQAABQAAAAABAAACAAAAAAEAAAAAAAAAAQAAAQAAAAABAAAFAAAAAAEAAAIAAAAAAQAAAAAA\n",
       "AAABAAABAAAAAAEAAAUAAAAAAQAAAgAAAAABAAAAAAAAAAEAAAEAAAAAAQAABQAAAAABAAACAAAA\n",
       "AAEAAAAAAAAAAQAAAQAAAAABAAAFAAAAAAEAAAIAAAAAAQAAAAAAAAABAAABAAAAAAEAAAUAAAAA\n",
       "AQAAAgAAAAABAAAAAAAAAAEAAAEAAAAAAQAABQAAAAABAAACAAAAAAEAAAAAAAAAAQAAAQAAAAAB\n",
       "AAAFAAAAAAEAAAIAAAAAAQAAAAAAAAABAAABAAAAAAEAAAUAAAAAAQAAAgAAAAABAAAAAAAAAAEA\n",
       "AAEAAAAAAQAABQAAAAABAAACAAAAAAEAAAAAAAAAAQAAAQAAAAABAAAFAAAAAAEAAAIAAAAAAQAA\n",
       "AAAAAAABAAABAAAAAAEAAAUAAAAAAQAAAgAAAAABAAAAAAAAAAEAAAEAAAAAAQAABQAAAAABAAAC\n",
       "AAAAAAEAAAAAAAAAAQAAAQAAAAABAAAFAAAAAAEAAAIAAAAAAQAAAAAAAAABAAABAAAAAAEAAAUA\n",
       "AAAAAQAAAgAAAAABAAAAAAAAAAEAAAEAAAAAAQAABQAAAAABAAACAAAAAAEAAAAAAAAAAQAAAQAA\n",
       "AAABAAAFAAAAAAEAAAIAAAAAAQAAAAAAAAABAAABAAAAAAEAAAUAAAAAAQAAAgAAAAABAAAAAAAA\n",
       "AAEAAAEAAAAAAQAABQAAAAABAAACAAAAAAEAAAAAAAAAAQAAAQAAAAABAAAFAAAAAAEAAAIAAAAA\n",
       "AQAAAAAAAAABAAABAAAAAAEAAAUAAAAAAQAAAgAAAAABAAAAAAAAAAEAAAEAAAAAAQAABQAAAAAB\n",
       "AAACAAAAAAEAAAAAAAAAAQAAAQAAAAABAAAFAAAAAAEAAAIAAAAAAQAAAAAAAAABAAABAAAAAAEA\n",
       "AAUAAAAAAQAAAgAAAAABAAAAAAAAAAEAAAEAAAAAAQAABQAAAAABAAACAAAAAAEAAAAAAAAAAQAA\n",
       "AQAAAAABAAAFAAAAAAEAAAIAAAAAAQAAAAAAAAABAAABAAAAAAEAAAUAAAAAAQAAAgAAAAABAAAA\n",
       "AAAAAAEAAAEAAAAAAQAABQAAAAABAAACAAAAAAEAAAAAAAAAAQAAAQAAAAACAAACAAAAAAEAAAUA\n",
       "AAAAAQAAAgAAAAABAAAAAAAAAAEAAAEAAAAAAQAABQAAAAABAAACAAAAAAEAAAAAAAAAAQAAAQAA\n",
       "AAABAAAFAAAAAAEAAAIAAAAAAQAAAAAAAAABAAABAAAAAAEAAAUAAAAAAQAAAgAAAAABAAAAAAAA\n",
       "AAEAAAEAAAAAAQAABQAAAAABAAACAAAAAAEAAAAAAAAAAQAAAQAAAAABAAAFAAAAAAEAAAIAAAAA\n",
       "AQAAAAAAAAABAAABAAAAAAEAAAUAAAAAAQAAAgAAAAABAAAAAAAAAAEAAAEAAAAAAQAABQAAAAAB\n",
       "AAACAAAAAAEAAAAAAAAAAQAAAQAAAAABAAAFAAAAAAEAAAIAAAAAAQAAAAAAAAABAAABAAAAAAEA\n",
       "AAUAAAAAAQAAAgAAAAABAAAAAAAAAAEAAAEAAAAAAQAABQAAAAABAAACAAAAAAEAAAAAAAAAAQAA\n",
       "AQAAAAABAAAFAAAAAAEAAAIAAAAAAQAAAAAAAAABAAABAAAAAAEAAAUAAAAAAQAAAgAAAAABAAAA\n",
       "AAAAAAEAAAEAAAAAAQAABQAAAAABAAACAAAAAAEAAAAAAAAAAQAAAQAAAAABAAAFAAAAAAEAAAIA\n",
       "AAAAAQAAAAAAAAABAAABAAAAAAEAAAUAAAAAAQAAAgAAAAABAAAAAAAAAAEAAAEAAAAAAQAABQAA\n",
       "AAABAAACAAAAAAEAAAAAAAAAAQAAAQAAAAABAAAFAAAAAAEAAAIAAAAAAQAAAAAAAAABAAABAAAA\n",
       "AAEAAAUAAAAAAQAAAgAAAAABAAAAAAAAAAEAAAEAAAAAAQAABAAAAAACAAABAAAAAAEAAAUAAAAA\n",
       "AQAAAgAAAAABAAAAAAAAAAEAAAEAAAAAAQAABQAAAAABAAACAAAAAAEAAAAAAAAAAQAAAQAAAAAB\n",
       "AAAFAAAAAAEAAAIAAAAAAQAAAAAAAAABAAABAAAAAAEAAAUAAAAAAQAAAgAAAAABAAAAAAAAAAEA\n",
       "AAEAAAAAAQAABQAAAAABAAACAAAAAAEAAAAAAAAAAQAAAQAAAAABAAAFAAAAAAEAAAIAAAAAAQAA\n",
       "AAAAAAABAAABAAAAAAEAAAUAAAAAAQAAAgAAAAABAAAAAAAAAAEAAAEAAAAAAQAABQAAAAABAAAC\n",
       "AAAAAAEAAAAAAAAAAQAAAQAAAAABAAAFAAAAAAEAAAIAAAAAAQAAAAAAAAABAAABAAAAAAEAAAUA\n",
       "AAAAAQAAAgAAAAABAAAAAAAAAAEAAAEAAAAAAQAABQAAAAABAAACAAAAAAEAAAAAAAAAAQAAAQAA\n",
       "AAABAAAFAAAAAAEAAAIAAAAAAQAAAAAAAAABAAABAAAAAAEAAAUAAAAAAQAAAgAAAAABAAAAAAAA\n",
       "AAEAAAEAAAAAAQAABQAAAAABAAACAAAAAAEAAAAAAAAAAQAAAQAAAAABAAAFAAAAAAEAAAIAAAAA\n",
       "AQAAAAAAAAABAAABAAAAAAEAAAUAAAAAAQAAAgAAAAABAAAAAAAAAAEAAAEAAAAAAQAABQAAAAAB\n",
       "AAACAAAAAAEAAAAAAAAAAQAAAQAAAAABAAAFAAAAAAEAAAIAAAAAAQAAAAAAAAABAAABAAAAAAEA\n",
       "AAUAAAAAAQAAAgAAAAABAAAAAAAAAAEAAAEAAAAAAQAABQAAAAABAAACAAAAAAEAAAAAAAAAAQAA\n",
       "AQAAAAABAAAFAAAAAAEAAAIAAAAAAQAAAAAAAAABAAABAAAAAAEAAAUAAAAAAQAAAgAAAAABAAAA\n",
       "AAAAAAEAAAEAAAAAAQAABQAAAAABAAACAAAAAAEAAAAAAAAAAQAAAQAAAAABAAAFAAAAAAEAAAIA\n",
       "AAAAAQAAAAAAAAABAAABAAAAAAEAAAUAAAAAAQAAAgAAAAABAAAAAAAAAAEAAAEAAAAAAQAABQAA\n",
       "AAABAAACAAAAAAEAAAAAAAAAAQAAAQAAAAABAAAFAAAAAAEAAAIAAAAAAQAAAAAAAAABAAABAAAA\n",
       "AAEAAAUAAAAAAQAAAgAAAAABAAAAAAAAAAEAAAEAAAAAAQAABQAAAAABAAACAAAAAAEAAAAAAAAA\n",
       "AQAAAQAAAAABAAAFAAAAAAEAAAIAAAAAAQAAAAAAAAABAAABAAAAAAEAAAUAAAAAAQAAAgAAAAAB\n",
       "AAAAAAAAAAEAAAEAAAAAAQAABQAAAAABAAACAAAAAAEAAAAAAAAAAQAAAQAAAAABAAAFAAAAAAEA\n",
       "AAIAAAAAAQAAAAAAAAABAAABAAAAAAEAAAUAAAAAAQAAAgAAAAABAAAAAAAAAAEAAAEAAAAAAQAA\n",
       "BQAAAAABAAACAAAAAAEAAAAAAAAAAQAAAQAAAAABAAAFAAAAAAEAAAIAAAAAAQAAAAAAAAABAAAB\n",
       "AAAAAAEAAAUAAAAAAQAAAgAAAAABAAAAAAAAAAEAAAEAAAAAAQAABQAAAAABAAACAAAAAAEAAAAA\n",
       "AAAAAQAAAQAAAAABAAAEAAAAAAIAAAEAAAAAAQAABQAAAAABAAACAAAAAAEAAAAAAAAAAQAAAQAA\n",
       "AAABAAAFAAAAAAEAAAIAAAAAAQAAAAAAAAABAAABAAAAAAEAAAUAAAAAAQAAAgAAAAABAAAAAAAA\n",
       "AAEAAAEAAAAAAQAABAAAAAACAAABAAAAAAEAAAIAAAAAAQAABQAAAAABAAACAAAAAAEAAAAAAAAA\n",
       "AQAAAQAAAAABAAAFAAAAAAEAAAIAAAAAAQAAAAAAAAABAAABAAAAAAEAAAUAAAAAAQAAAgAAAAAB\n",
       "AAAAAAAAAAEAAAEAAAAAAQAABQAAAAABAAACAAAAAAEAAAAAAAAAAQAAAQAAAAABAAAFAAAAAAEA\n",
       "AAIAAAAAAQAAAAAAAAABAAABAAAAAAEAAAUAAAAAAQAAAgAAAAABAAAAAAAAAAEAAAEAAAAAAQAA\n",
       "BQAAAAABAAACAAAAAAEAAAAAAAAAAQAAAQAAAAABAAAFAAAAAAEAAAIAAAAAAQAAAAAAAAABAAAB\n",
       "AAAAAAEAAAUAAAAAAQAAAgAAAAABAAAAAAAAAAEAAAEAAAAAAQAABQAAAAABAAACAAAAAAEAAAAA\n",
       "AAAAAQAAAQAAAAABAAAFAAAAAAEAAAIAAAAAAQAAAAAAAAABAAABAAAAAAEAAAUAAAAAAQAAAgAA\n",
       "AAABAAAAAAAAAAEAAAEAAAAAAQAABQAAAAABAAACAAAAAAEAAAAAAAAAAQAAAQAAAAABAAAFAAAA\n",
       "AAEAAAIAAAAAAQAAAAAAAAABAAABAAAAAAEAAAUAAAAAAQAAAgAAAAABAAAAAAAAAAEAAAEAAAAA\n",
       "AQAABQAAAAABAAACAAAAAAEAAAAAAAAAAQAAAQAAAAABAAAFAAAAAAEAAAIAAAAAAQAAAAAAAAAB\n",
       "AAABAAAAAAEAAAUAAAAAAQAAAgAAAAABAAAAAAAAAAEAAAEAAAAAAQAABQAAAAABAAACAAAAAAEA\n",
       "AAAAAAAAAQAAAQAAAAABAAAFAAAAAAEAAAIAAAAAAQAAAAAAAAABAAABAAAAAAEAAAUAAAAAAQAA\n",
       "AgAAAAABAAAAAAAAAAEAAAEAAAAAAQAABQAAAAABAAACAAAAAAEAAAAAAAAAAQAAAQAAAAABAAAF\n",
       "AAAAAAEAAAIAAAAAAQAAAAAAAAABAAABAAAAAAEAAAUAAAAAAQAAAgAAAAABAAAAAAAAAAEAAAEA\n",
       "AAAAAQAABQAAAAABAAACAAAAAAEAAAAAAAAAAQAAAQAAAAABAAAFAAAAAAEAAAIAAAAAAQAAAAAA\n",
       "AAABAAABAAAAAAEAAAUAAAAAAQAAAgAAAAABAAAAAAAAAAEAAAEAAAAAAQAABQAAAAABAAACAAAA\n",
       "AAEAAAAAAAAAAQAAAQAAAAABAAADAAAAAAEAAAEAAAAAAQAABQAAAAABAAACAAAAAAEAAAAAAAAA\n",
       "AQAAAQAAAAABAAAFAAAAAAEAAAIAAAAAAQAAAAAAAAABAAABAAAAAAEAAAUAAAAAAQAAAgAAAAAB\n",
       "AAAAAAAAAAEAAAEAAAAAAQAABQAAAAABAAACAAAAAAEAAAAAAAAAAQAAAQAAAAABAAAFAAAAAAEA\n",
       "AAIAAAAAAQAAAAAAAAABAAABAAAAAAEAAAUAAAAAAQAAAgAAAAABAAAAAAAAAAEAAAEAAAAAAQAA\n",
       "BQAAAAABAAACAAAAAAEAAAAAAAAAAQAAAQAAAAABAAAFAAAAAAEAAAIAAAAAAQAAAAAAAAABAAAB\n",
       "AAAAAAEAAAUAAAAAAQAAAgAAAAABAAAAAAAAAAEAAAEAAAAAAQAABQAAAAABAAACAAAAAAEAAAAA\n",
       "AAAAAQAAAQAAAAABAAAFAAAAAAEAAAIAAAAAAQAAAAAAAAABAAABAAAAAAEAAAUAAAAAAQAAAgAA\n",
       "AAABAAAAAAAAAAEAAAEAAAAAAQAABQAAAAABAAACAAAAAAEAAAAAAAAAAQAAAQAAAAABAAAFAAAA\n",
       "AAEAAAIAAAAAAQAAAAAAAAABAAABAAAAAAEAAAUAAAAAAQAAAgAAAAABAAAAAAAAAAEAAAEAAAAA\n",
       "AQAABQAAAAABAAACAAAAAAEAAAAAAAAAAQAAAQAAAAABAAAFAAAAAAEAAAIAAAAAAQAAAAAAAAAB\n",
       "AAABAAAAAAEAAAUAAAAAAQAAAgAAAAABAAAAAAAAAAEAAAEAAAAAAQAABQAAAAABAAACAAAAAAEA\n",
       "AAAAAAAAAQAAAQAAAAABAAAFAAAAAAEAAAIAAAAAAQAAAAAAAAABAAABAAAAAAEAAAUAAAAAAQAA\n",
       "AgAAAAABAAAAAAAAAAEAAAEAAAAAAQAAAgAAAAABAAAFAAAAAAEAAAIAAAAAAQAAAAAAAAABAAAB\n",
       "AAAAAAEAAAUAAAAAAQAAAgAAAAABAAAAAAAAAAEAAAEAAAAAAQAABQAAAAABAAACAAAAAAEAAAAA\n",
       "AAAAAQAAAQAAAAABAAAFAAAAAAEAAAIAAAAAAQAAAAAAAAABAAABAAAAAAEAAAUAAAAAAQAAAgAA\n",
       "AAABAAAAAAAAAAEAAAEAAAAAAQAABQAAAAABAAACAAAAAAEAAAAAAAAAAQAAAQAAAAABAAAFAAAA\n",
       "AAEAAAIAAAAAAQAAAAAAAAABAAABAAAAAAEAAAUAAAAAAQAAAgAAAAABAAAAAAAAAAEAAAEAAAAA\n",
       "AQAABQAAAAABAAACAAAAAAEAAAAAAAAAAQAAAQAAAAABAAAFAAAAAAEAAAIAAAAAAQAAAAAAAAAB\n",
       "AAABAAAAAAEAAAUAAAAAAQAAAgAAAAABAAAAAAAAAAEAAAEAAAAAAQAABQAAAAABAAACAAAAAAEA\n",
       "AAAAAAAAAQAAAQAAAAABAAADAAAAAAEAAAEAAAAAAQAAAgAAAAABAAAFAAAAAAEAAAIAAAAAAQAA\n",
       "AAAAAAABAAABAAAAAAEAAAUAAAAAAQAAAgAAAAABAAAAAAAAAAEAAAEAAAAAAQAABQAAAAABAAAC\n",
       "AAAAAAEAAAAAAAAAAQAAAQAAAAABAAAFAAAAAAEAAAIAAAAAAQAAAAAAAAABAAABAAAAAAEAAAUA\n",
       "AAAAAQAAAgAAAAABAAAAAAAAAAEAAAEAAAAAAQAABQAAAAABAAACAAAAAAEAAAAAAAAAAQAAAQAA\n",
       "AAABAAAFAAAAAAEAAAIAAAAAAQAAAAAAAAABAAABAAAAAAEAAAUAAAAAAQAAAgAAAAABAAAAAAAA\n",
       "AAEAAAEAAAAAAQAABQAAAAABAAACAAAAAAEAAAAAAAAAAQAAAQAAAAABAAAFAAAAAAEAAAIAAAAA\n",
       "AQAAAAAAAAABAAABAAAAAAEAAAUAAAAAAQAAAgAAAAABAAAAAAAAAAEAAAEAAAAAAQAABAAAAAAC\n",
       "AAABAAAAAAEAAAUAAAAAAQAAAgAAAAABAAAAAAAAAAEAAAEAAAAAAQAABQAAAAABAAACAAAAAAEA\n",
       "AAAAAAAAAQAAAQAAAAABAAAFAAAAAAEAAAIAAAAAAQAAAAAAAAABAAABAAAAAAEAAAMAAAAAAQAA\n",
       "AQAAAAABAAAFAAAAAAEAAAIAAAAAAQAAAAAAAAABAAABAAAAAAEAAAUAAAAAAQAAAgAAAAABAAAA\n",
       "AAAAAAEAAAEAAAAAAQAABQAAAAABAAACAAAAAAEAAAAAAAAAAQAAAQAAAAABAAAFAAAAAAEAAAIA\n",
       "AAAAAQAAAAAAAAABAAABAAAAAAEAAAUAAAAAAQAAAgAAAAABAAAAAAAAAAEAAAEAAAAAAQAABQAA\n",
       "AAABAAACAAAAAAEAAAAAAAAAAQAAAQAAAAABAAAFAAAAAAEAAAIAAAAAAQAAAAAAAAABAAABAAAA\n",
       "AAEAAAUAAAAAAQAAAgAAAAABAAAAAAAAAAEAAAEAAAAAAQAABQAAAAABAAACAAAAAAEAAAAAAAAA\n",
       "AQAAAQAAAAABAAAFAAAAAAEAAAIAAAAAAQAAAAAAAAABAAABAAAAAAEAAAQAAAAAAgAAAQAAAAAB\n",
       "AAAFAAAAAAEAAAIAAAAAAQAAAAAAAAABAAABAAAAAAEAAAUAAAAAAQAAAgAAAAABAAAAAAAAAAEA\n",
       "AAEAAAAAAQAABQAAAAABAAACAAAAAAEAAAAAAAAAAQAAAQAAAAABAAAFAAAAAAEAAAIAAAAAAQAA\n",
       "AAAAAAABAAABAAAAAAEAAAUAAAAAAQAAAgAAAAABAAAAAAAAAAEAAAEAAAAAAQAABQAAAAABAAAC\n",
       "AAAAAAEAAAAAAAAAAQAAAQAAAAABAAAFAAAAAAEAAAIAAAAAAQAAAAAAAAABAAABAAAAAAEAAAUA\n",
       "AAAAAQAAAgAAAAABAAAAAAAAAAEAAAEAAAAAAQAABQAAAAABAAACAAAAAAEAAAAAAAAAAQAAAQAA\n",
       "AAABAAAFAAAAAAEAAAIAAAAAAQAAAAAAAAABAAABAAAAAAEAAAUAAAAAAQAAAgAAAAABAAAAAAAA\n",
       "AAEAAAEAAAAAAQAABQAAAAABAAACAAAAAAEAAAAAAAAAAQAAAQAAAAABAAAFAAAAAAEAAAIAAAAA\n",
       "AQAAAAAAAAABAAABAAAAAAEAAAUAAAAAAQAAAgAAAAABAAAAAAAAAAEAAAEAAAAAAQAABQAAAAAB\n",
       "AAACAAAAAAEAAAAAAAAAAQAAAQAAAAABAAAFAAAAAAEAAAIAAAAAAQAAAAAAAAABAAABAAAAAAEA\n",
       "AAUAAAAAAQAAAgAAAAABAAAAAAAAAAEAAAEAAAAAAQAABQAAAAABAAACAAAAAAEAAAAAAAAAAQAA\n",
       "AQAAAAABAAAFAAAAAAEAAAIAAAAAAQAAAAAAAAABAAABAAAAAAEAAAUAAAAAAQAAAgAAAAABAAAA\n",
       "AAAAAAEAAAEAAAAAAQAABQAAAAABAAACAAAAAAEAAAAAAAAAAQAAAQAAAAABAAAFAAAAAAEAAAIA\n",
       "AAAAAQAAAAAAAAABAAABAAAAAAEAAAUAAAAAAQAAAgAAAAABAAAAAAAAAAEAAAEAAAAAAQAABQAA\n",
       "AAABAAACAAAAAAEAAAAAAAAAAQAAAQAAAAABAAAFAAAAAAEAAAIAAAAAAQAAAAAAAAABAAABAAAA\n",
       "AAEAAAUAAAAAAQAAAgAAAAABAAAAAAAAAAEAAAEAAAAAAQAABQAAAAABAAACAAAAAAEAAAAAAAAA\n",
       "AQAAAQAAAAABAAAFAAAAAAEAAAIAAAAAAQAAAAAAAAABAAABAAAAAAEAAAUAAAAAAQAAAgAAAAAB\n",
       "AAAAAAAAAAEAAAEAAAAAAQAABQAAAAABAAACAAAAAAEAAAAAAAAAAQAAAQAAAAABAAAFAAAAAAEA\n",
       "AAIAAAAAAQAAAAAAAAABAAABAAAAAAEAAAUAAAAAAQAAAgAAAAABAAAAAAAAAAEAAAEAAAAAAQAA\n",
       "BQAAAAABAAACAAAAAAEAAAAAAAAAAQAAAQAAAAABAAAFAAAAAAEAAAIAAAAAAQAAAAAAAAABAAAB\n",
       "AAAAAAEAAAUAAAAAAQAAAgAAAAABAAAAAAAAAAEAAAEAAAAAAQAABQAAAAABAAACAAAAAAEAAAAA\n",
       "AAAAAQAAAQAAAAACAAACAAAAAAEAAAUAAAAAAQAAAgAAAAABAAAAAAAAAAEAAAEAAAAAAQAABQAA\n",
       "AAABAAACAAAAAAEAAAAAAAAAAQAAAQAAAAABAAAFAAAAAAEAAAIAAAAAAQAAAAAAAAABAAABAAAA\n",
       "AAEAAAUAAAAAAQAAAgAAAAABAAAAAAAAAAEAAAEAAAAAAQAABQAAAAABAAACAAAAAAEAAAAAAAAA\n",
       "AQAAAQAAAAABAAAFAAAAAAEAAAIAAAAAAQAAAAAAAAABAAABAAAAAAEAAAUAAAAAAQAAAgAAAAAB\n",
       "AAAAAAAAAAEAAAEAAAAAAQAABQAAAAABAAACAAAAAAEAAAAAAAAAAQAAAQAAAAABAAAFAAAAAAEA\n",
       "AAIAAAAAAQAAAAAAAAABAAABAAAAAAEAAAUAAAAAAQAAAgAAAAABAAAAAAAAAAEAAAEAAAAAAQAA\n",
       "BQAAAAABAAACAAAAAAEAAAAAAAAAAQAAAQAAAAABAAADAAAAAAEAAAEAAAAAAQAABQAAAAABAAAC\n",
       "AAAAAAEAAAAAAAAAAQAAAQAAAAABAAAFAAAAAAEAAAIAAAAAAQAAAAAAAAABAAABAAAAAAEAAAUA\n",
       "AAAAAQAAAgAAAAABAAAAAAAAAAEAAAEAAAAAAQAABQAAAAABAAACAAAAAAEAAAAAAAAAAQAAAQAA\n",
       "AAABAAAFAAAAAAEAAAIAAAAAAQAAAAAAAAABAAABAAAAAAEAAAUAAAAAAQAAAgAAAAABAAAAAAAA\n",
       "AAEAAAEAAAAAAQAABQAAAAABAAACAAAAAAEAAAAAAAAAAQAAAQAAAAABAAAFAAAAAAEAAAIAAAAA\n",
       "AQAAAAAAAAABAAABAAAAAAEAAAUAAAAAAQAAAgAAAAABAAAAAAAAAAEAAAEAAAAAAQAABQAAAAAB\n",
       "AAACAAAAAAEAAAAAAAAAAQAAAQAAAAABAAAFAAAAAAEAAAIAAAAAAQAAAAAAAAABAAABAAAAAAEA\n",
       "AAUAAAAAAQAAAgAAAAABAAAAAAAAAAEAAAEAAAAAAQAABQAAAAABAAACAAAAAAEAAAAAAAAAAQAA\n",
       "AQAAAAABAAAFAAAAAAEAAAIAAAAAAQAAAAAAAAABAAABAAAAAAEAAAUAAAAAAQAAAgAAAAABAAAA\n",
       "AAAAAAEAAAEAAAAAAQAABQAAAAABAAACAAAAAAEAAAAAAAAAAQAAAQAAAAABAAAFAAAAAAEAAAIA\n",
       "AAAAAQAAAAAAAAABAAABAAAAAAEAAAUAAAAAAQAAAgAAAAABAAAAAAAAAAEAAAEAAAAAAQAABQAA\n",
       "AAABAAACAAAAAAEAAAAAAAAAAQAAAQAAAAABAAAFAAAAAAEAAAIAAAAAAQAAAAAAAAABAAABAAAA\n",
       "AAEAAAUAAAAAAQAAAgAAAAABAAAAAAAAAAEAAAEAAAAAAQAABQAAAAABAAACAAAAAAEAAAAAAAAA\n",
       "AQAAAQAAAAABAAAFAAAAAAEAAAIAAAAAAQAAAAAAAAABAAABAAAAAAEAAAUAAAAAAQAAAgAAAAAB\n",
       "AAAAAAAAAAEAAAEAAAAAAQAABQAAAAABAAACAAAAAAEAAAAAAAAAAQAAAQAAAAABAAAFAAAAAAEA\n",
       "AAIAAAAAAQAAAAAAAAABAAABAAAAAAEAAAUAAAAAAQAAAgAAAAABAAAAAAAAAAEAAAEAAAAAAQAA\n",
       "BQAAAAABAAACAAAAAAEAAAAAAAAAAQAAAQAAAAABAAAFAAAAAAEAAAIAAAAAAQAAAAAAAAABAAAB\n",
       "AAAAAAEAAAUAAAAAAQAAAgAAAAABAAAAAAAAAAEAAAEAAAAAAQAABQAAAAABAAACAAAAAAEAAAAA\n",
       "AAAAAQAAAQAAAAABAAAFAAAAAAEAAAIAAAAAAQAAAAAAAAABAAABAAAAAAEAAAUAAAAAAQAAAgAA\n",
       "AAABAAAAAAAAAAEAAAEAAAAAAQAABQAAAAABAAACAAAAAAEAAAAAAAAAAQAAAQAAAAABAAAFAAAA\n",
       "AAEAAAIAAAAAAQAAAAAAAAABAAABAAAAAAEAAAUAAAAAAQAAAgAAAAABAAAAAAAAAAEAAAEAAAAA\n",
       "AQAABQAAAAABAAACAAAAAAEAAAAAAAAAAQAAAQAAAAABAAAFAAAAAAEAAAIAAAAAAQAAAAAAAAAB\n",
       "AAABAAAAAAEAAAUAAAAAAQAAAgAAAAABAAAAAAAAAAEAAAEAAAAAAQAAAgAAAAAcc3RzYwAAAAAA\n",
       "AAABAAAAAQAABa4AAAABAAAWzHN0c3oAAAAAAAAAAAAABa4AAA8lAAABsQAAAEAAAAA/AAAARwAA\n",
       "ACQAAAAwAAAAGAAAADkAAAAgAAAAGgAAABgAAAArAAAAFwAAABUAAAAPAAAAWgAAABwAAAATAAAA\n",
       "FQAAAKwAAAAbAAAAEwAAABMAAAAXAAAAEQAAAA8AAAAPAAAAFwAAABEAAAAPAAAADwAAABcAAAAR\n",
       "AAAADwAAAA8AAAAXAAAAEQAAAA8AAAAPAAAATQAAABcAAAARAAAAEwAAACQAAAAVAAAAEgAAABEA\n",
       "AAA8AAAAGQAAABMAAAAVAAAAFwAAABMAAAAQAAAAEQAAAFoAAAAaAAAAEAAAABYAAACAAAAAFwAA\n",
       "ABIAAAATAAAAFwAAABMAAAAQAAAAEQAAAGkAAAAYAAAAEAAAABUAAABiAAAAGAAAABAAAAAWAAAA\n",
       "gAAAABgAAAAWAAAAEQAAAEkAAAAaAAAARQAAABYAAAATAAAAEQAAAIwAAAAWAAAAEwAAABEAAAA2\n",
       "AAAAFQAAABIAAAARAAAAJAAAABUAAAAQAAAAFAAAAHEAAAAbAAAAHAAAABEAAAA2AAAAGAAAABAA\n",
       "AAAVAAAAJgAAABMAAAAQAAAAEQAAAH4AAAAlAAAAFAAAABQAAAD5AAAAHwAAADsAAAAWAAAAvwAA\n",
       "ACcAAAAdAAAAEgAAAGwAAAAYAAAAEAAAABUAAAAsAAAAEwAAABMAAAARAAAALAAAABMAAAAQAAAA\n",
       "EQAAAB4AAAATAAAAEAAAABEAAAB5AAAAHAAAABMAAAA1AAAAVAAAABkAAAAVAAAAEwAAACkAAAAW\n",
       "AAAAEgAAABEAAAAXAAAAEwAAABAAAAARAAAAmQAAAB4AAAAVAAAAEQAAADQAAAAVAAAAEgAAABEA\n",
       "AACEAAAAGAAAABAAAAAVAAAAQQAAABYAAAATAAAAEQAAAH4AAAAYAAAAFQAAABQAAAAcAAAAFQAA\n",
       "ABIAAAARAAAAFwAAABMAAAAQAAAAEQAAAEAAAAAWAAAAEwAAABEAAAAXAAAAEwAAABAAAAARAAAA\n",
       "HgAAABMAAAAQAAAAEQAAAG4AAAAXAAAAEAAAADEAAAAyAAAAFgAAABIAAAASAAAAFwAAABMAAAAQ\n",
       "AAAAEQAAABcAAAATAAAAEAAAABEAAAAXAAAAEwAAABAAAAARAAAAFwAAABMAAAAQAAAAEQAAADQA\n",
       "AAAXAAAAFQAAABEAAABjAAAAGQAAABIAAAAVAAAAHQAAABcAAAAQAAAAFAAAABcAAAATAAAAEAAA\n",
       "ABEAAAAXAAAAEwAAABAAAAARAAAAFwAAABMAAAAQAAAAEQAAABcAAAATAAAAEAAAABEAAACUAAAA\n",
       "GQAAABAAAAAVAAAPOAAAAdMAAABGAAAAMgAAACMAAABSAAAAIwAAABwAAAAVAAAAHQAAABIAAAAT\n",
       "AAAADwAAAB0AAAARAAAADwAAAA8AAAB2AAAAFQAAABMAAAAPAAAATAAAAD8AAAATAAAAEwAAABcA\n",
       "AAARAAAADwAAAA8AAABPAAAAFAAAABEAAAAPAAAAFwAAABEAAAAPAAAADwAAAHQAAAAUAAAAEQAA\n",
       "AA8AAACYAAAAGAAAABIAAAATAAAAbAAAABcAAAAPAAAAEwAAAHwAAAATAAAAEQAAAA8AAAA8AAAA\n",
       "FAAAAA8AAAASAAAAGwAAABIAAAAQAAAADwAAABcAAAARAAAADwAAAA8AAACEAAAAFgAAACYAAAAP\n",
       "AAAARgAAABMAAAARAAAADwAAAB4AAAARAAAADwAAAA8AAAAXAAAAEQAAAA8AAAAPAAAAWgAAABUA\n",
       "AAATAAAADwAAACcAAAARAAAADwAAAA8AAAAXAAAAEQAAAA8AAAAPAAAAKgAAABkAAAATAAAAEwAA\n",
       "AG0AAAAVAAAAEwAAAA8AAAAaAAAAEQAAAA8AAAAPAAAAFwAAABEAAAAPAAAADwAAAH4AAAAYAAAA\n",
       "EwAAABIAAAAXAAAAEQAAAA8AAAAPAAAAJAAAABQAAAAPAAAAEQAAAIQAAAAWAAAADwAAABMAAAAp\n",
       "AAAAFAAAAA8AAAASAAAAHgAAABMAAAAQAAAAEQAAABoAAAASAAAAEAAAAA8AAAAXAAAAEQAAAA8A\n",
       "AAAPAAAAFwAAABEAAAAPAAAADwAAABcAAAARAAAADwAAAA8AAABaAAAAHgAAABEAAAASAAAAIQAA\n",
       "ABQAAAARAAAADwAAACkAAAAXAAAAEwAAABAAAAA6AAAAFwAAABAAAAATAAAAnwAAABgAAAATAAAA\n",
       "EQAAAGcAAAAXAAAAFQAAABEAAAB2AAAAGQAAABUAAAAUAAAAIgAAABYAAAATAAAAEQAAAFcAAAAY\n",
       "AAAAEAAAABUAAAAeAAAAEwAAABAAAAARAAAASAAAABgAAAAQAAAAFQAAAEIAAAAZAAAAFQAAABQA\n",
       "AABJAAAAFwAAABUAAAARAAAAaAAAABgAAAAQAAAAFQAAADEAAAAZAAAAFgAAABEAAAAoAAAAFgAA\n",
       "ABAAAAAUAAAALQAAABYAAAASAAAAEwAAAF4AAAAXAAAAFQAAABEAAABLAAAAGwAAABUAAAAVAAAA\n",
       "HgAAABMAAAAQAAAAEQAAACMAAAAVAAAAEAAAABIAAABMAAAAHAAAABAAAAA0AAAARwAAABYAAAAT\n",
       "AAAAEQAAAB4AAAATAAAAEAAAABEAAABSAAAAGAAAABAAAAAfAAAAZAAADmIAAAHVAAAAUgAAACwA\n",
       "AAAlAAAAVgAAACQAAAAgAAAAFgAAACgAAAAWAAAAFgAAAA8AAABuAAAAFQAAABMAAAAPAAAAXAAA\n",
       "ACMAAAASAAAAEgAAADIAAAATAAAAEgAAAA8AAABTAAAAFQAAABMAAAAPAAAAFwAAABEAAAAPAAAA\n",
       "DwAAACAAAAARAAAADwAAAA8AAAA7AAAAEwAAABEAAAAPAAAAwAAAACoAAAAUAAAAEwAAADsAAAAY\n",
       "AAAAEwAAABAAAAAiAAAAEgAAABAAAAAPAAAAeAAAABYAAAAzAAAADwAAAFQAAAAWAAAADwAAABMA\n",
       "AAAkAAAAEgAAAA8AAAAPAAAAOgAAABMAAAARAAAADwAAABcAAAARAAAADwAAAA8AAAAdAAAAEQAA\n",
       "AA8AAAAPAAAAHwAAABMAAAAQAAAAJAAAABQAAAATAAAADwAAADMAAAAUAAAAEQAAAA8AAAAXAAAA\n",
       "EQAAAA8AAAAPAAAAFwAAABEAAAAPAAAADwAAAEUAAAAeAAAAEgAAABAAAABeAAAAGAAAABAAAAAT\n",
       "AAAAGwAAABEAAAARAAAADwAAABcAAAARAAAADwAAAA8AAAAXAAAAEQAAAA8AAAAPAAAAVQAAABcA\n",
       "AAATAAAAEAAAABoAAAASAAAAEAAAAA8AAAAXAAAAEQAAAA8AAAAPAAAAOwAAABMAAAARAAAADwAA\n",
       "ABcAAAARAAAADwAAAA8AAAAXAAAAEQAAAA8AAAAPAAAAFwAAABEAAAAPAAAADwAAAB0AAAARAAAA\n",
       "DwAAAA8AAABSAAAAFgAAAA8AAAAWAAAAFwAAABEAAAAPAAAADwAAADsAAAAWAAAADwAAABMAAAAl\n",
       "AAAAEQAAAA8AAAAPAAAAIAAAABEAAAAPAAAADwAAAH0AAAAWAAAAGAAAAA8AAAAjAAAAEQAAAA8A\n",
       "AAAPAAAAoAAAABQAAAAPAAAAFwAAAJsAAAAUAAAAEQAAAA8AAAAcAAAAEgAAABAAAAAPAAAAVwAA\n",
       "ABYAAAAPAAAAEwAAAB4AAAARAAAADwAAAA8AAAAhAAAAFAAAAA8AAAASAAAAIAAAABkAAAATAAAA\n",
       "EwAAACAAAAAZAAAAEwAAABMAAAAgAAAAGQAAABMAAAATAAAAIAAAABkAAAATAAAAEwAAACoAAAAe\n",
       "AAAAEwAAABgAAAAjAAAAGwAAABYAAAAWAAAAXAAAACAAAAAYAAAAFgAAACMAAAAbAAAAEwAAABYA\n",
       "AAA4AAAAHgAAABUAAABVAAAAIAAAABoAAAAYAAAAKgAAAB0AAAAYAAAAFgAAACUAAAAbAAAAFQAA\n",
       "ABMAAAAuAAAAGQAAABMAAA3yAAABVgAAAEwAAAAuAAAAIgAAAFoAAAApAAAAIgAAABoAAAAkAAAA\n",
       "GgAAABoAAAAQAAAAXgAAABwAAAAVAAAAEwAAACEAAAAVAAAAEgAAABAAAAAfAAAAFgAAABAAAAAT\n",
       "AAAAFwAAABMAAAAQAAAAEAAAACYAAAAVAAAAEAAAABIAAAAnAAAAFQAAABIAAAASAAAAKgAAABUA\n",
       "AAASAAAAEAAAAGYAAAAZAAAAFgAAABAAAABJAAAAFwAAABUAAAAQAAAAFwAAABMAAAAQAAAAEAAA\n",
       "ABcAAAATAAAAEAAAABAAAAAXAAAAEwAAABAAAAAQAAAALAAAABcAAAAVAAAAEAAAABcAAAATAAAA\n",
       "EAAAABAAAAAXAAAAEwAAABAAAAAQAAAAFwAAABMAAAAQAAAAEAAAAB8AAAATAAAAEAAAABAAAABY\n",
       "AAAAGAAAABMAAAASAAAAXAAAABgAAAASAAAAFQAAACoAAAAVAAAAEgAAABIAAABLAAAAFwAAABIA\n",
       "AAAVAAAAdQAAABcAAAAVAAAAEAAAALoAAAAbAAAAEwAAABUAAAB3AAAAGQAAABUAAAAQAAAAFwAA\n",
       "ABUAAAAQAAAAEAAAAE4AAAAhAAAAXwAAABcAAAAVAAAAEAAAAGAAAAAWAAAAEwAAABAAAAAdAAAA\n",
       "EwAAABAAAAAQAAAAXgAAABYAAAAQAAAAEwAAABcAAAATAAAAEAAAABAAAABmAAAAGAAAABUAAAAS\n",
       "AAAAGgAAABUAAAASAAAAEAAAAHEAAAAWAAAAEAAAAB0AAAA9AAAAFgAAABMAAAAQAAAAYAAAABYA\n",
       "AAATAAAAEAAAAF4AAAAbAAAAFQAAABUAAABDAAAAGQAAABAAAAAVAAAAUwAAABkAAAAVAAAAEgAA\n",
       "AGsAAAAZAAAAFwAAABAAAAAXAAAAEwAAABAAAAAQAAAAIQAAABMAAAAQAAAAEAAAABcAAAATAAAA\n",
       "EAAAABAAAAAXAAAAEwAAABAAAAAQAAAAKAAAABYAAAATAAAAEAAAABcAAAATAAAAEAAAABAAAAAb\n",
       "AAAAEwAAABAAAAAQAAAAcAAAAD4AAAAWAAAAEwAAABAAAAAXAAAAEwAAABAAAAAQAAAAOwAAABcA\n",
       "AAAVAAAAEAAAAD8AAAAXAAAAFQAAABAAAAAXAAAAEwAAABAAAAAQAAAAFwAAABMAAAAQAAAAEAAA\n",
       "ACAAAAATAAAAEAAAABAAAAAXAAAAEwAAABAAAAAQAAAAFwAAABMAAAAQAAAAEAAAACUAAAAWAAAA\n",
       "EAAAABMAAAAXAAAAEwAAABAAAAAQAAAAZgAAABsAAAAVAAAAEgAAAE4AAAAWAAANIAAAAUIAAABY\n",
       "AAAAPgAAAC8AAABdAAAALgAAACAAAAAUAAAAYwAAABoAAAAVAAAAFQAAADgAAAAWAAAAEwAAABAA\n",
       "AAAaAAAAEgAAABAAAAAPAAAAFwAAABEAAAAPAAAADwAAABcAAAARAAAADwAAAA8AAABJAAAAGAAA\n",
       "AA8AAAAVAAAAPwAAABUAAAATAAAAEQAAACYAAAAUAAAAEAAAABEAAAAhAAAAEgAAABAAAAAPAAAA\n",
       "SAAAABcAAAAXAAAAUAAAABgAAAASAAAAEwAAAB0AAAARAAAADwAAAA8AAABYAAAAFQAAABMAAAAP\n",
       "AAAAXgAAABQAAAA8AAAAEwAAABIAAAAPAAAAFwAAABEAAAAPAAAADwAAABcAAAARAAAADwAAAA8A\n",
       "AABWAAAAFAAAABEAAAAPAAAAIQAAABEAAAAPAAAADwAAAGoAAAAjAAAAFAAAABIAAAAyAAAAFAAA\n",
       "ABEAAAAPAAAAOQAAABMAAAATAAAAEQAAADsAAAAXAAAADwAAABYAAABzAAAAFwAAABIAAAATAAAA\n",
       "cAAAABsAAAAqAAAAZwAAAB4AAAAYAAAAEgAAAHgAAAAiAAAAFwAAABQAAAAqAAAAFAAAABEAAAAQ\n",
       "AAAAGgAAABIAAAAQAAAADwAAAEoAAAAWAAAADwAAABMAAAAcAAAAEgAAABAAAAAPAAAAIAAAABYA\n",
       "AAAPAAAAEwAAABcAAAARAAAADwAAAA8AAAAcAAAAEQAAAA8AAAAPAAAAYgAAABYAAAAPAAAAEwAA\n",
       "ABcAAAARAAAADwAAAA8AAAAjAAAAEQAAAA8AAAAPAAAAJQAAABIAAAAPAAAADwAAADcAAAAWAAAA\n",
       "EQAAABQAAAApAAAAFAAAABAAAAAQAAAAHQAAABIAAAAQAAAADwAAACQAAAARAAAADwAAAA8AAAAc\n",
       "AAAAEQAAAA8AAAAPAAAAFwAAABEAAAAPAAAADwAAAGMAAAAVAAAAEAAAABIAAAAuAAAAFAAAABMA\n",
       "AAAPAAAAQwAAABUAAAATAAAADwAAABcAAAARAAAADwAAAA8AAAAeAAAAEQAAAA8AAAAPAAAAYgAA\n",
       "ABoAAAAPAAAAFwAAABoAAAASAAAAEAAAAA8AAAAXAAAAEQAAAA8AAAAPAAAAZAAAABgAAAATAAAA\n",
       "EwAAACYAAAATAAAAEAAAABAAAABFAAAAGgAAABUAAAAUAAAATgAAABkAAAAQAAAAFAAAAHkAAAAZ\n",
       "AAAAFQAAABAAAAAoAAAAFQAAABAAAAAQAAAAfAAAABoAAAATAAAAFQAAAIUAAAAaAAAAJAAAABQA\n",
       "AABzAAAAFgAAABMAAAAQAAAAFgAAC4wAAAExAAAASAAAACsAAAAgAAAAtgAAACgAAAAiAAAAGQAA\n",
       "ACgAAAAXAAAAFgAAABAAAAAdAAAAEwAAABAAAAAQAAAAJAAAABMAAAAQAAAAEAAAABoAAAATAAAA\n",
       "EAAAABAAAACxAAAAGAAAABAAAAAVAAAALgAAABUAAAASAAAAEAAAAFYAAAAYAAAAEAAAABcAAAAf\n",
       "AAAAFwAAABIAAAAQAAAAFwAAABUAAAAQAAAAEAAAAGIAAAAXAAAAkQAAACsAAAA6AAAAFAAAACQA\n",
       "AAAWAAAAEQAAAA8AAABBAAAAGAAAABMAAAAQAAAAZgAAABsAAAAQAAAAFQAAACcAAAAVAAAAEAAA\n",
       "AA8AAAAdAAAAEwAAAA8AAAAPAAAAHwAAABMAAAAPAAAADwAAAEUAAAAYAAAAFwAAAA8AAAAXAAAA\n",
       "EwAAAA8AAAAPAAAAFwAAABMAAAAPAAAADwAAABcAAAATAAAADwAAAA8AAAAXAAAAEwAAAA8AAAAP\n",
       "AAAAIQAAABMAAAAPAAAADwAAAG8AAAAWAAAAEQAAAA8AAACYAAAAHgAAABQAAAAPAAAAKAAAABUA\n",
       "AAAQAAAADwAAABcAAAATAAAADwAAAA8AAAAXAAAAEwAAAA8AAAAPAAAAFwAAABMAAAAPAAAADwAA\n",
       "ACAAAAAVAAAADwAAAA8AAAAXAAAAEwAAAA8AAAAPAAAAlAAAABsAAAARAAAAEwAAAB4AAAAVAAAA\n",
       "EAAAAA8AAAAcAAAAEwAAAA8AAAAPAAAAHAAAABMAAAAPAAAADwAAACoAAAAYAAAADwAAABMAAAAc\n",
       "AAAAEwAAAA8AAAAPAAAAGwAAABMAAAAPAAAADwAAABsAAAATAAAADwAAAA8AAAAbAAAAEwAAAA8A\n",
       "AAAPAAAAFwAAABMAAAAPAAAADwAAAIcAAAAYAAAADwAAABMAAAAXAAAAEwAAAA8AAAAPAAAAFwAA\n",
       "ABMAAAAPAAAADwAAAGgAAAAYAAAADwAAABMAAAA/AAAAFwAAABMAAAAPAAAAHQAAABYAAAASAAAA\n",
       "DwAAABcAAAATAAAADwAAAA8AAAAYAAAAEwAAAA8AAAAPAAAALAAAABRzdGNvAAAAAAAAAAEAAAAw\n",
       "AAAAYnVkdGEAAABabWV0YQAAAAAAAAAhaGRscgAAAAAAAAAAbWRpcmFwcGwAAAAAAAAAAAAAAAAt\n",
       "aWxzdAAAACWpdG9vAAAAHWRhdGEAAAABAAAAAExhdmY1OC43Ni4xMDA=\n",
       "\">\n",
       "  Your browser does not support the video tag.\n",
       "</video>"
      ],
      "text/plain": [
       "<IPython.core.display.HTML object>"
      ]
     },
     "execution_count": 126,
     "metadata": {},
     "output_type": "execute_result"
    }
   ],
   "source": [
    "import matplotlib.pyplot as plt\n",
    "from matplotlib import animation\n",
    "from IPython.display import HTML\n",
    "\n",
    "condition = [1, 1]\n",
    "repeatitions = width * height\n",
    "model_path = \"me_non_conditional_cascade\"\n",
    "\n",
    "\n",
    "model = torch.load(os.path.join(model_path, \"model\"))\n",
    "start = binary_init(width, height)\n",
    "fig = plt.figure()\n",
    "plt.axis('off')\n",
    "im = plt.imshow(np.pad(start,1))\n",
    "print(fitness(start, None))\n",
    "print(behaviors(start, None))\n",
    "\n",
    "frames = []\n",
    "done = False\n",
    "level = start.copy()\n",
    "for i in range(repeatitions):\n",
    "    for y in range(height):\n",
    "        for x in range(width):\n",
    "            obs = transform_input(level, {\"x\":x,\"y\":y}, window_size)\n",
    "            targets = np.array(condition)\n",
    "            action = model(torch.tensor(obs.reshape(1,1,window_size,window_size)).float(),\\\n",
    "                           torch.tensor(targets.reshape(1,-1)).float()).argmax().item()\n",
    "            if action > 0:\n",
    "                level[y][x] = action - 1\n",
    "            \n",
    "            frames.append(level.copy())\n",
    "            if get_number_regions(level, [1]) == 1:\n",
    "                print(f\"One Region: {i}\")\n",
    "                done = True\n",
    "                break\n",
    "        if done:\n",
    "            break\n",
    "    if done:\n",
    "        break\n",
    "print(fitness(level, None))\n",
    "print(behaviors(level, None))\n",
    "    \n",
    "def init_display():\n",
    "    im.set_data(np.pad(start,1))\n",
    "    return [im]\n",
    "\n",
    "def animate_display(i):\n",
    "    im.set_data(np.pad(frames[i],1))\n",
    "    return [im]\n",
    "\n",
    "anim = animation.FuncAnimation(fig, animate_display, init_func=init_display,\\\n",
    "                               frames=len(frames), interval=20, blit=True)\n",
    "plt.close(anim._fig)\n",
    "\n",
    "# Call function to display the animation\n",
    "HTML(anim.to_html5_video())"
   ]
  },
  {
   "cell_type": "code",
   "execution_count": null,
   "id": "9a394a0b",
   "metadata": {},
   "outputs": [],
   "source": []
  }
 ],
 "metadata": {
  "kernelspec": {
   "display_name": "Python 3 (ipykernel)",
   "language": "python",
   "name": "python3"
  },
  "language_info": {
   "codemirror_mode": {
    "name": "ipython",
    "version": 3
   },
   "file_extension": ".py",
   "mimetype": "text/x-python",
   "name": "python",
   "nbconvert_exporter": "python",
   "pygments_lexer": "ipython3",
   "version": "3.8.12"
  }
 },
 "nbformat": 4,
 "nbformat_minor": 5
}
